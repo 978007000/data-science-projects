{
 "cells": [
  {
   "cell_type": "markdown",
   "metadata": {},
   "source": [
    "# Final Project - MeetUp - API"
   ]
  },
  {
   "cell_type": "markdown",
   "metadata": {},
   "source": [
    "## No need to install on EC2:\n",
    "\n",
    "`pip install meetup-api`\n",
    "\n",
    "because we will use `requests.get()`\n",
    "\n",
    "`request = requests.get(\"http://api.meetup.com/2/groups\",params=params)`\n",
    "\n",
    "and passing the parameters of the information we want to return.\n",
    "\n",
    "### API credentials are stored in a `.yml` file:\n",
    "\n",
    "`api_meetup_cred.yml`\n",
    "\n",
    "<img src=\"images/api-yml.jpg\" />\n",
    "\n",
    "### Documentation: https://www.meetup.com/meetup_api/docs/2/groups/\n",
    "\n",
    "<img src=\"images/api-1.jpg\" />\n",
    "<img src=\"images/api-2.jpg\" />\n",
    "<img src=\"images/api-3.jpg\" />"
   ]
  },
  {
   "cell_type": "code",
   "execution_count": null,
   "metadata": {
    "collapsed": true
   },
   "outputs": [],
   "source": []
  }
 ],
 "metadata": {
  "kernelspec": {
   "display_name": "Python [dsci6007]",
   "language": "python",
   "name": "Python [dsci6007]"
  },
  "language_info": {
   "codemirror_mode": {
    "name": "ipython",
    "version": 2
   },
   "file_extension": ".py",
   "mimetype": "text/x-python",
   "name": "python",
   "nbconvert_exporter": "python",
   "pygments_lexer": "ipython2",
   "version": "2.7.12"
  }
 },
 "nbformat": 4,
 "nbformat_minor": 0
}
