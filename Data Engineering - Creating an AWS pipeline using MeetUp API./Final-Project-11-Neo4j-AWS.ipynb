{
 "cells": [
  {
   "cell_type": "markdown",
   "metadata": {},
   "source": [
    "# Creating and connecting to Neo4j in AWS."
   ]
  },
  {
   "cell_type": "markdown",
   "metadata": {},
   "source": [
    "## Installing Neo4j in EC2 instance:\n",
    "\n",
    "http://debian.neo4j.org/?_ga=1.16696689.616453962.1489018485\n",
    "\n",
    "### Run this on EC2 command line:\n",
    "\n",
    "`wget -O - https://debian.neo4j.org/neotechnology.gpg.key | sudo apt-key add -\n",
    "echo 'deb https://debian.neo4j.org/repo stable/' | sudo tee /etc/apt/sources.list.d/neo4j.list\n",
    "sudo apt-get update`"
   ]
  },
  {
   "cell_type": "markdown",
   "metadata": {},
   "source": [
    "### Data will be found here: `/var/lib/neo4j/data`\n",
    "\n",
    "### Binaries here: `/usr/bin/neo4j`\n",
    "\n",
    "### Configuration file here: `/etc/neo4j/neo4j.conf`\n",
    "\n",
    "#### go to `/etc/neo4j/` and run `sudo nano neo4j.conf`\n",
    "\n",
    "uncomment the following lines:\n",
    "\n",
    "`dbms.active_database=graph.db\n",
    "dbms.connector.http.listen_address=:7474\n",
    "dbms.connector.https.listen_address=:7473`"
   ]
  },
  {
   "cell_type": "markdown",
   "metadata": {},
   "source": [
    "### On AWS console, go to the security groups of the EC2 instance and allow inbound TCP traffic for ports 7474 and 7473 from any IP address.\n",
    "\n",
    "#### Looking at the `neo4j.conf file` (`cat /etc/neo4j/neo4j.conf `) we find these paths of directories in the installation:\n",
    "\n",
    "`dbms.directories.data=/var/lib/neo4j/data\n",
    "dbms.directories.plugins=/var/lib/neo4j/plugins\n",
    "dbms.directories.certificates=/var/lib/neo4j/certificates\n",
    "dbms.directories.logs=/var/log/neo4j\n",
    "dbms.directories.lib=/usr/share/neo4j/lib\n",
    "dbms.directories.run=/var/run/neo4j`\n",
    "\n",
    "### Start/stop the DB:\n",
    "\n",
    "#### To start the neo4j database service:\n",
    "\n",
    "`udo service neo4j start`\n",
    "\n",
    "#### To stop the neo4j database service:\n",
    "\n",
    "`udo service neo4j stop`\n",
    "\n",
    "#### To display the status of the neo4j database service:\n",
    "\n",
    "`sudo service neo4j status`\n",
    "\n",
    "### NOTE: everytime we make a change on `/etc/neo4j/neo4j.conf`, we need to stop the database service (if it was running), and then start it again."
   ]
  },
  {
   "cell_type": "markdown",
   "metadata": {},
   "source": [
    "### Navigate to:\n",
    "\n",
    "http://ec2-54-91-189-236.compute-1.amazonaws.com:7474/browser/\n",
    "\n",
    "<img src=\"images/neo-1.jpg\" />"
   ]
  },
  {
   "cell_type": "markdown",
   "metadata": {},
   "source": [
    "#### Note: default username/password is user:neo4j, password:neo4j\n",
    "\n",
    "If it doesn't log in, then delete the `/var/lib/neo4j/data/dbms/auth` file and restart the db.\n",
    "\n",
    "### Example of creating a DB:\n",
    "\n",
    "<img src=\"images/neo-2.jpg\" />\n",
    "<img src=\"images/neo-3.jpg\" />"
   ]
  },
  {
   "cell_type": "markdown",
   "metadata": {},
   "source": [
    "### References:\n",
    "\n",
    "https://marcobonzanini.com/2015/04/06/getting-started-with-neo4j-and-python/\n",
    "\n",
    "https://dzone.com/articles/how-deploy-neo4j-instance\n",
    "\n",
    "https://neo4j.com/docs/operations-manual/current/configuration/file-locations/\n",
    "\n",
    "https://strendly.wordpress.com/2015/04/01/graph-database-neo4j-on-aws/\n",
    "\n",
    "http://optimalbi.com/blog/2016/03/15/how-to-install-neo4j-on-aws-linux/"
   ]
  },
  {
   "cell_type": "markdown",
   "metadata": {
    "collapsed": true
   },
   "source": [
    "### To interact with python, we need to install on EC2: `pip install neo4jrestclient`\n",
    "\n",
    "`ssh -i ~/ssh/dsci6007_cpm.pem ubuntu@ec2-54-91-189-236.compute-1.amazonaws.com`\n",
    "\n",
    "`scp -i ~/ssh/dsci6007_cpm.pem /Users/carles/api_neo4j_cred.yml ubuntu@ec2-54-91-189-236.compute-1.amazonaws.com:~`\n",
    "\n",
    "`scp -i ~/ssh/dsci6007_cpm.pem /Users/carles/neo4j_meetup.py ubuntu@ec2-54-91-189-236.compute-1.amazonaws.com:~`\n",
    "\n",
    "### The credentials yaml file looks like:\n",
    "\n",
    "<img src=\"images/n-y.jpg\" />\n",
    "\n",
    "one is for the Neo4j instance on local Mac, the second one for the Neo4j instance set up on EC2.\n",
    "\n",
    "### We run this script on EC2: `python neo4j_meetup.py`\n",
    "\n",
    "<img src=\"images/n-m.jpg\" />"
   ]
  },
  {
   "cell_type": "code",
   "execution_count": null,
   "metadata": {
    "collapsed": true
   },
   "outputs": [],
   "source": []
  }
 ],
 "metadata": {
  "anaconda-cloud": {},
  "kernelspec": {
   "display_name": "Python [dsci6007]",
   "language": "python",
   "name": "Python [dsci6007]"
  },
  "language_info": {
   "codemirror_mode": {
    "name": "ipython",
    "version": 2
   },
   "file_extension": ".py",
   "mimetype": "text/x-python",
   "name": "python",
   "nbconvert_exporter": "python",
   "pygments_lexer": "ipython2",
   "version": "2.7.12"
  }
 },
 "nbformat": 4,
 "nbformat_minor": 0
}
