{
 "cells": [
  {
   "cell_type": "markdown",
   "metadata": {
    "deletable": true,
    "editable": true
   },
   "source": [
    "# Final Project: MeetUp DataFrames."
   ]
  },
  {
   "cell_type": "code",
   "execution_count": 1,
   "metadata": {
    "collapsed": true,
    "deletable": true,
    "editable": true
   },
   "outputs": [],
   "source": [
    "reset -fs"
   ]
  },
  {
   "cell_type": "code",
   "execution_count": 14,
   "metadata": {
    "collapsed": false,
    "deletable": true,
    "editable": true
   },
   "outputs": [],
   "source": [
    "import json\n",
    "from pyspark.sql.functions import explode\n",
    "from pyspark.sql.functions import col\n",
    "from datetime import datetime"
   ]
  },
  {
   "cell_type": "code",
   "execution_count": 2,
   "metadata": {
    "collapsed": false,
    "deletable": true,
    "editable": true
   },
   "outputs": [],
   "source": [
    "df = spark.read.json(\"s3a://dsci6007-firehose-final-project/meet_up2017/02/13/22/dsci6007_firehose_meet_up-1-2017-02-13-22-39-18-15eb685e-17b3-4a6a-aefb-c7309eed423c\")"
   ]
  },
  {
   "cell_type": "code",
   "execution_count": 17,
   "metadata": {
    "collapsed": true,
    "deletable": true,
    "editable": true
   },
   "outputs": [],
   "source": [
    "#df = spark.read.json(\"s3a://dsci6007-firehose-final-project/meet_up2017/02/*/*/*\")"
   ]
  },
  {
   "cell_type": "code",
   "execution_count": 3,
   "metadata": {
    "collapsed": false,
    "deletable": true,
    "editable": true
   },
   "outputs": [],
   "source": [
    "results_df_1 = df.select('results')"
   ]
  },
  {
   "cell_type": "code",
   "execution_count": 4,
   "metadata": {
    "collapsed": false,
    "deletable": true,
    "editable": true
   },
   "outputs": [
    {
     "name": "stdout",
     "output_type": "stream",
     "text": [
      "+--------------------+--------------------+\n",
      "|                  id|                city|\n",
      "+--------------------+--------------------+\n",
      "|[18590249, 185903...|[Mountain View, S...|\n",
      "+--------------------+--------------------+\n",
      "\n"
     ]
    }
   ],
   "source": [
    "df.select('results.id', 'results.city').show()"
   ]
  },
  {
   "cell_type": "code",
   "execution_count": 6,
   "metadata": {
    "collapsed": false,
    "deletable": true,
    "editable": true
   },
   "outputs": [
    {
     "data": {
      "text/plain": [
       "StructType(List(StructField(results,ArrayType(StructType(List(StructField(category,StructType(List(StructField(id,LongType,true),StructField(name,StringType,true),StructField(shortname,StringType,true))),true),StructField(city,StringType,true),StructField(country,StringType,true),StructField(created,LongType,true),StructField(description,StringType,true),StructField(group_photo,StructType(List(StructField(base_url,StringType,true),StructField(highres_link,StringType,true),StructField(photo_id,LongType,true),StructField(photo_link,StringType,true),StructField(thumb_link,StringType,true),StructField(type,StringType,true))),true),StructField(id,LongType,true),StructField(join_mode,StringType,true),StructField(lat,DoubleType,true),StructField(link,StringType,true),StructField(lon,DoubleType,true),StructField(members,LongType,true),StructField(name,StringType,true),StructField(organizer,StructType(List(StructField(member_id,LongType,true),StructField(name,StringType,true),StructField(photo,StructType(List(StructField(base_url,StringType,true),StructField(highres_link,StringType,true),StructField(photo_id,LongType,true),StructField(photo_link,StringType,true),StructField(thumb_link,StringType,true),StructField(type,StringType,true))),true))),true),StructField(rating,DoubleType,true),StructField(state,StringType,true),StructField(timezone,StringType,true),StructField(topics,ArrayType(StructType(List(StructField(id,LongType,true),StructField(name,StringType,true),StructField(urlkey,StringType,true))),true),true),StructField(urlname,StringType,true),StructField(utc_offset,LongType,true),StructField(visibility,StringType,true),StructField(who,StringType,true))),true),true)))"
      ]
     },
     "execution_count": 6,
     "metadata": {},
     "output_type": "execute_result"
    }
   ],
   "source": [
    "results_df_1.schema"
   ]
  },
  {
   "cell_type": "markdown",
   "metadata": {
    "deletable": true,
    "editable": true
   },
   "source": [
    "`category, city, country, created, description, group_photo, id, join_mode, lat, link, lon, members, name, organizer, rating, state, timezone, topics, urlname, utc_offset, visibility, who;'`"
   ]
  },
  {
   "cell_type": "code",
   "execution_count": 8,
   "metadata": {
    "collapsed": false,
    "deletable": true,
    "editable": true
   },
   "outputs": [],
   "source": [
    "#results_df.select(results_df['results'][0]).show()"
   ]
  },
  {
   "cell_type": "code",
   "execution_count": 7,
   "metadata": {
    "collapsed": false,
    "deletable": true,
    "editable": true
   },
   "outputs": [
    {
     "name": "stdout",
     "output_type": "stream",
     "text": [
      "+--------------------+\n",
      "|             results|\n",
      "+--------------------+\n",
      "|[[[6,education/le...|\n",
      "+--------------------+\n",
      "\n"
     ]
    }
   ],
   "source": [
    "results_df_1.select(results_df_1['results']).show()"
   ]
  },
  {
   "cell_type": "code",
   "execution_count": 4,
   "metadata": {
    "collapsed": false,
    "deletable": true,
    "editable": true
   },
   "outputs": [],
   "source": [
    "results_df_2 = results_df_1.select(results_df_1['results'])"
   ]
  },
  {
   "cell_type": "markdown",
   "metadata": {
    "deletable": true,
    "editable": true
   },
   "source": [
    "## Trying to get meeting data row wise."
   ]
  },
  {
   "cell_type": "code",
   "execution_count": 5,
   "metadata": {
    "collapsed": false,
    "deletable": true,
    "editable": true
   },
   "outputs": [
    {
     "name": "stdout",
     "output_type": "stream",
     "text": [
      "+---------+-------------+-------------------+-----------------+--------------------+--------------+\n",
      "|meetup_id|  meetup_city|         meetup_lon|       meetup_lat|         meetup_name|meetup_members|\n",
      "+---------+-------------+-------------------+-----------------+--------------------+--------------+\n",
      "| 18590249|Mountain View|-122.05000305175781|37.40999984741211|Bay Area PowerPoi...|            46|\n",
      "+---------+-------------+-------------------+-----------------+--------------------+--------------+\n",
      "\n"
     ]
    }
   ],
   "source": [
    "results_df_1.select(results_df_1['results']['id'][0].alias('meetup_id'), results_df_1['results']['city'][0].alias('meetup_city'),\n",
    "                    results_df_1['results']['lon'][0].alias('meetup_lon'), results_df_1['results']['lat'][0].alias('meetup_lat'),\n",
    "                   results_df_1['results']['name'][0].alias('meetup_name'), results_df_1['results']['members'][0].alias('meetup_members')).show()"
   ]
  },
  {
   "cell_type": "code",
   "execution_count": 6,
   "metadata": {
    "collapsed": false,
    "deletable": true,
    "editable": true
   },
   "outputs": [
    {
     "name": "stdout",
     "output_type": "stream",
     "text": [
      "+---------+-------------+--------------------+--------------+---------+-----------+\n",
      "|meetup_id|  meetup_city|         meetup_name|meetup_members|member_id|category_id|\n",
      "+---------+-------------+--------------------+--------------+---------+-----------+\n",
      "| 18590249|Mountain View|Bay Area PowerPoi...|            46|144430712|          6|\n",
      "+---------+-------------+--------------------+--------------+---------+-----------+\n",
      "\n"
     ]
    }
   ],
   "source": [
    "results_df_1.select(results_df_1['results']['id'][0].alias('meetup_id'), results_df_1['results']['city'][0].alias('meetup_city'),\n",
    "                   results_df_1['results']['name'][0].alias('meetup_name'), results_df_1['results']['members'][0].alias('meetup_members'),\n",
    "                   results_df_1['results']['organizer'][0]['member_id'].alias('member_id'),\n",
    "                   results_df_1['results']['category'][0]['id'].alias('category_id')).show()"
   ]
  },
  {
   "cell_type": "code",
   "execution_count": 39,
   "metadata": {
    "collapsed": false,
    "deletable": true,
    "editable": true
   },
   "outputs": [
    {
     "name": "stdout",
     "output_type": "stream",
     "text": [
      "+---------+-----------+--------------------+--------------+---------+-----------+\n",
      "|meetup_id|meetup_city|         meetup_name|meetup_members|member_id|category_id|\n",
      "+---------+-----------+--------------------+--------------+---------+-----------+\n",
      "| 18590368|   San Jose|Silicon Valley Fa...|           287|191340365|          8|\n",
      "+---------+-----------+--------------------+--------------+---------+-----------+\n",
      "\n"
     ]
    }
   ],
   "source": [
    "results_df_1.select(results_df_1['results']['id'][1].alias('meetup_id'), results_df_1['results']['city'][1].alias('meetup_city'),\n",
    "                   results_df_1['results']['name'][1].alias('meetup_name'), results_df_1['results']['members'][1].alias('meetup_members'),\n",
    "                   results_df_1['results']['organizer'][1]['member_id'].alias('member_id'),\n",
    "                   results_df_1['results']['category'][1]['id'].alias('category_id')).show()"
   ]
  },
  {
   "cell_type": "code",
   "execution_count": 40,
   "metadata": {
    "collapsed": false,
    "deletable": true,
    "editable": true
   },
   "outputs": [
    {
     "name": "stdout",
     "output_type": "stream",
     "text": [
      "+--------------------+--------------------+\n",
      "|             results|                  id|\n",
      "+--------------------+--------------------+\n",
      "|[[[6,education/le...|[18590249, 185903...|\n",
      "+--------------------+--------------------+\n",
      "\n"
     ]
    }
   ],
   "source": [
    "results_df_1.withColumn('id', results_df_1['results']['id']).show()"
   ]
  },
  {
   "cell_type": "code",
   "execution_count": 55,
   "metadata": {
    "collapsed": false,
    "deletable": true,
    "editable": true
   },
   "outputs": [
    {
     "name": "stdout",
     "output_type": "stream",
     "text": [
      "+--------------------+--------------------+\n",
      "|          meeting_id|                city|\n",
      "+--------------------+--------------------+\n",
      "|[18590249, 185903...|[Mountain View, S...|\n",
      "+--------------------+--------------------+\n",
      "\n"
     ]
    }
   ],
   "source": [
    "results_df_2.select(results_df_2['results']['id'].alias(\"meeting_id\"), results_df_2['results']['city'].alias(\"city\")).show()"
   ]
  },
  {
   "cell_type": "code",
   "execution_count": 56,
   "metadata": {
    "collapsed": false,
    "deletable": true,
    "editable": true
   },
   "outputs": [
    {
     "name": "stdout",
     "output_type": "stream",
     "text": [
      "+--------------------+--------------------+\n",
      "|          meeting_id|           member_id|\n",
      "+--------------------+--------------------+\n",
      "|[18590249, 185903...|[144430712, 19134...|\n",
      "+--------------------+--------------------+\n",
      "\n"
     ]
    }
   ],
   "source": [
    "results_df_2.select(results_df_2['results']['id'].alias(\"meeting_id\"), results_df_2['results']['organizer']['member_id'].alias(\"member_id\")).show()"
   ]
  },
  {
   "cell_type": "code",
   "execution_count": 57,
   "metadata": {
    "collapsed": false,
    "deletable": true,
    "editable": true
   },
   "outputs": [
    {
     "name": "stdout",
     "output_type": "stream",
     "text": [
      "+--------------------+--------------------+\n",
      "|         category_id|              topics|\n",
      "+--------------------+--------------------+\n",
      "|[6, 8, 31, 22, 34...|[[1001,Comedy,com...|\n",
      "|[6, 8, 31, 22, 34...|[[918,Fashionista...|\n",
      "|[6, 8, 31, 22, 34...|[[611,Wine,wine],...|\n",
      "|[6, 8, 31, 22, 34...|[[3336,Self-Impro...|\n",
      "|[6, 8, 31, 22, 34...|[[563,Open Source...|\n",
      "|[6, 8, 31, 22, 34...|[[85,Science,scie...|\n",
      "|[6, 8, 31, 22, 34...|[[129420,telugu l...|\n",
      "|[6, 8, 31, 22, 34...|[[9131,Indian Mus...|\n",
      "|[6, 8, 31, 22, 34...|[[1307,Investing,...|\n",
      "|[6, 8, 31, 22, 34...|[[1244,Expat Indi...|\n",
      "|[6, 8, 31, 22, 34...|[[226,Acting,acti...|\n",
      "|[6, 8, 31, 22, 34...|[[15472,Network S...|\n",
      "|[6, 8, 31, 22, 34...|[[2767,Book Club,...|\n",
      "|[6, 8, 31, 22, 34...|[[998,Jigsaw Puzz...|\n",
      "|[6, 8, 31, 22, 34...|[[1142,Current Ev...|\n",
      "|[6, 8, 31, 22, 34...|[[190,Apache,apac...|\n",
      "|[6, 8, 31, 22, 34...|[[885,Cashflow,ca...|\n",
      "|[6, 8, 31, 22, 34...|[[10296,Women in ...|\n",
      "|[6, 8, 31, 22, 34...|[[837,Expat Pakis...|\n",
      "|[6, 8, 31, 22, 34...|[[10009,White Hat...|\n",
      "+--------------------+--------------------+\n",
      "only showing top 20 rows\n",
      "\n"
     ]
    }
   ],
   "source": [
    "results_df_2.select(results_df_2['results']['category']['id'].alias(\"category_id\"), explode(results_df_2['results']['topics']).alias('topics')).show()"
   ]
  },
  {
   "cell_type": "code",
   "execution_count": 10,
   "metadata": {
    "collapsed": false,
    "deletable": true,
    "editable": true
   },
   "outputs": [
    {
     "name": "stdout",
     "output_type": "stream",
     "text": [
      "+----------+\n",
      "|meeting_id|\n",
      "+----------+\n",
      "|  18590249|\n",
      "|  18590368|\n",
      "|  18591434|\n",
      "|  18592202|\n",
      "|  18595535|\n",
      "|  18598085|\n",
      "|  18606378|\n",
      "|  18606597|\n",
      "|  18608064|\n",
      "|  18610196|\n",
      "|  18610714|\n",
      "|  18612333|\n",
      "|  18612956|\n",
      "|  18613756|\n",
      "|  18616150|\n",
      "|  18617234|\n",
      "|  18617833|\n",
      "|  18618051|\n",
      "|  18618871|\n",
      "|  18627258|\n",
      "+----------+\n",
      "only showing top 20 rows\n",
      "\n"
     ]
    }
   ],
   "source": [
    "results_df_2.select(explode(results_df_2['results']['id']).alias(\"meeting_id\")).show()"
   ]
  },
  {
   "cell_type": "code",
   "execution_count": 11,
   "metadata": {
    "collapsed": false,
    "deletable": true,
    "editable": true
   },
   "outputs": [
    {
     "name": "stdout",
     "output_type": "stream",
     "text": [
      "+-------------+\n",
      "|         city|\n",
      "+-------------+\n",
      "|Mountain View|\n",
      "|     San Jose|\n",
      "|    Sunnyvale|\n",
      "|     San Jose|\n",
      "|Mountain View|\n",
      "|    Cupertino|\n",
      "|Mountain View|\n",
      "|Mountain View|\n",
      "|  Santa Clara|\n",
      "|      Fremont|\n",
      "|  Santa Clara|\n",
      "|     San Jose|\n",
      "|     San Jose|\n",
      "|  Santa Clara|\n",
      "|Mountain View|\n",
      "|Mountain View|\n",
      "|     San Jose|\n",
      "|Mountain View|\n",
      "|  Santa Clara|\n",
      "|Mountain View|\n",
      "+-------------+\n",
      "only showing top 20 rows\n",
      "\n"
     ]
    }
   ],
   "source": [
    "results_df_2.select(explode(results_df_2['results']['city']).alias(\"city\")).show()"
   ]
  },
  {
   "cell_type": "code",
   "execution_count": 12,
   "metadata": {
    "collapsed": true,
    "deletable": true,
    "editable": true
   },
   "outputs": [],
   "source": [
    "df_id = results_df_2.select(explode(results_df_2['results']['id']).alias(\"meeting_id\"))"
   ]
  },
  {
   "cell_type": "code",
   "execution_count": 13,
   "metadata": {
    "collapsed": true,
    "deletable": true,
    "editable": true
   },
   "outputs": [],
   "source": [
    "df_city = results_df_2.select(explode(results_df_2['results']['city']).alias(\"city\"))"
   ]
  },
  {
   "cell_type": "code",
   "execution_count": 44,
   "metadata": {
    "collapsed": false,
    "deletable": true,
    "editable": true
   },
   "outputs": [
    {
     "name": "stdout",
     "output_type": "stream",
     "text": [
      "+--------------------+\n",
      "|        meeting_name|\n",
      "+--------------------+\n",
      "|Bay Area PowerPoi...|\n",
      "|Silicon Valley Fa...|\n",
      "|       חברותא בוואלי|\n",
      "|San Jose Family &...|\n",
      "|Silicon Valley Da...|\n",
      "|Cupertino Cleante...|\n",
      "|Mountain View Eng...|\n",
      "|Mountain View Car...|\n",
      "|Better Investing ...|\n",
      "|Bay Area Indian C...|\n",
      "|Bay Area Black Th...|\n",
      "|Bay Area IBM Secu...|\n",
      "|Book and Coffee -...|\n",
      "|    South Bay Cubers|\n",
      "|India - current a...|\n",
      "|Bay Area Apache F...|\n",
      "|Bay Area Turn-key...|\n",
      "|BOLD (Bay area Or...|\n",
      "|Silicon Valley & ...|\n",
      "|        IoT Security|\n",
      "+--------------------+\n",
      "only showing top 20 rows\n",
      "\n"
     ]
    }
   ],
   "source": [
    "results_df_2.select(explode(results_df_2['results']['name']).alias(\"meeting_name\")).show()"
   ]
  },
  {
   "cell_type": "code",
   "execution_count": 45,
   "metadata": {
    "collapsed": false,
    "deletable": true,
    "editable": true
   },
   "outputs": [
    {
     "name": "stdout",
     "output_type": "stream",
     "text": [
      "+--------------------+----------+\n",
      "|   meeting_name_list|meeting_id|\n",
      "+--------------------+----------+\n",
      "|[Bay Area PowerPo...|  18590249|\n",
      "|[Bay Area PowerPo...|  18590368|\n",
      "|[Bay Area PowerPo...|  18591434|\n",
      "|[Bay Area PowerPo...|  18592202|\n",
      "|[Bay Area PowerPo...|  18595535|\n",
      "|[Bay Area PowerPo...|  18598085|\n",
      "|[Bay Area PowerPo...|  18606378|\n",
      "|[Bay Area PowerPo...|  18606597|\n",
      "|[Bay Area PowerPo...|  18608064|\n",
      "|[Bay Area PowerPo...|  18610196|\n",
      "|[Bay Area PowerPo...|  18610714|\n",
      "|[Bay Area PowerPo...|  18612333|\n",
      "|[Bay Area PowerPo...|  18612956|\n",
      "|[Bay Area PowerPo...|  18613756|\n",
      "|[Bay Area PowerPo...|  18616150|\n",
      "|[Bay Area PowerPo...|  18617234|\n",
      "|[Bay Area PowerPo...|  18617833|\n",
      "|[Bay Area PowerPo...|  18618051|\n",
      "|[Bay Area PowerPo...|  18618871|\n",
      "|[Bay Area PowerPo...|  18627258|\n",
      "+--------------------+----------+\n",
      "only showing top 20 rows\n",
      "\n"
     ]
    }
   ],
   "source": [
    "results_df_2.select(results_df_2['results']['name'].alias('meeting_name_list'),explode(results_df_2['results']['id']).alias(\"meeting_id\")).show()"
   ]
  },
  {
   "cell_type": "code",
   "execution_count": 46,
   "metadata": {
    "collapsed": true,
    "deletable": true,
    "editable": true
   },
   "outputs": [],
   "source": [
    "xx=results_df_2.select(results_df_2['results']['name'].alias('meeting_name_list'),explode(results_df_2['results']['id']).alias(\"meeting_id\"))"
   ]
  },
  {
   "cell_type": "code",
   "execution_count": 47,
   "metadata": {
    "collapsed": false,
    "deletable": true,
    "editable": true
   },
   "outputs": [
    {
     "name": "stdout",
     "output_type": "stream",
     "text": [
      "+--------------------+----------+\n",
      "|   meeting_name_list|meeting_id|\n",
      "+--------------------+----------+\n",
      "|[Bay Area PowerPo...|  18590249|\n",
      "|[Bay Area PowerPo...|  18590368|\n",
      "|[Bay Area PowerPo...|  18591434|\n",
      "|[Bay Area PowerPo...|  18592202|\n",
      "|[Bay Area PowerPo...|  18595535|\n",
      "|[Bay Area PowerPo...|  18598085|\n",
      "|[Bay Area PowerPo...|  18606378|\n",
      "|[Bay Area PowerPo...|  18606597|\n",
      "|[Bay Area PowerPo...|  18608064|\n",
      "|[Bay Area PowerPo...|  18610196|\n",
      "|[Bay Area PowerPo...|  18610714|\n",
      "|[Bay Area PowerPo...|  18612333|\n",
      "|[Bay Area PowerPo...|  18612956|\n",
      "|[Bay Area PowerPo...|  18613756|\n",
      "|[Bay Area PowerPo...|  18616150|\n",
      "|[Bay Area PowerPo...|  18617234|\n",
      "|[Bay Area PowerPo...|  18617833|\n",
      "|[Bay Area PowerPo...|  18618051|\n",
      "|[Bay Area PowerPo...|  18618871|\n",
      "|[Bay Area PowerPo...|  18627258|\n",
      "+--------------------+----------+\n",
      "only showing top 20 rows\n",
      "\n"
     ]
    }
   ],
   "source": [
    "xx.show()"
   ]
  },
  {
   "cell_type": "code",
   "execution_count": 58,
   "metadata": {
    "collapsed": true,
    "deletable": true,
    "editable": true
   },
   "outputs": [],
   "source": [
    "yy = results_df_2.select(results_df_2['results']['id'].alias(\"meeting_id\"), results_df_2['results']['organizer']['member_id'].alias(\"member_id\"))"
   ]
  },
  {
   "cell_type": "code",
   "execution_count": 59,
   "metadata": {
    "collapsed": false,
    "deletable": true,
    "editable": true
   },
   "outputs": [
    {
     "name": "stdout",
     "output_type": "stream",
     "text": [
      "+--------------------+--------------------+\n",
      "|          meeting_id|           member_id|\n",
      "+--------------------+--------------------+\n",
      "|[18590249, 185903...|[144430712, 19134...|\n",
      "+--------------------+--------------------+\n",
      "\n"
     ]
    }
   ],
   "source": [
    "yy.show()"
   ]
  },
  {
   "cell_type": "code",
   "execution_count": 65,
   "metadata": {
    "collapsed": false,
    "deletable": true,
    "editable": true
   },
   "outputs": [
    {
     "name": "stdout",
     "output_type": "stream",
     "text": [
      "+--------------------+---------+\n",
      "|          meeting_id|member_id|\n",
      "+--------------------+---------+\n",
      "|[18590249, 185903...|144430712|\n",
      "|[18590249, 185903...|191340365|\n",
      "|[18590249, 185903...|  9789749|\n",
      "|[18590249, 185903...| 12785448|\n",
      "|[18590249, 185903...|132425752|\n",
      "|[18590249, 185903...|186352781|\n",
      "|[18590249, 185903...|116454702|\n",
      "|[18590249, 185903...|116454702|\n",
      "|[18590249, 185903...|  9003209|\n",
      "|[18590249, 185903...|  8931659|\n",
      "|[18590249, 185903...|187755094|\n",
      "|[18590249, 185903...|     null|\n",
      "|[18590249, 185903...| 11958769|\n",
      "|[18590249, 185903...| 14277841|\n",
      "|[18590249, 185903...| 73983192|\n",
      "|[18590249, 185903...| 16992611|\n",
      "|[18590249, 185903...| 43891272|\n",
      "|[18590249, 185903...| 23693311|\n",
      "|[18590249, 185903...| 12636179|\n",
      "|[18590249, 185903...|201071432|\n",
      "+--------------------+---------+\n",
      "only showing top 20 rows\n",
      "\n"
     ]
    }
   ],
   "source": [
    "yy.select(yy['meeting_id'], explode(yy['member_id']).alias('member_id')).show()"
   ]
  },
  {
   "cell_type": "code",
   "execution_count": 66,
   "metadata": {
    "collapsed": true,
    "deletable": true,
    "editable": true
   },
   "outputs": [],
   "source": [
    "zz=yy.select(yy['meeting_id'], explode(yy['member_id']).alias('member_id'))"
   ]
  },
  {
   "cell_type": "code",
   "execution_count": 68,
   "metadata": {
    "collapsed": false,
    "deletable": true,
    "editable": true
   },
   "outputs": [
    {
     "name": "stdout",
     "output_type": "stream",
     "text": [
      "+---------+--------+\n",
      "|member_id|     col|\n",
      "+---------+--------+\n",
      "|144430712|18590249|\n",
      "|144430712|18590368|\n",
      "|144430712|18591434|\n",
      "|144430712|18592202|\n",
      "|144430712|18595535|\n",
      "|144430712|18598085|\n",
      "|144430712|18606378|\n",
      "|144430712|18606597|\n",
      "|144430712|18608064|\n",
      "|144430712|18610196|\n",
      "|144430712|18610714|\n",
      "|144430712|18612333|\n",
      "|144430712|18612956|\n",
      "|144430712|18613756|\n",
      "|144430712|18616150|\n",
      "|144430712|18617234|\n",
      "|144430712|18617833|\n",
      "|144430712|18618051|\n",
      "|144430712|18618871|\n",
      "|144430712|18627258|\n",
      "+---------+--------+\n",
      "only showing top 20 rows\n",
      "\n"
     ]
    }
   ],
   "source": [
    "zz.select(zz['member_id'], explode(yy['meeting_id'])).show()"
   ]
  },
  {
   "cell_type": "markdown",
   "metadata": {
    "deletable": true,
    "editable": true
   },
   "source": [
    "https://aws.amazon.com/premiumsupport/knowledge-center/rds-import-data/\n",
    "\n",
    "http://docs.aws.amazon.com/AmazonRDS/latest/UserGuide/PostgreSQL.Procedural.Importing.html"
   ]
  },
  {
   "cell_type": "code",
   "execution_count": null,
   "metadata": {
    "collapsed": true,
    "deletable": true,
    "editable": true
   },
   "outputs": [],
   "source": []
  }
 ],
 "metadata": {
  "kernelspec": {
   "display_name": "Python 2",
   "language": "python",
   "name": "python2"
  },
  "language_info": {
   "codemirror_mode": {
    "name": "ipython",
    "version": 2
   },
   "file_extension": ".py",
   "mimetype": "text/x-python",
   "name": "python",
   "nbconvert_exporter": "python",
   "pygments_lexer": "ipython2",
   "version": "2.7.12"
  }
 },
 "nbformat": 4,
 "nbformat_minor": 2
}
