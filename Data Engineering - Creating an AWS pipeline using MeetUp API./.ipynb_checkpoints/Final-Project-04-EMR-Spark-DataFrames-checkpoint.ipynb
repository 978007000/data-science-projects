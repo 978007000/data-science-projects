{
 "cells": [
  {
   "cell_type": "markdown",
   "metadata": {
    "deletable": true,
    "editable": true
   },
   "source": [
    "# Final Project: MeetUp DataFrames."
   ]
  },
  {
   "cell_type": "code",
   "execution_count": 1,
   "metadata": {
    "collapsed": true,
    "deletable": true,
    "editable": true
   },
   "outputs": [],
   "source": [
    "reset -fs"
   ]
  },
  {
   "cell_type": "code",
   "execution_count": 14,
   "metadata": {
    "collapsed": false,
    "deletable": true,
    "editable": true
   },
   "outputs": [],
   "source": [
    "import json\n",
    "from pyspark.sql.functions import explode\n",
    "from pyspark.sql.functions import col\n",
    "from datetime import datetime"
   ]
  },
  {
   "cell_type": "code",
   "execution_count": 2,
   "metadata": {
    "collapsed": false,
    "deletable": true,
    "editable": true
   },
   "outputs": [],
   "source": [
    "df = spark.read.json(\"s3a://dsci6007-firehose-final-project/meet_up2017/02/13/22/dsci6007_firehose_meet_up-1-2017-02-13-22-39-18-15eb685e-17b3-4a6a-aefb-c7309eed423c\")"
   ]
  },
  {
   "cell_type": "code",
   "execution_count": 17,
   "metadata": {
    "collapsed": true,
    "deletable": true,
    "editable": true
   },
   "outputs": [],
   "source": [
    "#df = spark.read.json(\"s3a://dsci6007-firehose-final-project/meet_up2017/02/*/*/*\")"
   ]
  },
  {
   "cell_type": "code",
   "execution_count": 3,
   "metadata": {
    "collapsed": false,
    "deletable": true,
    "editable": true
   },
   "outputs": [],
   "source": [
    "results_df_1 = df.select('results')"
   ]
  },
  {
   "cell_type": "code",
   "execution_count": 4,
   "metadata": {
    "collapsed": false,
    "deletable": true,
    "editable": true
   },
   "outputs": [
    {
     "name": "stdout",
     "output_type": "stream",
     "text": [
      "+--------------------+--------------------+\n",
      "|                  id|                city|\n",
      "+--------------------+--------------------+\n",
      "|[18590249, 185903...|[Mountain View, S...|\n",
      "+--------------------+--------------------+\n",
      "\n"
     ]
    }
   ],
   "source": [
    "df.select('results.id', 'results.city').show()"
   ]
  },
  {
   "cell_type": "code",
   "execution_count": 6,
   "metadata": {
    "collapsed": false,
    "deletable": true,
    "editable": true
   },
   "outputs": [
    {
     "data": {
      "text/plain": [
       "StructType(List(StructField(results,ArrayType(StructType(List(StructField(category,StructType(List(StructField(id,LongType,true),StructField(name,StringType,true),StructField(shortname,StringType,true))),true),StructField(city,StringType,true),StructField(country,StringType,true),StructField(created,LongType,true),StructField(description,StringType,true),StructField(group_photo,StructType(List(StructField(base_url,StringType,true),StructField(highres_link,StringType,true),StructField(photo_id,LongType,true),StructField(photo_link,StringType,true),StructField(thumb_link,StringType,true),StructField(type,StringType,true))),true),StructField(id,LongType,true),StructField(join_mode,StringType,true),StructField(lat,DoubleType,true),StructField(link,StringType,true),StructField(lon,DoubleType,true),StructField(members,LongType,true),StructField(name,StringType,true),StructField(organizer,StructType(List(StructField(member_id,LongType,true),StructField(name,StringType,true),StructField(photo,StructType(List(StructField(base_url,StringType,true),StructField(highres_link,StringType,true),StructField(photo_id,LongType,true),StructField(photo_link,StringType,true),StructField(thumb_link,StringType,true),StructField(type,StringType,true))),true))),true),StructField(rating,DoubleType,true),StructField(state,StringType,true),StructField(timezone,StringType,true),StructField(topics,ArrayType(StructType(List(StructField(id,LongType,true),StructField(name,StringType,true),StructField(urlkey,StringType,true))),true),true),StructField(urlname,StringType,true),StructField(utc_offset,LongType,true),StructField(visibility,StringType,true),StructField(who,StringType,true))),true),true)))"
      ]
     },
     "execution_count": 6,
     "metadata": {},
     "output_type": "execute_result"
    }
   ],
   "source": [
    "results_df_1.schema"
   ]
  },
  {
   "cell_type": "markdown",
   "metadata": {
    "deletable": true,
    "editable": true
   },
   "source": [
    "`category, city, country, created, description, group_photo, id, join_mode, lat, link, lon, members, name, organizer, rating, state, timezone, topics, urlname, utc_offset, visibility, who;'`"
   ]
  },
  {
   "cell_type": "code",
   "execution_count": 8,
   "metadata": {
    "collapsed": false,
    "deletable": true,
    "editable": true
   },
   "outputs": [],
   "source": [
    "#results_df.select(results_df['results'][0]).show()"
   ]
  },
  {
   "cell_type": "code",
   "execution_count": 7,
   "metadata": {
    "collapsed": false,
    "deletable": true,
    "editable": true
   },
   "outputs": [
    {
     "name": "stdout",
     "output_type": "stream",
     "text": [
      "+--------------------+\n",
      "|             results|\n",
      "+--------------------+\n",
      "|[[[6,education/le...|\n",
      "+--------------------+\n",
      "\n"
     ]
    }
   ],
   "source": [
    "results_df_1.select(results_df_1['results']).show()"
   ]
  },
  {
   "cell_type": "code",
   "execution_count": 4,
   "metadata": {
    "collapsed": false,
    "deletable": true,
    "editable": true
   },
   "outputs": [],
   "source": [
    "results_df_2 = results_df_1.select(results_df_1['results'])"
   ]
  },
  {
   "cell_type": "markdown",
   "metadata": {
    "deletable": true,
    "editable": true
   },
   "source": [
    "## Get `category`."
   ]
  },
  {
   "cell_type": "code",
   "execution_count": 20,
   "metadata": {
    "collapsed": false,
    "deletable": true,
    "editable": true
   },
   "outputs": [
    {
     "name": "stdout",
     "output_type": "stream",
     "text": [
      "+--------------------+\n",
      "|                 col|\n",
      "+--------------------+\n",
      "|[16,language/ethn...|\n",
      "|[32,sports/recrea...|\n",
      "|[24,paranormal,pa...|\n",
      "|                null|\n",
      "|[15,hobbies/craft...|\n",
      "|[6,education/lear...|\n",
      "|    [21,music,music]|\n",
      "|      [12,LGBT,lgbt]|\n",
      "|[17,alternative l...|\n",
      "|    [11,games,games]|\n",
      "|[10,food/drink,fo...|\n",
      "|[29,sci-fi/fantas...|\n",
      "|[31,socializing,s...|\n",
      "|[26,pets/animals,...|\n",
      "|[13,movements/pol...|\n",
      "|[3,cars/motorcycl...|\n",
      "|[20,movies/film,m...|\n",
      "|[2,career/busines...|\n",
      "|[8,fashion/beauty...|\n",
      "| [9,fitness,fitness]|\n",
      "+--------------------+\n",
      "only showing top 20 rows\n",
      "\n"
     ]
    }
   ],
   "source": [
    "results_df_2.select(explode(results_df_2['results']['category'])).distinct().show()"
   ]
  },
  {
   "cell_type": "code",
   "execution_count": 21,
   "metadata": {
    "collapsed": true,
    "deletable": true,
    "editable": true
   },
   "outputs": [],
   "source": [
    "results_df_2_1 = results_df_2.select(explode(results_df_2['results']['category'])).distinct()"
   ]
  },
  {
   "cell_type": "code",
   "execution_count": 25,
   "metadata": {
    "collapsed": false,
    "deletable": true,
    "editable": true
   },
   "outputs": [
    {
     "name": "stdout",
     "output_type": "stream",
     "text": [
      "+-----------+-------------------+--------------------+\n",
      "|category_id| category_shortname|       category_name|\n",
      "+-----------+-------------------+--------------------+\n",
      "|         16|           language|language/ethnic i...|\n",
      "|         32|  sports-recreation|   sports/recreation|\n",
      "|         24|         paranormal|          paranormal|\n",
      "|         15|     hobbies-crafts|      hobbies/crafts|\n",
      "|          6| education-learning|  education/learning|\n",
      "|         21|              music|               music|\n",
      "|         12|               lgbt|                LGBT|\n",
      "|         17|          lifestyle|alternative lifes...|\n",
      "|         11|              games|               games|\n",
      "|         10|         food-drink|          food/drink|\n",
      "|         29|     sci-fi-fantasy|      sci-fi/fantasy|\n",
      "|         31|        socializing|         socializing|\n",
      "|         26|       pets-animals|        pets/animals|\n",
      "|         13|government-politics|  movements/politics|\n",
      "|          3|   cars-motorcycles|    cars/motorcycles|\n",
      "|         20|        movies-film|         movies/film|\n",
      "|          2|    career-business|     career/business|\n",
      "|          8|     fashion-beauty|      fashion/beauty|\n",
      "|          9|            fitness|             fitness|\n",
      "|          1|       arts-culture|   fine arts/culture|\n",
      "+-----------+-------------------+--------------------+\n",
      "only showing top 20 rows\n",
      "\n"
     ]
    }
   ],
   "source": [
    "results_df_2_1.select(results_df_2_1.col['id'].alias('category_id'), results_df_2_1.col['shortname'].alias('category_shortname'), results_df_2_1.col['name'].alias('category_name')).where(results_df_2_1.col['id'].isNotNull()).show()"
   ]
  },
  {
   "cell_type": "code",
   "execution_count": 26,
   "metadata": {
    "collapsed": true,
    "deletable": true,
    "editable": true
   },
   "outputs": [],
   "source": [
    "category_df = results_df_2_1.select(results_df_2_1.col['id'].alias('category_id'), results_df_2_1.col['shortname'].alias('category_shortname'), results_df_2_1.col['name'].alias('category_name')).where(results_df_2_1.col['id'].isNotNull())"
   ]
  },
  {
   "cell_type": "code",
   "execution_count": 27,
   "metadata": {
    "collapsed": false,
    "deletable": true,
    "editable": true
   },
   "outputs": [
    {
     "name": "stdout",
     "output_type": "stream",
     "text": [
      "+-----------+-------------------+--------------------+\n",
      "|category_id| category_shortname|       category_name|\n",
      "+-----------+-------------------+--------------------+\n",
      "|         16|           language|language/ethnic i...|\n",
      "|         32|  sports-recreation|   sports/recreation|\n",
      "|         24|         paranormal|          paranormal|\n",
      "|         15|     hobbies-crafts|      hobbies/crafts|\n",
      "|          6| education-learning|  education/learning|\n",
      "|         21|              music|               music|\n",
      "|         12|               lgbt|                LGBT|\n",
      "|         17|          lifestyle|alternative lifes...|\n",
      "|         11|              games|               games|\n",
      "|         10|         food-drink|          food/drink|\n",
      "|         29|     sci-fi-fantasy|      sci-fi/fantasy|\n",
      "|         31|        socializing|         socializing|\n",
      "|         26|       pets-animals|        pets/animals|\n",
      "|         13|government-politics|  movements/politics|\n",
      "|          3|   cars-motorcycles|    cars/motorcycles|\n",
      "|         20|        movies-film|         movies/film|\n",
      "|          2|    career-business|     career/business|\n",
      "|          8|     fashion-beauty|      fashion/beauty|\n",
      "|          9|            fitness|             fitness|\n",
      "|          1|       arts-culture|   fine arts/culture|\n",
      "+-----------+-------------------+--------------------+\n",
      "only showing top 20 rows\n",
      "\n"
     ]
    }
   ],
   "source": [
    "category_df.show()"
   ]
  },
  {
   "cell_type": "code",
   "execution_count": 28,
   "metadata": {
    "collapsed": false,
    "deletable": true,
    "editable": true
   },
   "outputs": [
    {
     "name": "stdout",
     "output_type": "stream",
     "text": [
      "+--------------------+-----+\n",
      "|  category_shortname|count|\n",
      "+--------------------+-----+\n",
      "|    health-wellbeing|    1|\n",
      "|          book-clubs|    1|\n",
      "| government-politics|    1|\n",
      "|        pets-animals|    1|\n",
      "|               games|    1|\n",
      "|        arts-culture|    1|\n",
      "|                lgbt|    1|\n",
      "|          paranormal|    1|\n",
      "|      hobbies-crafts|    1|\n",
      "|    cars-motorcycles|    1|\n",
      "|         photography|    1|\n",
      "|      parents-family|    1|\n",
      "|     career-business|    1|\n",
      "|new-age-spirituality|    1|\n",
      "|   sports-recreation|    1|\n",
      "|           lifestyle|    1|\n",
      "|               music|    1|\n",
      "|             writing|    1|\n",
      "|          food-drink|    1|\n",
      "|             fitness|    1|\n",
      "+--------------------+-----+\n",
      "only showing top 20 rows\n",
      "\n"
     ]
    }
   ],
   "source": [
    "category_df.groupBy('category_shortname').count().sort(col(\"count\").desc()).show()"
   ]
  },
  {
   "cell_type": "code",
   "execution_count": 15,
   "metadata": {
    "collapsed": false,
    "deletable": true,
    "editable": true
   },
   "outputs": [],
   "source": [
    "category_count_df = category_df.groupBy('category_shortname').count().sort(col(\"count\").desc())"
   ]
  },
  {
   "cell_type": "markdown",
   "metadata": {
    "deletable": true,
    "editable": true
   },
   "source": [
    "### Export to Pandas."
   ]
  },
  {
   "cell_type": "code",
   "execution_count": 16,
   "metadata": {
    "collapsed": true,
    "deletable": true,
    "editable": true
   },
   "outputs": [],
   "source": [
    "df_categories = category_count_df.toPandas()"
   ]
  },
  {
   "cell_type": "code",
   "execution_count": 19,
   "metadata": {
    "collapsed": false,
    "deletable": true,
    "editable": true
   },
   "outputs": [
    {
     "data": {
      "text/html": [
       "<div>\n",
       "<table border=\"1\" class=\"dataframe\">\n",
       "  <thead>\n",
       "    <tr style=\"text-align: right;\">\n",
       "      <th></th>\n",
       "      <th>category_shortname</th>\n",
       "      <th>count</th>\n",
       "    </tr>\n",
       "  </thead>\n",
       "  <tbody>\n",
       "    <tr>\n",
       "      <th>0</th>\n",
       "      <td>pets-animals</td>\n",
       "      <td>1</td>\n",
       "    </tr>\n",
       "    <tr>\n",
       "      <th>1</th>\n",
       "      <td>book-clubs</td>\n",
       "      <td>1</td>\n",
       "    </tr>\n",
       "    <tr>\n",
       "      <th>2</th>\n",
       "      <td>new-age-spirituality</td>\n",
       "      <td>1</td>\n",
       "    </tr>\n",
       "    <tr>\n",
       "      <th>3</th>\n",
       "      <td>cars-motorcycles</td>\n",
       "      <td>1</td>\n",
       "    </tr>\n",
       "    <tr>\n",
       "      <th>4</th>\n",
       "      <td>hobbies-crafts</td>\n",
       "      <td>1</td>\n",
       "    </tr>\n",
       "  </tbody>\n",
       "</table>\n",
       "</div>"
      ],
      "text/plain": [
       "     category_shortname  count\n",
       "0          pets-animals      1\n",
       "1            book-clubs      1\n",
       "2  new-age-spirituality      1\n",
       "3      cars-motorcycles      1\n",
       "4        hobbies-crafts      1"
      ]
     },
     "execution_count": 19,
     "metadata": {},
     "output_type": "execute_result"
    }
   ],
   "source": [
    "df_categories.head()"
   ]
  },
  {
   "cell_type": "code",
   "execution_count": 20,
   "metadata": {
    "collapsed": true,
    "deletable": true,
    "editable": true
   },
   "outputs": [],
   "source": [
    "df_categories.index = df_categories.index + 1"
   ]
  },
  {
   "cell_type": "code",
   "execution_count": 21,
   "metadata": {
    "collapsed": false,
    "deletable": true,
    "editable": true
   },
   "outputs": [
    {
     "data": {
      "text/html": [
       "<div>\n",
       "<table border=\"1\" class=\"dataframe\">\n",
       "  <thead>\n",
       "    <tr style=\"text-align: right;\">\n",
       "      <th></th>\n",
       "      <th>category_shortname</th>\n",
       "      <th>count</th>\n",
       "    </tr>\n",
       "  </thead>\n",
       "  <tbody>\n",
       "    <tr>\n",
       "      <th>1</th>\n",
       "      <td>pets-animals</td>\n",
       "      <td>1</td>\n",
       "    </tr>\n",
       "    <tr>\n",
       "      <th>2</th>\n",
       "      <td>book-clubs</td>\n",
       "      <td>1</td>\n",
       "    </tr>\n",
       "    <tr>\n",
       "      <th>3</th>\n",
       "      <td>new-age-spirituality</td>\n",
       "      <td>1</td>\n",
       "    </tr>\n",
       "    <tr>\n",
       "      <th>4</th>\n",
       "      <td>cars-motorcycles</td>\n",
       "      <td>1</td>\n",
       "    </tr>\n",
       "    <tr>\n",
       "      <th>5</th>\n",
       "      <td>hobbies-crafts</td>\n",
       "      <td>1</td>\n",
       "    </tr>\n",
       "    <tr>\n",
       "      <th>6</th>\n",
       "      <td>government-politics</td>\n",
       "      <td>1</td>\n",
       "    </tr>\n",
       "    <tr>\n",
       "      <th>7</th>\n",
       "      <td>sports-recreation</td>\n",
       "      <td>1</td>\n",
       "    </tr>\n",
       "    <tr>\n",
       "      <th>8</th>\n",
       "      <td>health-wellbeing</td>\n",
       "      <td>1</td>\n",
       "    </tr>\n",
       "    <tr>\n",
       "      <th>9</th>\n",
       "      <td>parents-family</td>\n",
       "      <td>1</td>\n",
       "    </tr>\n",
       "    <tr>\n",
       "      <th>10</th>\n",
       "      <td>photography</td>\n",
       "      <td>1</td>\n",
       "    </tr>\n",
       "    <tr>\n",
       "      <th>11</th>\n",
       "      <td>career-business</td>\n",
       "      <td>1</td>\n",
       "    </tr>\n",
       "    <tr>\n",
       "      <th>12</th>\n",
       "      <td>arts-culture</td>\n",
       "      <td>1</td>\n",
       "    </tr>\n",
       "    <tr>\n",
       "      <th>13</th>\n",
       "      <td>games</td>\n",
       "      <td>1</td>\n",
       "    </tr>\n",
       "    <tr>\n",
       "      <th>14</th>\n",
       "      <td>lgbt</td>\n",
       "      <td>1</td>\n",
       "    </tr>\n",
       "    <tr>\n",
       "      <th>15</th>\n",
       "      <td>support</td>\n",
       "      <td>1</td>\n",
       "    </tr>\n",
       "    <tr>\n",
       "      <th>16</th>\n",
       "      <td>music</td>\n",
       "      <td>1</td>\n",
       "    </tr>\n",
       "    <tr>\n",
       "      <th>17</th>\n",
       "      <td>language</td>\n",
       "      <td>1</td>\n",
       "    </tr>\n",
       "    <tr>\n",
       "      <th>18</th>\n",
       "      <td>writing</td>\n",
       "      <td>1</td>\n",
       "    </tr>\n",
       "    <tr>\n",
       "      <th>19</th>\n",
       "      <td>dancing</td>\n",
       "      <td>1</td>\n",
       "    </tr>\n",
       "    <tr>\n",
       "      <th>20</th>\n",
       "      <td>socializing</td>\n",
       "      <td>1</td>\n",
       "    </tr>\n",
       "  </tbody>\n",
       "</table>\n",
       "</div>"
      ],
      "text/plain": [
       "      category_shortname  count\n",
       "1           pets-animals      1\n",
       "2             book-clubs      1\n",
       "3   new-age-spirituality      1\n",
       "4       cars-motorcycles      1\n",
       "5         hobbies-crafts      1\n",
       "6    government-politics      1\n",
       "7      sports-recreation      1\n",
       "8       health-wellbeing      1\n",
       "9         parents-family      1\n",
       "10           photography      1\n",
       "11       career-business      1\n",
       "12          arts-culture      1\n",
       "13                 games      1\n",
       "14                  lgbt      1\n",
       "15               support      1\n",
       "16                 music      1\n",
       "17              language      1\n",
       "18               writing      1\n",
       "19               dancing      1\n",
       "20           socializing      1"
      ]
     },
     "execution_count": 21,
     "metadata": {},
     "output_type": "execute_result"
    }
   ],
   "source": [
    "df_categories[:20]"
   ]
  },
  {
   "cell_type": "markdown",
   "metadata": {
    "deletable": true,
    "editable": true
   },
   "source": [
    "### Saving dataframe as html format in the master node."
   ]
  },
  {
   "cell_type": "code",
   "execution_count": 22,
   "metadata": {
    "collapsed": true,
    "deletable": true,
    "editable": true
   },
   "outputs": [],
   "source": [
    "timestamp = '{}'.format(datetime.now())"
   ]
  },
  {
   "cell_type": "code",
   "execution_count": 23,
   "metadata": {
    "collapsed": true,
    "deletable": true,
    "editable": true
   },
   "outputs": [],
   "source": [
    "html = '<!DOCTYPE html><HTML><HEAD><TITLE>Top MeetUp Categories</TITLE></HEAD> \\\n",
    "        <BODY>{}</BODY></HTML>'.format(df_categories[:20].to_html().encode('utf-8'))"
   ]
  },
  {
   "cell_type": "code",
   "execution_count": 24,
   "metadata": {
    "collapsed": true,
    "deletable": true,
    "editable": true
   },
   "outputs": [],
   "source": [
    "with open(\"spark-top-meetup-categories.html\", \"w\") as outf:\n",
    "    outf.write(\"<H1>Top MeetUp Categories from Spark</H1>\")\n",
    "    outf.write(\"<H2>As of: \" + timestamp + \"</H2>\")\n",
    "    outf.write(html)"
   ]
  },
  {
   "cell_type": "markdown",
   "metadata": {
    "deletable": true,
    "editable": true
   },
   "source": [
    "`scp -i ~/ssh/dsci6007_cpm.pem hadoop@ec2-52-202-107-142.compute-1.amazonaws.com:~/spark-top-meetup-categories.html /Users/carles/`"
   ]
  },
  {
   "cell_type": "markdown",
   "metadata": {
    "deletable": true,
    "editable": true
   },
   "source": [
    "## Get `topics`."
   ]
  },
  {
   "cell_type": "code",
   "execution_count": 25,
   "metadata": {
    "collapsed": false,
    "deletable": true,
    "editable": true
   },
   "outputs": [
    {
     "name": "stdout",
     "output_type": "stream",
     "text": [
      "+--------------------+\n",
      "|                 col|\n",
      "+--------------------+\n",
      "|[[206,Digital Pho...|\n",
      "|[[498,Singles,sin...|\n",
      "|[[3336,Self-Impro...|\n",
      "|[[459,HiFi,hifi],...|\n",
      "|[[209,Wedding Pla...|\n",
      "|[[682,Robotics,ro...|\n",
      "|[[240,Weight Loss...|\n",
      "|[[3833,Software D...|\n",
      "|[[242,Fitness,fit...|\n",
      "|[[1330,E-Business...|\n",
      "|[[498,Singles,sin...|\n",
      "|[[17217,NVC pract...|\n",
      "|[[9226,Avatar Meh...|\n",
      "|[[918,Fashionista...|\n",
      "|[[19120,Raising C...|\n",
      "|[[9696,New Techno...|\n",
      "|[[242,Fitness,fit...|\n",
      "|[[235,Coffee,coff...|\n",
      "|[[1327,C/C++,c], ...|\n",
      "|[[1322,Meditation...|\n",
      "+--------------------+\n",
      "only showing top 20 rows\n",
      "\n"
     ]
    }
   ],
   "source": [
    "results_df_2.select(explode(results_df_2['results']['topics'])).distinct().show()"
   ]
  },
  {
   "cell_type": "code",
   "execution_count": 29,
   "metadata": {
    "collapsed": true,
    "deletable": true,
    "editable": true
   },
   "outputs": [],
   "source": [
    "results_df_2_2 = results_df_2.select(explode(results_df_2['results']['topics'])).distinct()"
   ]
  },
  {
   "cell_type": "code",
   "execution_count": 27,
   "metadata": {
    "collapsed": false,
    "deletable": true,
    "editable": true
   },
   "outputs": [
    {
     "name": "stdout",
     "output_type": "stream",
     "text": [
      "+--------------------+\n",
      "|                 col|\n",
      "+--------------------+\n",
      "|[206,Digital Phot...|\n",
      "|[1037,Skateboardi...|\n",
      "|[3336,Self-Improv...|\n",
      "|[4422,Social Netw...|\n",
      "|[7203,Education &...|\n",
      "|[9696,New Technol...|\n",
      "|[16216,Mobile Tec...|\n",
      "|[19724,Android,an...|\n",
      "|   [30694,OS X,os-x]|\n",
      "|[36229,Creativity...|\n",
      "|[94781,Technical ...|\n",
      "|    [106382,iOS,ios]|\n",
      "|[160268,Windows,w...|\n",
      "|[883822,GoPro,gopro]|\n",
      "|[1162902,Drones,d...|\n",
      "|[498,Singles,sing...|\n",
      "|     [611,Wine,wine]|\n",
      "|[713,Dining Out,d...|\n",
      "|[4392,Nightlife,n...|\n",
      "|[10581,Social,soc...|\n",
      "+--------------------+\n",
      "only showing top 20 rows\n",
      "\n"
     ]
    }
   ],
   "source": [
    "results_df_2_2.select(explode(results_df_2_2.col)).show()"
   ]
  },
  {
   "cell_type": "code",
   "execution_count": 30,
   "metadata": {
    "collapsed": true,
    "deletable": true,
    "editable": true
   },
   "outputs": [],
   "source": [
    "results_df_2_2_1 = results_df_2_2.select(explode(results_df_2_2.col))"
   ]
  },
  {
   "cell_type": "code",
   "execution_count": 33,
   "metadata": {
    "collapsed": false,
    "deletable": true,
    "editable": true
   },
   "outputs": [
    {
     "name": "stdout",
     "output_type": "stream",
     "text": [
      "+--------+--------------------+--------------------+\n",
      "|topic_id|          topic_name|        topic_urlkey|\n",
      "+--------+--------------------+--------------------+\n",
      "|   21184|    European Culture|    european-culture|\n",
      "|     849|          Philosophy|          philosophy|\n",
      "|    1768|              Ethics|              ethics|\n",
      "|   17957|            Ontology|            ontology|\n",
      "|   23311|               Logic|               logic|\n",
      "|   38404|        Epistemology|        epistemology|\n",
      "|    1052|             Goddess|             goddess|\n",
      "|   10290|        Spirituality|        spirituality|\n",
      "|   17276|      Women's Circle|       womens-circle|\n",
      "|   17933| Women's Empowerment|  womens-empowerment|\n",
      "|   37479|Earth-Based Spiri...|earth-based-spiri...|\n",
      "|   46860|            New Moon|            new-moon|\n",
      "|   59894|Sacred Ceremony a...|sacred-ceremony-a...|\n",
      "|   62062|     Sacred Feminine|     sacred-feminine|\n",
      "|   67184|        Moon Circles|        moon-circles|\n",
      "|   83103| new moon meditation| new-moon-meditation|\n",
      "|   85708|     New Moon Ritual|     new-moon-ritual|\n",
      "|   97136|Goddess Spirituality|goddess-spirituality|\n",
      "|  105750|     Divine Guidance|     divine-guidance|\n",
      "|  151485| The Divine Feminine| the-divine-feminine|\n",
      "+--------+--------------------+--------------------+\n",
      "only showing top 20 rows\n",
      "\n"
     ]
    }
   ],
   "source": [
    "results_df_2_2_1.select(results_df_2_2_1.col['id'].alias('topic_id'), results_df_2_2_1.col['name'].alias('topic_name'), results_df_2_2_1.col['urlkey'].alias('topic_urlkey')).where(results_df_2_2_1.col['id'].isNotNull()).show()"
   ]
  },
  {
   "cell_type": "code",
   "execution_count": 35,
   "metadata": {
    "collapsed": false,
    "deletable": true,
    "editable": true
   },
   "outputs": [],
   "source": [
    "topic_df = results_df_2_2_1.select(results_df_2_2_1.col['id'].alias('topic_id'), results_df_2_2_1.col['name'].alias('topic_name'), results_df_2_2_1.col['urlkey'].alias('topic_urlkey')).where(results_df_2_2_1.col['id'].isNotNull())"
   ]
  },
  {
   "cell_type": "code",
   "execution_count": 36,
   "metadata": {
    "collapsed": false,
    "deletable": true,
    "editable": true
   },
   "outputs": [
    {
     "name": "stdout",
     "output_type": "stream",
     "text": [
      "+--------+--------------------+--------------------+\n",
      "|topic_id|          topic_name|        topic_urlkey|\n",
      "+--------+--------------------+--------------------+\n",
      "|   21184|    European Culture|    european-culture|\n",
      "|     849|          Philosophy|          philosophy|\n",
      "|    1768|              Ethics|              ethics|\n",
      "|   17957|            Ontology|            ontology|\n",
      "|   23311|               Logic|               logic|\n",
      "|   38404|        Epistemology|        epistemology|\n",
      "|    1052|             Goddess|             goddess|\n",
      "|   10290|        Spirituality|        spirituality|\n",
      "|   17276|      Women's Circle|       womens-circle|\n",
      "|   17933| Women's Empowerment|  womens-empowerment|\n",
      "|   37479|Earth-Based Spiri...|earth-based-spiri...|\n",
      "|   46860|            New Moon|            new-moon|\n",
      "|   59894|Sacred Ceremony a...|sacred-ceremony-a...|\n",
      "|   62062|     Sacred Feminine|     sacred-feminine|\n",
      "|   67184|        Moon Circles|        moon-circles|\n",
      "|   83103| new moon meditation| new-moon-meditation|\n",
      "|   85708|     New Moon Ritual|     new-moon-ritual|\n",
      "|   97136|Goddess Spirituality|goddess-spirituality|\n",
      "|  105750|     Divine Guidance|     divine-guidance|\n",
      "|  151485| The Divine Feminine| the-divine-feminine|\n",
      "+--------+--------------------+--------------------+\n",
      "only showing top 20 rows\n",
      "\n"
     ]
    }
   ],
   "source": [
    "topic_df.show()"
   ]
  },
  {
   "cell_type": "markdown",
   "metadata": {
    "deletable": true,
    "editable": true
   },
   "source": [
    "## Get `organizer`."
   ]
  },
  {
   "cell_type": "code",
   "execution_count": 32,
   "metadata": {
    "collapsed": false,
    "deletable": true,
    "editable": true
   },
   "outputs": [
    {
     "name": "stdout",
     "output_type": "stream",
     "text": [
      "+--------------------+\n",
      "|                 col|\n",
      "+--------------------+\n",
      "|[144430712,David ...|\n",
      "|[191340365,Kat Pi...|\n",
      "|[9789749,Sarah,[h...|\n",
      "|[12785448,Bill Wo...|\n",
      "|[132425752,Sasha ...|\n",
      "|[186352781,Brian ...|\n",
      "|[116454702,Sarada...|\n",
      "|[116454702,Sarada...|\n",
      "|[9003209,Eric Ake...|\n",
      "|[8931659,Sunil,[h...|\n",
      "|[187755094,Dawn L...|\n",
      "|                null|\n",
      "|[11958769,Kim,[ht...|\n",
      "|[14277841,John Pa...|\n",
      "|[73983192,Vipul G...|\n",
      "|[16992611,Robert ...|\n",
      "|[43891272,Mike D'...|\n",
      "|[23693311,Vanessa...|\n",
      "|[12636179,kk,[htt...|\n",
      "|[201071432,Roland...|\n",
      "+--------------------+\n",
      "only showing top 20 rows\n",
      "\n"
     ]
    }
   ],
   "source": [
    "results_df_2.select(explode(results_df_2['results']['organizer'])).show()"
   ]
  },
  {
   "cell_type": "code",
   "execution_count": 33,
   "metadata": {
    "collapsed": true,
    "deletable": true,
    "editable": true
   },
   "outputs": [],
   "source": [
    "results_df_2_3 = results_df_2.select(explode(results_df_2['results']['organizer']))"
   ]
  },
  {
   "cell_type": "code",
   "execution_count": 34,
   "metadata": {
    "collapsed": false,
    "deletable": true,
    "editable": true
   },
   "outputs": [
    {
     "name": "stdout",
     "output_type": "stream",
     "text": [
      "+---------+------------------+\n",
      "|member_id|    organizer_name|\n",
      "+---------+------------------+\n",
      "|144430712|        David Stav|\n",
      "|191340365|        Kat Pierce|\n",
      "|  9789749|             Sarah|\n",
      "| 12785448|         Bill Wolf|\n",
      "|132425752|  Sasha Blumenfeld|\n",
      "|186352781|      Brian Sefton|\n",
      "|116454702| Sarada Velagapudi|\n",
      "|116454702| Sarada Velagapudi|\n",
      "|  9003209|         Eric Aker|\n",
      "|  8931659|             Sunil|\n",
      "|187755094|Dawn L Troupe-Masi|\n",
      "| 11958769|               Kim|\n",
      "| 14277841|        John Paxos|\n",
      "| 73983192|       Vipul Gupta|\n",
      "| 16992611|    Robert Metzger|\n",
      "| 43891272|     Mike D'Arrigo|\n",
      "| 23693311|     Vanessa Grant|\n",
      "| 12636179|                kk|\n",
      "|201071432|      Roland Atoui|\n",
      "|140128252|   Jennifer Mercer|\n",
      "+---------+------------------+\n",
      "only showing top 20 rows\n",
      "\n"
     ]
    }
   ],
   "source": [
    "results_df_2_3.select(results_df_2_3.col['member_id'].alias('member_id'), results_df_2_3.col['name'].alias('organizer_name')).where(results_df_2_3.col['member_id'].isNotNull()).show()"
   ]
  },
  {
   "cell_type": "code",
   "execution_count": 35,
   "metadata": {
    "collapsed": true,
    "deletable": true,
    "editable": true
   },
   "outputs": [],
   "source": [
    "organizer_df = results_df_2_3.select(results_df_2_3.col['member_id'].alias('member_id'), results_df_2_3.col['name'].alias('organizer_name')).where(results_df_2_3.col['member_id'].isNotNull())"
   ]
  },
  {
   "cell_type": "code",
   "execution_count": 36,
   "metadata": {
    "collapsed": false,
    "deletable": true,
    "editable": true
   },
   "outputs": [
    {
     "name": "stdout",
     "output_type": "stream",
     "text": [
      "+---------+------------------+\n",
      "|member_id|    organizer_name|\n",
      "+---------+------------------+\n",
      "|144430712|        David Stav|\n",
      "|191340365|        Kat Pierce|\n",
      "|  9789749|             Sarah|\n",
      "| 12785448|         Bill Wolf|\n",
      "|132425752|  Sasha Blumenfeld|\n",
      "|186352781|      Brian Sefton|\n",
      "|116454702| Sarada Velagapudi|\n",
      "|116454702| Sarada Velagapudi|\n",
      "|  9003209|         Eric Aker|\n",
      "|  8931659|             Sunil|\n",
      "|187755094|Dawn L Troupe-Masi|\n",
      "| 11958769|               Kim|\n",
      "| 14277841|        John Paxos|\n",
      "| 73983192|       Vipul Gupta|\n",
      "| 16992611|    Robert Metzger|\n",
      "| 43891272|     Mike D'Arrigo|\n",
      "| 23693311|     Vanessa Grant|\n",
      "| 12636179|                kk|\n",
      "|201071432|      Roland Atoui|\n",
      "|140128252|   Jennifer Mercer|\n",
      "+---------+------------------+\n",
      "only showing top 20 rows\n",
      "\n"
     ]
    }
   ],
   "source": [
    "organizer_df.show()"
   ]
  },
  {
   "cell_type": "markdown",
   "metadata": {
    "deletable": true,
    "editable": true
   },
   "source": [
    "## Poop"
   ]
  },
  {
   "cell_type": "code",
   "execution_count": 5,
   "metadata": {
    "collapsed": false,
    "deletable": true,
    "editable": true
   },
   "outputs": [
    {
     "name": "stdout",
     "output_type": "stream",
     "text": [
      "+---------+-------------+-------------------+-----------------+--------------------+--------------+\n",
      "|meetup_id|  meetup_city|         meetup_lon|       meetup_lat|         meetup_name|meetup_members|\n",
      "+---------+-------------+-------------------+-----------------+--------------------+--------------+\n",
      "| 18590249|Mountain View|-122.05000305175781|37.40999984741211|Bay Area PowerPoi...|            46|\n",
      "+---------+-------------+-------------------+-----------------+--------------------+--------------+\n",
      "\n"
     ]
    }
   ],
   "source": [
    "results_df_1.select(results_df_1['results']['id'][0].alias('meetup_id'), results_df_1['results']['city'][0].alias('meetup_city'),\n",
    "                    results_df_1['results']['lon'][0].alias('meetup_lon'), results_df_1['results']['lat'][0].alias('meetup_lat'),\n",
    "                   results_df_1['results']['name'][0].alias('meetup_name'), results_df_1['results']['members'][0].alias('meetup_members')).show()"
   ]
  },
  {
   "cell_type": "code",
   "execution_count": 6,
   "metadata": {
    "collapsed": false,
    "deletable": true,
    "editable": true
   },
   "outputs": [
    {
     "name": "stdout",
     "output_type": "stream",
     "text": [
      "+---------+-------------+--------------------+--------------+---------+-----------+\n",
      "|meetup_id|  meetup_city|         meetup_name|meetup_members|member_id|category_id|\n",
      "+---------+-------------+--------------------+--------------+---------+-----------+\n",
      "| 18590249|Mountain View|Bay Area PowerPoi...|            46|144430712|          6|\n",
      "+---------+-------------+--------------------+--------------+---------+-----------+\n",
      "\n"
     ]
    }
   ],
   "source": [
    "results_df_1.select(results_df_1['results']['id'][0].alias('meetup_id'), results_df_1['results']['city'][0].alias('meetup_city'),\n",
    "                   results_df_1['results']['name'][0].alias('meetup_name'), results_df_1['results']['members'][0].alias('meetup_members'),\n",
    "                   results_df_1['results']['organizer'][0]['member_id'].alias('member_id'),\n",
    "                   results_df_1['results']['category'][0]['id'].alias('category_id')).show()"
   ]
  },
  {
   "cell_type": "code",
   "execution_count": 39,
   "metadata": {
    "collapsed": false,
    "deletable": true,
    "editable": true
   },
   "outputs": [
    {
     "name": "stdout",
     "output_type": "stream",
     "text": [
      "+---------+-----------+--------------------+--------------+---------+-----------+\n",
      "|meetup_id|meetup_city|         meetup_name|meetup_members|member_id|category_id|\n",
      "+---------+-----------+--------------------+--------------+---------+-----------+\n",
      "| 18590368|   San Jose|Silicon Valley Fa...|           287|191340365|          8|\n",
      "+---------+-----------+--------------------+--------------+---------+-----------+\n",
      "\n"
     ]
    }
   ],
   "source": [
    "results_df_1.select(results_df_1['results']['id'][1].alias('meetup_id'), results_df_1['results']['city'][1].alias('meetup_city'),\n",
    "                   results_df_1['results']['name'][1].alias('meetup_name'), results_df_1['results']['members'][1].alias('meetup_members'),\n",
    "                   results_df_1['results']['organizer'][1]['member_id'].alias('member_id'),\n",
    "                   results_df_1['results']['category'][1]['id'].alias('category_id')).show()"
   ]
  },
  {
   "cell_type": "code",
   "execution_count": 40,
   "metadata": {
    "collapsed": false,
    "deletable": true,
    "editable": true
   },
   "outputs": [
    {
     "name": "stdout",
     "output_type": "stream",
     "text": [
      "+--------------------+--------------------+\n",
      "|             results|                  id|\n",
      "+--------------------+--------------------+\n",
      "|[[[6,education/le...|[18590249, 185903...|\n",
      "+--------------------+--------------------+\n",
      "\n"
     ]
    }
   ],
   "source": [
    "results_df_1.withColumn('id', results_df_1['results']['id']).show()"
   ]
  },
  {
   "cell_type": "code",
   "execution_count": 55,
   "metadata": {
    "collapsed": false,
    "deletable": true,
    "editable": true
   },
   "outputs": [
    {
     "name": "stdout",
     "output_type": "stream",
     "text": [
      "+--------------------+--------------------+\n",
      "|          meeting_id|                city|\n",
      "+--------------------+--------------------+\n",
      "|[18590249, 185903...|[Mountain View, S...|\n",
      "+--------------------+--------------------+\n",
      "\n"
     ]
    }
   ],
   "source": [
    "results_df_2.select(results_df_2['results']['id'].alias(\"meeting_id\"), results_df_2['results']['city'].alias(\"city\")).show()"
   ]
  },
  {
   "cell_type": "code",
   "execution_count": 56,
   "metadata": {
    "collapsed": false,
    "deletable": true,
    "editable": true
   },
   "outputs": [
    {
     "name": "stdout",
     "output_type": "stream",
     "text": [
      "+--------------------+--------------------+\n",
      "|          meeting_id|           member_id|\n",
      "+--------------------+--------------------+\n",
      "|[18590249, 185903...|[144430712, 19134...|\n",
      "+--------------------+--------------------+\n",
      "\n"
     ]
    }
   ],
   "source": [
    "results_df_2.select(results_df_2['results']['id'].alias(\"meeting_id\"), results_df_2['results']['organizer']['member_id'].alias(\"member_id\")).show()"
   ]
  },
  {
   "cell_type": "code",
   "execution_count": 57,
   "metadata": {
    "collapsed": false,
    "deletable": true,
    "editable": true
   },
   "outputs": [
    {
     "name": "stdout",
     "output_type": "stream",
     "text": [
      "+--------------------+--------------------+\n",
      "|         category_id|              topics|\n",
      "+--------------------+--------------------+\n",
      "|[6, 8, 31, 22, 34...|[[1001,Comedy,com...|\n",
      "|[6, 8, 31, 22, 34...|[[918,Fashionista...|\n",
      "|[6, 8, 31, 22, 34...|[[611,Wine,wine],...|\n",
      "|[6, 8, 31, 22, 34...|[[3336,Self-Impro...|\n",
      "|[6, 8, 31, 22, 34...|[[563,Open Source...|\n",
      "|[6, 8, 31, 22, 34...|[[85,Science,scie...|\n",
      "|[6, 8, 31, 22, 34...|[[129420,telugu l...|\n",
      "|[6, 8, 31, 22, 34...|[[9131,Indian Mus...|\n",
      "|[6, 8, 31, 22, 34...|[[1307,Investing,...|\n",
      "|[6, 8, 31, 22, 34...|[[1244,Expat Indi...|\n",
      "|[6, 8, 31, 22, 34...|[[226,Acting,acti...|\n",
      "|[6, 8, 31, 22, 34...|[[15472,Network S...|\n",
      "|[6, 8, 31, 22, 34...|[[2767,Book Club,...|\n",
      "|[6, 8, 31, 22, 34...|[[998,Jigsaw Puzz...|\n",
      "|[6, 8, 31, 22, 34...|[[1142,Current Ev...|\n",
      "|[6, 8, 31, 22, 34...|[[190,Apache,apac...|\n",
      "|[6, 8, 31, 22, 34...|[[885,Cashflow,ca...|\n",
      "|[6, 8, 31, 22, 34...|[[10296,Women in ...|\n",
      "|[6, 8, 31, 22, 34...|[[837,Expat Pakis...|\n",
      "|[6, 8, 31, 22, 34...|[[10009,White Hat...|\n",
      "+--------------------+--------------------+\n",
      "only showing top 20 rows\n",
      "\n"
     ]
    }
   ],
   "source": [
    "results_df_2.select(results_df_2['results']['category']['id'].alias(\"category_id\"), explode(results_df_2['results']['topics']).alias('topics')).show()"
   ]
  },
  {
   "cell_type": "code",
   "execution_count": 10,
   "metadata": {
    "collapsed": false,
    "deletable": true,
    "editable": true
   },
   "outputs": [
    {
     "name": "stdout",
     "output_type": "stream",
     "text": [
      "+----------+\n",
      "|meeting_id|\n",
      "+----------+\n",
      "|  18590249|\n",
      "|  18590368|\n",
      "|  18591434|\n",
      "|  18592202|\n",
      "|  18595535|\n",
      "|  18598085|\n",
      "|  18606378|\n",
      "|  18606597|\n",
      "|  18608064|\n",
      "|  18610196|\n",
      "|  18610714|\n",
      "|  18612333|\n",
      "|  18612956|\n",
      "|  18613756|\n",
      "|  18616150|\n",
      "|  18617234|\n",
      "|  18617833|\n",
      "|  18618051|\n",
      "|  18618871|\n",
      "|  18627258|\n",
      "+----------+\n",
      "only showing top 20 rows\n",
      "\n"
     ]
    }
   ],
   "source": [
    "results_df_2.select(explode(results_df_2['results']['id']).alias(\"meeting_id\")).show()"
   ]
  },
  {
   "cell_type": "code",
   "execution_count": 11,
   "metadata": {
    "collapsed": false,
    "deletable": true,
    "editable": true
   },
   "outputs": [
    {
     "name": "stdout",
     "output_type": "stream",
     "text": [
      "+-------------+\n",
      "|         city|\n",
      "+-------------+\n",
      "|Mountain View|\n",
      "|     San Jose|\n",
      "|    Sunnyvale|\n",
      "|     San Jose|\n",
      "|Mountain View|\n",
      "|    Cupertino|\n",
      "|Mountain View|\n",
      "|Mountain View|\n",
      "|  Santa Clara|\n",
      "|      Fremont|\n",
      "|  Santa Clara|\n",
      "|     San Jose|\n",
      "|     San Jose|\n",
      "|  Santa Clara|\n",
      "|Mountain View|\n",
      "|Mountain View|\n",
      "|     San Jose|\n",
      "|Mountain View|\n",
      "|  Santa Clara|\n",
      "|Mountain View|\n",
      "+-------------+\n",
      "only showing top 20 rows\n",
      "\n"
     ]
    }
   ],
   "source": [
    "results_df_2.select(explode(results_df_2['results']['city']).alias(\"city\")).show()"
   ]
  },
  {
   "cell_type": "code",
   "execution_count": 12,
   "metadata": {
    "collapsed": true,
    "deletable": true,
    "editable": true
   },
   "outputs": [],
   "source": [
    "df_id = results_df_2.select(explode(results_df_2['results']['id']).alias(\"meeting_id\"))"
   ]
  },
  {
   "cell_type": "code",
   "execution_count": 13,
   "metadata": {
    "collapsed": true,
    "deletable": true,
    "editable": true
   },
   "outputs": [],
   "source": [
    "df_city = results_df_2.select(explode(results_df_2['results']['city']).alias(\"city\"))"
   ]
  },
  {
   "cell_type": "code",
   "execution_count": 44,
   "metadata": {
    "collapsed": false,
    "deletable": true,
    "editable": true
   },
   "outputs": [
    {
     "name": "stdout",
     "output_type": "stream",
     "text": [
      "+--------------------+\n",
      "|        meeting_name|\n",
      "+--------------------+\n",
      "|Bay Area PowerPoi...|\n",
      "|Silicon Valley Fa...|\n",
      "|       חברותא בוואלי|\n",
      "|San Jose Family &...|\n",
      "|Silicon Valley Da...|\n",
      "|Cupertino Cleante...|\n",
      "|Mountain View Eng...|\n",
      "|Mountain View Car...|\n",
      "|Better Investing ...|\n",
      "|Bay Area Indian C...|\n",
      "|Bay Area Black Th...|\n",
      "|Bay Area IBM Secu...|\n",
      "|Book and Coffee -...|\n",
      "|    South Bay Cubers|\n",
      "|India - current a...|\n",
      "|Bay Area Apache F...|\n",
      "|Bay Area Turn-key...|\n",
      "|BOLD (Bay area Or...|\n",
      "|Silicon Valley & ...|\n",
      "|        IoT Security|\n",
      "+--------------------+\n",
      "only showing top 20 rows\n",
      "\n"
     ]
    }
   ],
   "source": [
    "results_df_2.select(explode(results_df_2['results']['name']).alias(\"meeting_name\")).show()"
   ]
  },
  {
   "cell_type": "code",
   "execution_count": 45,
   "metadata": {
    "collapsed": false,
    "deletable": true,
    "editable": true
   },
   "outputs": [
    {
     "name": "stdout",
     "output_type": "stream",
     "text": [
      "+--------------------+----------+\n",
      "|   meeting_name_list|meeting_id|\n",
      "+--------------------+----------+\n",
      "|[Bay Area PowerPo...|  18590249|\n",
      "|[Bay Area PowerPo...|  18590368|\n",
      "|[Bay Area PowerPo...|  18591434|\n",
      "|[Bay Area PowerPo...|  18592202|\n",
      "|[Bay Area PowerPo...|  18595535|\n",
      "|[Bay Area PowerPo...|  18598085|\n",
      "|[Bay Area PowerPo...|  18606378|\n",
      "|[Bay Area PowerPo...|  18606597|\n",
      "|[Bay Area PowerPo...|  18608064|\n",
      "|[Bay Area PowerPo...|  18610196|\n",
      "|[Bay Area PowerPo...|  18610714|\n",
      "|[Bay Area PowerPo...|  18612333|\n",
      "|[Bay Area PowerPo...|  18612956|\n",
      "|[Bay Area PowerPo...|  18613756|\n",
      "|[Bay Area PowerPo...|  18616150|\n",
      "|[Bay Area PowerPo...|  18617234|\n",
      "|[Bay Area PowerPo...|  18617833|\n",
      "|[Bay Area PowerPo...|  18618051|\n",
      "|[Bay Area PowerPo...|  18618871|\n",
      "|[Bay Area PowerPo...|  18627258|\n",
      "+--------------------+----------+\n",
      "only showing top 20 rows\n",
      "\n"
     ]
    }
   ],
   "source": [
    "results_df_2.select(results_df_2['results']['name'].alias('meeting_name_list'),explode(results_df_2['results']['id']).alias(\"meeting_id\")).show()"
   ]
  },
  {
   "cell_type": "code",
   "execution_count": 46,
   "metadata": {
    "collapsed": true,
    "deletable": true,
    "editable": true
   },
   "outputs": [],
   "source": [
    "xx=results_df_2.select(results_df_2['results']['name'].alias('meeting_name_list'),explode(results_df_2['results']['id']).alias(\"meeting_id\"))"
   ]
  },
  {
   "cell_type": "code",
   "execution_count": 47,
   "metadata": {
    "collapsed": false,
    "deletable": true,
    "editable": true
   },
   "outputs": [
    {
     "name": "stdout",
     "output_type": "stream",
     "text": [
      "+--------------------+----------+\n",
      "|   meeting_name_list|meeting_id|\n",
      "+--------------------+----------+\n",
      "|[Bay Area PowerPo...|  18590249|\n",
      "|[Bay Area PowerPo...|  18590368|\n",
      "|[Bay Area PowerPo...|  18591434|\n",
      "|[Bay Area PowerPo...|  18592202|\n",
      "|[Bay Area PowerPo...|  18595535|\n",
      "|[Bay Area PowerPo...|  18598085|\n",
      "|[Bay Area PowerPo...|  18606378|\n",
      "|[Bay Area PowerPo...|  18606597|\n",
      "|[Bay Area PowerPo...|  18608064|\n",
      "|[Bay Area PowerPo...|  18610196|\n",
      "|[Bay Area PowerPo...|  18610714|\n",
      "|[Bay Area PowerPo...|  18612333|\n",
      "|[Bay Area PowerPo...|  18612956|\n",
      "|[Bay Area PowerPo...|  18613756|\n",
      "|[Bay Area PowerPo...|  18616150|\n",
      "|[Bay Area PowerPo...|  18617234|\n",
      "|[Bay Area PowerPo...|  18617833|\n",
      "|[Bay Area PowerPo...|  18618051|\n",
      "|[Bay Area PowerPo...|  18618871|\n",
      "|[Bay Area PowerPo...|  18627258|\n",
      "+--------------------+----------+\n",
      "only showing top 20 rows\n",
      "\n"
     ]
    }
   ],
   "source": [
    "xx.show()"
   ]
  },
  {
   "cell_type": "code",
   "execution_count": 58,
   "metadata": {
    "collapsed": true,
    "deletable": true,
    "editable": true
   },
   "outputs": [],
   "source": [
    "yy = results_df_2.select(results_df_2['results']['id'].alias(\"meeting_id\"), results_df_2['results']['organizer']['member_id'].alias(\"member_id\"))"
   ]
  },
  {
   "cell_type": "code",
   "execution_count": 59,
   "metadata": {
    "collapsed": false,
    "deletable": true,
    "editable": true
   },
   "outputs": [
    {
     "name": "stdout",
     "output_type": "stream",
     "text": [
      "+--------------------+--------------------+\n",
      "|          meeting_id|           member_id|\n",
      "+--------------------+--------------------+\n",
      "|[18590249, 185903...|[144430712, 19134...|\n",
      "+--------------------+--------------------+\n",
      "\n"
     ]
    }
   ],
   "source": [
    "yy.show()"
   ]
  },
  {
   "cell_type": "code",
   "execution_count": 65,
   "metadata": {
    "collapsed": false,
    "deletable": true,
    "editable": true
   },
   "outputs": [
    {
     "name": "stdout",
     "output_type": "stream",
     "text": [
      "+--------------------+---------+\n",
      "|          meeting_id|member_id|\n",
      "+--------------------+---------+\n",
      "|[18590249, 185903...|144430712|\n",
      "|[18590249, 185903...|191340365|\n",
      "|[18590249, 185903...|  9789749|\n",
      "|[18590249, 185903...| 12785448|\n",
      "|[18590249, 185903...|132425752|\n",
      "|[18590249, 185903...|186352781|\n",
      "|[18590249, 185903...|116454702|\n",
      "|[18590249, 185903...|116454702|\n",
      "|[18590249, 185903...|  9003209|\n",
      "|[18590249, 185903...|  8931659|\n",
      "|[18590249, 185903...|187755094|\n",
      "|[18590249, 185903...|     null|\n",
      "|[18590249, 185903...| 11958769|\n",
      "|[18590249, 185903...| 14277841|\n",
      "|[18590249, 185903...| 73983192|\n",
      "|[18590249, 185903...| 16992611|\n",
      "|[18590249, 185903...| 43891272|\n",
      "|[18590249, 185903...| 23693311|\n",
      "|[18590249, 185903...| 12636179|\n",
      "|[18590249, 185903...|201071432|\n",
      "+--------------------+---------+\n",
      "only showing top 20 rows\n",
      "\n"
     ]
    }
   ],
   "source": [
    "yy.select(yy['meeting_id'], explode(yy['member_id']).alias('member_id')).show()"
   ]
  },
  {
   "cell_type": "code",
   "execution_count": 66,
   "metadata": {
    "collapsed": true,
    "deletable": true,
    "editable": true
   },
   "outputs": [],
   "source": [
    "zz=yy.select(yy['meeting_id'], explode(yy['member_id']).alias('member_id'))"
   ]
  },
  {
   "cell_type": "code",
   "execution_count": 68,
   "metadata": {
    "collapsed": false,
    "deletable": true,
    "editable": true
   },
   "outputs": [
    {
     "name": "stdout",
     "output_type": "stream",
     "text": [
      "+---------+--------+\n",
      "|member_id|     col|\n",
      "+---------+--------+\n",
      "|144430712|18590249|\n",
      "|144430712|18590368|\n",
      "|144430712|18591434|\n",
      "|144430712|18592202|\n",
      "|144430712|18595535|\n",
      "|144430712|18598085|\n",
      "|144430712|18606378|\n",
      "|144430712|18606597|\n",
      "|144430712|18608064|\n",
      "|144430712|18610196|\n",
      "|144430712|18610714|\n",
      "|144430712|18612333|\n",
      "|144430712|18612956|\n",
      "|144430712|18613756|\n",
      "|144430712|18616150|\n",
      "|144430712|18617234|\n",
      "|144430712|18617833|\n",
      "|144430712|18618051|\n",
      "|144430712|18618871|\n",
      "|144430712|18627258|\n",
      "+---------+--------+\n",
      "only showing top 20 rows\n",
      "\n"
     ]
    }
   ],
   "source": [
    "zz.select(zz['member_id'], explode(yy['meeting_id'])).show()"
   ]
  },
  {
   "cell_type": "markdown",
   "metadata": {
    "deletable": true,
    "editable": true
   },
   "source": [
    "https://aws.amazon.com/premiumsupport/knowledge-center/rds-import-data/\n",
    "\n",
    "http://docs.aws.amazon.com/AmazonRDS/latest/UserGuide/PostgreSQL.Procedural.Importing.html"
   ]
  },
  {
   "cell_type": "code",
   "execution_count": null,
   "metadata": {
    "collapsed": true,
    "deletable": true,
    "editable": true
   },
   "outputs": [],
   "source": []
  }
 ],
 "metadata": {
  "kernelspec": {
   "display_name": "Python 2",
   "language": "python",
   "name": "python2"
  },
  "language_info": {
   "codemirror_mode": {
    "name": "ipython",
    "version": 2
   },
   "file_extension": ".py",
   "mimetype": "text/x-python",
   "name": "python",
   "nbconvert_exporter": "python",
   "pygments_lexer": "ipython2",
   "version": "2.7.12"
  }
 },
 "nbformat": 4,
 "nbformat_minor": 2
}
