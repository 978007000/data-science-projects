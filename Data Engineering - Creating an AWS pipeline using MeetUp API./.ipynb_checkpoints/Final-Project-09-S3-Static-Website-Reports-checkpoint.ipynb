{
 "cells": [
  {
   "cell_type": "markdown",
   "metadata": {},
   "source": [
    "# Final Project - MeetUp - Reports on Static Website hosted on S3."
   ]
  },
  {
   "cell_type": "markdown",
   "metadata": {},
   "source": [
    "## The URLs:\n",
    "\n",
    "https://s3-us-west-1.amazonaws.com/dsci6007.com/spark-meetings-map.html\n",
    "\n",
    "<img src=\"images/r-1.jpg\" />\n",
    "\n",
    "https://s3-us-west-1.amazonaws.com/dsci6007.com/spark-top-meetup-categories-pie.html\n",
    "\n",
    "<img src=\"images/r-2.jpg\" />\n",
    "\n",
    "https://s3-us-west-1.amazonaws.com/dsci6007.com/spark-top-meetup-categories.html\n",
    "\n",
    "<img src=\"images/r-3.jpg\" />\n",
    "\n",
    "https://s3-us-west-1.amazonaws.com/dsci6007.com/spark-top-meetup-organizers-pie.html\n",
    "\n",
    "<img src=\"images/r-4.jpg\" />\n",
    "\n",
    "https://s3-us-west-1.amazonaws.com/dsci6007.com/spark-top-meetup-organizers.html\n",
    "\n",
    "<img src=\"images/r-5.jpg\" />\n",
    "\n",
    "https://s3-us-west-1.amazonaws.com/dsci6007.com/spark-top-meetup-topics-pie.html\n",
    "\n",
    "<img src=\"images/r-6.jpg\" />\n",
    "\n",
    "https://s3-us-west-1.amazonaws.com/dsci6007.com/spark-top-meetup-topics.html\n",
    "\n",
    "<img src=\"images/r-7.jpg\" />\n",
    "\n",
    "https://s3-us-west-1.amazonaws.com/dsci6007.com/s3_report.html\n",
    "\n",
    "<img src=\"images/b-1.jpg\" />\n",
    "\n",
    "<img src=\"images/b-2.jpg\" />\n",
    "\n",
    "## Summary Page:\n",
    "\n",
    "https://s3-us-west-1.amazonaws.com/dsci6007.com/meetup_summary_reports.html\n",
    "\n",
    "<img src=\"images/r-8.jpg\" />"
   ]
  },
  {
   "cell_type": "markdown",
   "metadata": {
    "collapsed": true
   },
   "source": [
    "### Source of code for pages using Google API:\n",
    "\n",
    "https://developers.google.com/chart/interactive/docs/gallery/map#geocoded-locations"
   ]
  },
  {
   "cell_type": "code",
   "execution_count": null,
   "metadata": {
    "collapsed": true
   },
   "outputs": [],
   "source": []
  }
 ],
 "metadata": {
  "anaconda-cloud": {},
  "kernelspec": {
   "display_name": "Python [dsci6007]",
   "language": "python",
   "name": "Python [dsci6007]"
  },
  "language_info": {
   "codemirror_mode": {
    "name": "ipython",
    "version": 2
   },
   "file_extension": ".py",
   "mimetype": "text/x-python",
   "name": "python",
   "nbconvert_exporter": "python",
   "pygments_lexer": "ipython2",
   "version": "2.7.12"
  }
 },
 "nbformat": 4,
 "nbformat_minor": 0
}
