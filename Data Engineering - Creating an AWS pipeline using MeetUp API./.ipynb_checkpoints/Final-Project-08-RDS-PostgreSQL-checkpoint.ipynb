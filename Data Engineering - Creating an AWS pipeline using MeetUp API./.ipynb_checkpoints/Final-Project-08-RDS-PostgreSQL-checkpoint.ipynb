{
 "cells": [
  {
   "cell_type": "markdown",
   "metadata": {},
   "source": [
    "# Final Project - MeetUp RDS PostgreSQL"
   ]
  },
  {
   "cell_type": "markdown",
   "metadata": {},
   "source": [
    "<img src=\"images/d.jpg\" />"
   ]
  },
  {
   "cell_type": "markdown",
   "metadata": {},
   "source": [
    "<img src=\"images/d-1.jpg\" />\n",
    "<img src=\"images/d-2.jpg\" />\n",
    "<img src=\"images/d-3.jpg\" />\n",
    "<img src=\"images/d-4.jpg\" />"
   ]
  },
  {
   "cell_type": "markdown",
   "metadata": {},
   "source": [
    "## Note that DB is PostGIS enabled (look at table `spatial_ref_sys`).\n",
    "\n",
    "In RDS, run this command on the DB (NOT the `postgres` one) to enable it:\n",
    "\n",
    "`CREATE EXTENSION POSTGIS;`\n",
    "\n",
    "In other PostgreSQL DB (http://postgis.net/install/), we would enable the extension like this:\n",
    "\n",
    "`-- Enable PostGIS (includes raster)`\n",
    "\n",
    "`CREATE EXTENSION postgis;`\n",
    "\n",
    "`-- Enable Topology`\n",
    "\n",
    "`CREATE EXTENSION postgis_topology;`\n",
    "\n",
    "`-- Enable PostGIS Advanced 3D`\n",
    "\n",
    "`-- and other geoprocessing algorithms`\n",
    "\n",
    "`-- sfcgal not available with all distributions`\n",
    "\n",
    "`CREATE EXTENSION postgis_sfcgal;`\n",
    "\n",
    "`-- fuzzy matching needed for Tiger`\n",
    "\n",
    "`CREATE EXTENSION fuzzystrmatch;`\n",
    "\n",
    "`-- rule based standardizer`\n",
    "\n",
    "`CREATE EXTENSION address_standardizer;`\n",
    "\n",
    "`-- example rule data set`\n",
    "\n",
    "`CREATE EXTENSION address_standardizer_data_us;`\n",
    "\n",
    "`-- Enable US Tiger Geocoder`\n",
    "\n",
    "`CREATE EXTENSION postgis_tiger_geocoder;`\n"
   ]
  },
  {
   "cell_type": "markdown",
   "metadata": {},
   "source": [
    "## SQL scripts to create tables:\n",
    "\n",
    "`rds_postgresql_scripts.sql`"
   ]
  },
  {
   "cell_type": "markdown",
   "metadata": {
    "collapsed": true
   },
   "source": [
    "## Copy data into RDS PostreSQL.\n",
    "\n",
    "References:\n",
    "\n",
    "http://docs.aws.amazon.com/AmazonRDS/latest/UserGuide/PostgreSQL.Procedural.Importing.html\n",
    "\n",
    "https://aws.amazon.com/premiumsupport/knowledge-center/rds-import-data/\n",
    "\n",
    "https://www.postgresql.org/docs/current/static/app-psql.html\n",
    "\n",
    "We start `psql` shell:\n",
    "\n",
    "<img src=\"images/db-1.jpg\" />\n",
    "\n",
    "and enter the DB credentials:\n",
    "\n",
    "`dbname: dsci6007_final_db`\n",
    "\n",
    "`user: dsci6007`\n",
    "\n",
    "`host: dsci6007-final-db.ci3y0cgn1ssu.us-east-1.rds.amazonaws.com`\n",
    "\n",
    "`port: 5432`\n",
    "\n",
    "`password: EewJBb752cg0`\n",
    "\n",
    "<img src=\"images/db-2.jpg\" />\n",
    "\n",
    "Then we issue the `copy` command:\n",
    "\n",
    "<img src=\"images/db-3.jpg\" />\n",
    "\n",
    ">`The \\copy command does not provide confirmation of actions, such as a count of rows inserted. PostgreSQL does provide error messages if the copy command fails due to an error.`\n",
    "\n",
    "\n",
    "`\"\\copy topic from 's3a://dsci6007-final-project-3nf/topic_table/topic_table.csv' with DELIMITER ','\"`\n",
    "\n",
    "`\"\\copy topic from 's3a://dsci6007-final-project-3nf/meeting_table/meeting_table' with DELIMITER ','\"`"
   ]
  },
  {
   "cell_type": "markdown",
   "metadata": {
    "collapsed": true
   },
   "source": [
    "## RDS Credentials are stored in a .yml file.\n",
    "\n",
    "<img src=\"images/rds-cred.jpg\" />\n",
    "\n",
    "### We run script `meetup_run_postgres.py` to load tables `topic`, `category`, `member`.\n",
    "\n",
    "#### The script will run on EC2 once to load the tables.\n",
    "\n",
    "We need to install on EC2:\n",
    "\n",
    "`sudo apt install libpq-dev python-dev`\n",
    "\n",
    "`sudo pip install psycopg2`\n",
    "\n",
    "`scp -i ~/ssh/dsci6007_cpm.pem /Users/carles/meetup_run_postgres.py ubuntu@ec2-54-91-189-236.compute-1.amazonaws.com:~`\n",
    "\n",
    "`scp -i ~/ssh/dsci6007_cpm.pem /Users/carles/aws_rds_cred.yml ubuntu@ec2-54-91-189-236.compute-1.amazonaws.com:~`\n",
    "\n",
    "### We run script `meetup_run_postgres_meeting.py` to load table `meeting` and `meetup_run_postgres_meeting_topic.py` to load `meeting_topic`.\n",
    "\n",
    "#### The script will run on EC2 once to load the tables.\n",
    "\n",
    "`scp -i ~/ssh/dsci6007_cpm.pem /Users/carles/meetup_run_postgres_meeting.py ubuntu@ec2-54-91-189-236.compute-1.amazonaws.com:~`\n",
    "\n",
    "#### We could/should run on EMR as `spark-submit` to constantly update the tables with new data.\n",
    "\n",
    "##### Topic\n",
    "<img src =\"images/csv-1.jpg\" />\n",
    "##### Category\n",
    "<img src =\"images/csv-2.jpg\" />\n",
    "##### Member\n",
    "<img src =\"images/csv-3.jpg\" />\n",
    "##### Meeting\n",
    "<img src =\"images/csv-4.jpg\" />\n",
    "##### Meeting-Topic\n",
    "<img src =\"images/csv-5.jpg\" />"
   ]
  },
  {
   "cell_type": "markdown",
   "metadata": {
    "collapsed": true
   },
   "source": [
    "<img src=\"images/rd-1.jpg\" />\n",
    "<img src=\"images/rd-2.jpg\" />\n",
    "<img src=\"images/rd-3.jpg\" />\n",
    "<img src=\"images/rd-4.jpg\" />\n",
    "<img src=\"images/rd-5.jpg\" />\n",
    "<img src=\"images/rd-6.jpg\" />\n",
    "<img src=\"images/rd-7.jpg\" />\n",
    "<img src=\"images/rd-9.jpg\" />\n",
    "<img src=\"images/rd-8.jpg\" />\n",
    "<img src=\"images/rd-12.jpg\" />\n",
    "<img src=\"images/rd-13.jpg\" />\n",
    "<img src=\"images/rd-10.jpg\" />\n",
    "<img src=\"images/rd-11.jpg\" />\n",
    "<img src=\"images/rd-14.jpg\" />"
   ]
  },
  {
   "cell_type": "code",
   "execution_count": null,
   "metadata": {
    "collapsed": true
   },
   "outputs": [],
   "source": []
  }
 ],
 "metadata": {
  "anaconda-cloud": {},
  "kernelspec": {
   "display_name": "Python [dsci6007]",
   "language": "python",
   "name": "Python [dsci6007]"
  },
  "language_info": {
   "codemirror_mode": {
    "name": "ipython",
    "version": 2
   },
   "file_extension": ".py",
   "mimetype": "text/x-python",
   "name": "python",
   "nbconvert_exporter": "python",
   "pygments_lexer": "ipython2",
   "version": "2.7.12"
  }
 },
 "nbformat": 4,
 "nbformat_minor": 0
}
