{
 "cells": [
  {
   "cell_type": "markdown",
   "metadata": {
    "deletable": true,
    "editable": true
   },
   "source": [
    "# Final Project: MeetUp DataFrames."
   ]
  },
  {
   "cell_type": "code",
   "execution_count": 1,
   "metadata": {
    "collapsed": true,
    "deletable": true,
    "editable": true
   },
   "outputs": [],
   "source": [
    "reset -fs"
   ]
  },
  {
   "cell_type": "code",
   "execution_count": 180,
   "metadata": {
    "collapsed": false,
    "deletable": true,
    "editable": true
   },
   "outputs": [],
   "source": [
    "import json\n",
    "from pyspark.sql.functions import explode\n",
    "from pyspark.sql.functions import col\n",
    "from datetime import datetime"
   ]
  },
  {
   "cell_type": "code",
   "execution_count": 63,
   "metadata": {
    "collapsed": false,
    "deletable": true,
    "editable": true
   },
   "outputs": [],
   "source": [
    "#df = spark.read.json(\"s3a://dsci6007-firehose-final-project/meet_up2017/02/13/22/dsci6007_firehose_meet_up-1-2017-02-13-22-39-18-15eb685e-17b3-4a6a-aefb-c7309eed423c\")"
   ]
  },
  {
   "cell_type": "code",
   "execution_count": 181,
   "metadata": {
    "collapsed": true,
    "deletable": true,
    "editable": true
   },
   "outputs": [],
   "source": [
    "df = spark.read.json(\"s3a://dsci6007-firehose-final-project/meet_up2017/02/*/*/*\")"
   ]
  },
  {
   "cell_type": "code",
   "execution_count": 182,
   "metadata": {
    "collapsed": false,
    "deletable": true,
    "editable": true
   },
   "outputs": [],
   "source": [
    "results_df_1 = df.select('results')"
   ]
  },
  {
   "cell_type": "code",
   "execution_count": 4,
   "metadata": {
    "collapsed": false,
    "deletable": true,
    "editable": true
   },
   "outputs": [
    {
     "name": "stdout",
     "output_type": "stream",
     "text": [
      "+--------------------+--------------------+\n",
      "|                  id|                city|\n",
      "+--------------------+--------------------+\n",
      "|[18590249, 185903...|[Mountain View, S...|\n",
      "+--------------------+--------------------+\n",
      "\n"
     ]
    }
   ],
   "source": [
    "df.select('results.id', 'results.city').show()"
   ]
  },
  {
   "cell_type": "code",
   "execution_count": 65,
   "metadata": {
    "collapsed": false,
    "deletable": true,
    "editable": true
   },
   "outputs": [
    {
     "name": "stdout",
     "output_type": "stream",
     "text": [
      "root\n",
      " |-- results: array (nullable = true)\n",
      " |    |-- element: struct (containsNull = true)\n",
      " |    |    |-- category: struct (nullable = true)\n",
      " |    |    |    |-- id: long (nullable = true)\n",
      " |    |    |    |-- name: string (nullable = true)\n",
      " |    |    |    |-- shortname: string (nullable = true)\n",
      " |    |    |-- city: string (nullable = true)\n",
      " |    |    |-- country: string (nullable = true)\n",
      " |    |    |-- created: long (nullable = true)\n",
      " |    |    |-- description: string (nullable = true)\n",
      " |    |    |-- group_photo: struct (nullable = true)\n",
      " |    |    |    |-- base_url: string (nullable = true)\n",
      " |    |    |    |-- highres_link: string (nullable = true)\n",
      " |    |    |    |-- photo_id: long (nullable = true)\n",
      " |    |    |    |-- photo_link: string (nullable = true)\n",
      " |    |    |    |-- thumb_link: string (nullable = true)\n",
      " |    |    |    |-- type: string (nullable = true)\n",
      " |    |    |-- id: long (nullable = true)\n",
      " |    |    |-- join_mode: string (nullable = true)\n",
      " |    |    |-- lat: double (nullable = true)\n",
      " |    |    |-- link: string (nullable = true)\n",
      " |    |    |-- lon: double (nullable = true)\n",
      " |    |    |-- members: long (nullable = true)\n",
      " |    |    |-- name: string (nullable = true)\n",
      " |    |    |-- organizer: struct (nullable = true)\n",
      " |    |    |    |-- member_id: long (nullable = true)\n",
      " |    |    |    |-- name: string (nullable = true)\n",
      " |    |    |    |-- photo: struct (nullable = true)\n",
      " |    |    |    |    |-- base_url: string (nullable = true)\n",
      " |    |    |    |    |-- highres_link: string (nullable = true)\n",
      " |    |    |    |    |-- photo_id: long (nullable = true)\n",
      " |    |    |    |    |-- photo_link: string (nullable = true)\n",
      " |    |    |    |    |-- thumb_link: string (nullable = true)\n",
      " |    |    |    |    |-- type: string (nullable = true)\n",
      " |    |    |-- rating: double (nullable = true)\n",
      " |    |    |-- state: string (nullable = true)\n",
      " |    |    |-- timezone: string (nullable = true)\n",
      " |    |    |-- topics: array (nullable = true)\n",
      " |    |    |    |-- element: struct (containsNull = true)\n",
      " |    |    |    |    |-- id: long (nullable = true)\n",
      " |    |    |    |    |-- name: string (nullable = true)\n",
      " |    |    |    |    |-- urlkey: string (nullable = true)\n",
      " |    |    |-- urlname: string (nullable = true)\n",
      " |    |    |-- utc_offset: long (nullable = true)\n",
      " |    |    |-- visibility: string (nullable = true)\n",
      " |    |    |-- who: string (nullable = true)\n",
      "\n"
     ]
    }
   ],
   "source": [
    "results_df_1.printSchema()"
   ]
  },
  {
   "cell_type": "code",
   "execution_count": 8,
   "metadata": {
    "collapsed": false,
    "deletable": true,
    "editable": true
   },
   "outputs": [],
   "source": [
    "#results_df.select(results_df['results'][0]).show()"
   ]
  },
  {
   "cell_type": "code",
   "execution_count": 7,
   "metadata": {
    "collapsed": false,
    "deletable": true,
    "editable": true
   },
   "outputs": [
    {
     "name": "stdout",
     "output_type": "stream",
     "text": [
      "+--------------------+\n",
      "|             results|\n",
      "+--------------------+\n",
      "|[[[6,education/le...|\n",
      "+--------------------+\n",
      "\n"
     ]
    }
   ],
   "source": [
    "results_df_1.select(results_df_1['results']).show()"
   ]
  },
  {
   "cell_type": "code",
   "execution_count": 183,
   "metadata": {
    "collapsed": false,
    "deletable": true,
    "editable": true
   },
   "outputs": [],
   "source": [
    "results_df_2 = results_df_1.select(results_df_1['results'])"
   ]
  },
  {
   "cell_type": "markdown",
   "metadata": {
    "deletable": true,
    "editable": true
   },
   "source": [
    "## Get `category`."
   ]
  },
  {
   "cell_type": "code",
   "execution_count": 5,
   "metadata": {
    "collapsed": false,
    "deletable": true,
    "editable": true
   },
   "outputs": [
    {
     "name": "stdout",
     "output_type": "stream",
     "text": [
      "+--------------------+\n",
      "|                 col|\n",
      "+--------------------+\n",
      "|[16,language/ethn...|\n",
      "|[32,sports/recrea...|\n",
      "|[24,paranormal,pa...|\n",
      "|                null|\n",
      "|[15,hobbies/craft...|\n",
      "|[6,education/lear...|\n",
      "|    [21,music,music]|\n",
      "|      [12,LGBT,lgbt]|\n",
      "|[17,alternative l...|\n",
      "|    [11,games,games]|\n",
      "|[10,food/drink,fo...|\n",
      "|[29,sci-fi/fantas...|\n",
      "|[31,socializing,s...|\n",
      "|[26,pets/animals,...|\n",
      "|[13,movements/pol...|\n",
      "|[3,cars/motorcycl...|\n",
      "|[20,movies/film,m...|\n",
      "|[2,career/busines...|\n",
      "|[8,fashion/beauty...|\n",
      "| [9,fitness,fitness]|\n",
      "+--------------------+\n",
      "only showing top 20 rows\n",
      "\n"
     ]
    }
   ],
   "source": [
    "results_df_2.select(explode(results_df_2['results']['category'])).distinct().show()"
   ]
  },
  {
   "cell_type": "code",
   "execution_count": 184,
   "metadata": {
    "collapsed": true,
    "deletable": true,
    "editable": true
   },
   "outputs": [],
   "source": [
    "results_df_2_1 = results_df_2.select(explode(results_df_2['results']['category'])).distinct()"
   ]
  },
  {
   "cell_type": "code",
   "execution_count": 185,
   "metadata": {
    "collapsed": true,
    "deletable": true,
    "editable": true
   },
   "outputs": [],
   "source": [
    "results_df_2_1_no_unique = results_df_2.select(explode(results_df_2['results']['category']))"
   ]
  },
  {
   "cell_type": "code",
   "execution_count": 7,
   "metadata": {
    "collapsed": false,
    "deletable": true,
    "editable": true
   },
   "outputs": [
    {
     "name": "stdout",
     "output_type": "stream",
     "text": [
      "+-----------+-------------------+--------------------+\n",
      "|category_id| category_shortname|       category_name|\n",
      "+-----------+-------------------+--------------------+\n",
      "|         16|           language|language/ethnic i...|\n",
      "|         32|  sports-recreation|   sports/recreation|\n",
      "|         24|         paranormal|          paranormal|\n",
      "|         15|     hobbies-crafts|      hobbies/crafts|\n",
      "|          6| education-learning|  education/learning|\n",
      "|         21|              music|               music|\n",
      "|         12|               lgbt|                LGBT|\n",
      "|         17|          lifestyle|alternative lifes...|\n",
      "|         11|              games|               games|\n",
      "|         10|         food-drink|          food/drink|\n",
      "|         29|     sci-fi-fantasy|      sci-fi/fantasy|\n",
      "|         31|        socializing|         socializing|\n",
      "|         26|       pets-animals|        pets/animals|\n",
      "|         13|government-politics|  movements/politics|\n",
      "|          3|   cars-motorcycles|    cars/motorcycles|\n",
      "|         20|        movies-film|         movies/film|\n",
      "|          2|    career-business|     career/business|\n",
      "|          8|     fashion-beauty|      fashion/beauty|\n",
      "|          9|            fitness|             fitness|\n",
      "|          1|       arts-culture|   fine arts/culture|\n",
      "+-----------+-------------------+--------------------+\n",
      "only showing top 20 rows\n",
      "\n"
     ]
    }
   ],
   "source": [
    "results_df_2_1.select(results_df_2_1.col['id'].alias('category_id'), results_df_2_1.col['shortname'].alias('category_shortname'), results_df_2_1.col['name'].alias('category_name')).where(results_df_2_1.col['id'].isNotNull()).show()"
   ]
  },
  {
   "cell_type": "code",
   "execution_count": 186,
   "metadata": {
    "collapsed": true,
    "deletable": true,
    "editable": true
   },
   "outputs": [],
   "source": [
    "category_df = results_df_2_1.select(results_df_2_1.col['id'].alias('category_id'), results_df_2_1.col['shortname'].alias('category_shortname'), results_df_2_1.col['name'].alias('category_name')).where(results_df_2_1.col['id'].isNotNull())"
   ]
  },
  {
   "cell_type": "code",
   "execution_count": 187,
   "metadata": {
    "collapsed": true,
    "deletable": true,
    "editable": true
   },
   "outputs": [],
   "source": [
    "category_no_unique_df = results_df_2_1_no_unique.select(results_df_2_1_no_unique.col['id'].alias('category_id'), results_df_2_1_no_unique.col['shortname'].alias('category_shortname'), results_df_2_1_no_unique.col['name'].alias('category_name')).where(results_df_2_1_no_unique.col['id'].isNotNull())"
   ]
  },
  {
   "cell_type": "code",
   "execution_count": 188,
   "metadata": {
    "collapsed": false,
    "deletable": true,
    "editable": true
   },
   "outputs": [
    {
     "name": "stdout",
     "output_type": "stream",
     "text": [
      "+-----------+-------------------+--------------------+\n",
      "|category_id| category_shortname|       category_name|\n",
      "+-----------+-------------------+--------------------+\n",
      "|         16|           language|language/ethnic i...|\n",
      "|         32|  sports-recreation|   sports/recreation|\n",
      "|         24|         paranormal|          paranormal|\n",
      "|         15|     hobbies-crafts|      hobbies/crafts|\n",
      "|          6| education-learning|  education/learning|\n",
      "|         21|              music|               music|\n",
      "|         12|               lgbt|                LGBT|\n",
      "|         17|          lifestyle|alternative lifes...|\n",
      "|         11|              games|               games|\n",
      "|         10|         food-drink|          food/drink|\n",
      "|         29|     sci-fi-fantasy|      sci-fi/fantasy|\n",
      "|         31|        socializing|         socializing|\n",
      "|         26|       pets-animals|        pets/animals|\n",
      "|         13|government-politics|  movements/politics|\n",
      "|          3|   cars-motorcycles|    cars/motorcycles|\n",
      "|         20|        movies-film|         movies/film|\n",
      "|          2|    career-business|     career/business|\n",
      "|          8|     fashion-beauty|      fashion/beauty|\n",
      "|          9|            fitness|             fitness|\n",
      "|          1|       arts-culture|   fine arts/culture|\n",
      "+-----------+-------------------+--------------------+\n",
      "only showing top 20 rows\n",
      "\n"
     ]
    }
   ],
   "source": [
    "category_df.show()"
   ]
  },
  {
   "cell_type": "code",
   "execution_count": 192,
   "metadata": {
    "collapsed": false
   },
   "outputs": [],
   "source": [
    "category_df.write.save('s3a://dsci6007-final-project-3nf/category_table/category_table.csv/', format=\"csv\")"
   ]
  },
  {
   "cell_type": "code",
   "execution_count": 17,
   "metadata": {
    "collapsed": false,
    "deletable": true,
    "editable": true
   },
   "outputs": [
    {
     "name": "stdout",
     "output_type": "stream",
     "text": [
      "+--------------------+-----+\n",
      "|  category_shortname|count|\n",
      "+--------------------+-----+\n",
      "|                tech| 9754|\n",
      "|     career-business| 9288|\n",
      "|         socializing| 5815|\n",
      "|            language| 5390|\n",
      "|  outdoors-adventure| 3816|\n",
      "|          food-drink| 2973|\n",
      "|               music| 2881|\n",
      "|    health-wellbeing| 2537|\n",
      "|             fitness| 2177|\n",
      "|  education-learning| 2136|\n",
      "|        pets-animals| 2121|\n",
      "|new-age-spirituality| 2005|\n",
      "|         movies-film| 1913|\n",
      "|             dancing| 1847|\n",
      "|        arts-culture| 1748|\n",
      "| government-politics| 1696|\n",
      "|                lgbt| 1564|\n",
      "|             singles| 1352|\n",
      "|               games| 1347|\n",
      "|community-environ...| 1314|\n",
      "+--------------------+-----+\n",
      "only showing top 20 rows\n",
      "\n"
     ]
    }
   ],
   "source": [
    "category_no_unique_df.groupBy('category_shortname').count().sort(col(\"count\").desc()).show()"
   ]
  },
  {
   "cell_type": "code",
   "execution_count": 193,
   "metadata": {
    "collapsed": false,
    "deletable": true,
    "editable": true
   },
   "outputs": [],
   "source": [
    "category_count_df = category_no_unique_df.groupBy('category_shortname').count().sort(col(\"count\").desc())"
   ]
  },
  {
   "cell_type": "markdown",
   "metadata": {
    "deletable": true,
    "editable": true
   },
   "source": [
    "### Export to Pandas."
   ]
  },
  {
   "cell_type": "code",
   "execution_count": 194,
   "metadata": {
    "collapsed": false,
    "deletable": true,
    "editable": true
   },
   "outputs": [],
   "source": [
    "df_categories = category_count_df.limit(20).toPandas()"
   ]
  },
  {
   "cell_type": "code",
   "execution_count": 195,
   "metadata": {
    "collapsed": false,
    "deletable": true,
    "editable": true
   },
   "outputs": [
    {
     "data": {
      "text/html": [
       "<div>\n",
       "<table border=\"1\" class=\"dataframe\">\n",
       "  <thead>\n",
       "    <tr style=\"text-align: right;\">\n",
       "      <th></th>\n",
       "      <th>category_shortname</th>\n",
       "      <th>count</th>\n",
       "    </tr>\n",
       "  </thead>\n",
       "  <tbody>\n",
       "    <tr>\n",
       "      <th>0</th>\n",
       "      <td>tech</td>\n",
       "      <td>10729</td>\n",
       "    </tr>\n",
       "    <tr>\n",
       "      <th>1</th>\n",
       "      <td>career-business</td>\n",
       "      <td>10341</td>\n",
       "    </tr>\n",
       "    <tr>\n",
       "      <th>2</th>\n",
       "      <td>socializing</td>\n",
       "      <td>6478</td>\n",
       "    </tr>\n",
       "    <tr>\n",
       "      <th>3</th>\n",
       "      <td>language</td>\n",
       "      <td>6131</td>\n",
       "    </tr>\n",
       "    <tr>\n",
       "      <th>4</th>\n",
       "      <td>outdoors-adventure</td>\n",
       "      <td>4284</td>\n",
       "    </tr>\n",
       "  </tbody>\n",
       "</table>\n",
       "</div>"
      ],
      "text/plain": [
       "   category_shortname  count\n",
       "0                tech  10729\n",
       "1     career-business  10341\n",
       "2         socializing   6478\n",
       "3            language   6131\n",
       "4  outdoors-adventure   4284"
      ]
     },
     "execution_count": 195,
     "metadata": {},
     "output_type": "execute_result"
    }
   ],
   "source": [
    "df_categories.head()"
   ]
  },
  {
   "cell_type": "code",
   "execution_count": 196,
   "metadata": {
    "collapsed": true,
    "deletable": true,
    "editable": true
   },
   "outputs": [],
   "source": [
    "df_categories.index = df_categories.index + 1"
   ]
  },
  {
   "cell_type": "code",
   "execution_count": 197,
   "metadata": {
    "collapsed": false,
    "deletable": true,
    "editable": true
   },
   "outputs": [
    {
     "data": {
      "text/html": [
       "<div>\n",
       "<table border=\"1\" class=\"dataframe\">\n",
       "  <thead>\n",
       "    <tr style=\"text-align: right;\">\n",
       "      <th></th>\n",
       "      <th>category_shortname</th>\n",
       "      <th>count</th>\n",
       "    </tr>\n",
       "  </thead>\n",
       "  <tbody>\n",
       "    <tr>\n",
       "      <th>1</th>\n",
       "      <td>tech</td>\n",
       "      <td>10729</td>\n",
       "    </tr>\n",
       "    <tr>\n",
       "      <th>2</th>\n",
       "      <td>career-business</td>\n",
       "      <td>10341</td>\n",
       "    </tr>\n",
       "    <tr>\n",
       "      <th>3</th>\n",
       "      <td>socializing</td>\n",
       "      <td>6478</td>\n",
       "    </tr>\n",
       "    <tr>\n",
       "      <th>4</th>\n",
       "      <td>language</td>\n",
       "      <td>6131</td>\n",
       "    </tr>\n",
       "    <tr>\n",
       "      <th>5</th>\n",
       "      <td>outdoors-adventure</td>\n",
       "      <td>4284</td>\n",
       "    </tr>\n",
       "    <tr>\n",
       "      <th>6</th>\n",
       "      <td>food-drink</td>\n",
       "      <td>3324</td>\n",
       "    </tr>\n",
       "    <tr>\n",
       "      <th>7</th>\n",
       "      <td>music</td>\n",
       "      <td>3193</td>\n",
       "    </tr>\n",
       "    <tr>\n",
       "      <th>8</th>\n",
       "      <td>health-wellbeing</td>\n",
       "      <td>2693</td>\n",
       "    </tr>\n",
       "    <tr>\n",
       "      <th>9</th>\n",
       "      <td>pets-animals</td>\n",
       "      <td>2433</td>\n",
       "    </tr>\n",
       "    <tr>\n",
       "      <th>10</th>\n",
       "      <td>education-learning</td>\n",
       "      <td>2370</td>\n",
       "    </tr>\n",
       "    <tr>\n",
       "      <th>11</th>\n",
       "      <td>fitness</td>\n",
       "      <td>2255</td>\n",
       "    </tr>\n",
       "    <tr>\n",
       "      <th>12</th>\n",
       "      <td>new-age-spirituality</td>\n",
       "      <td>2239</td>\n",
       "    </tr>\n",
       "    <tr>\n",
       "      <th>13</th>\n",
       "      <td>movies-film</td>\n",
       "      <td>2186</td>\n",
       "    </tr>\n",
       "    <tr>\n",
       "      <th>14</th>\n",
       "      <td>dancing</td>\n",
       "      <td>2081</td>\n",
       "    </tr>\n",
       "    <tr>\n",
       "      <th>15</th>\n",
       "      <td>government-politics</td>\n",
       "      <td>1969</td>\n",
       "    </tr>\n",
       "    <tr>\n",
       "      <th>16</th>\n",
       "      <td>arts-culture</td>\n",
       "      <td>1904</td>\n",
       "    </tr>\n",
       "    <tr>\n",
       "      <th>17</th>\n",
       "      <td>lgbt</td>\n",
       "      <td>1681</td>\n",
       "    </tr>\n",
       "    <tr>\n",
       "      <th>18</th>\n",
       "      <td>games</td>\n",
       "      <td>1542</td>\n",
       "    </tr>\n",
       "    <tr>\n",
       "      <th>19</th>\n",
       "      <td>singles</td>\n",
       "      <td>1508</td>\n",
       "    </tr>\n",
       "    <tr>\n",
       "      <th>20</th>\n",
       "      <td>support</td>\n",
       "      <td>1432</td>\n",
       "    </tr>\n",
       "  </tbody>\n",
       "</table>\n",
       "</div>"
      ],
      "text/plain": [
       "      category_shortname  count\n",
       "1                   tech  10729\n",
       "2        career-business  10341\n",
       "3            socializing   6478\n",
       "4               language   6131\n",
       "5     outdoors-adventure   4284\n",
       "6             food-drink   3324\n",
       "7                  music   3193\n",
       "8       health-wellbeing   2693\n",
       "9           pets-animals   2433\n",
       "10    education-learning   2370\n",
       "11               fitness   2255\n",
       "12  new-age-spirituality   2239\n",
       "13           movies-film   2186\n",
       "14               dancing   2081\n",
       "15   government-politics   1969\n",
       "16          arts-culture   1904\n",
       "17                  lgbt   1681\n",
       "18                 games   1542\n",
       "19               singles   1508\n",
       "20               support   1432"
      ]
     },
     "execution_count": 197,
     "metadata": {},
     "output_type": "execute_result"
    }
   ],
   "source": [
    "df_categories"
   ]
  },
  {
   "cell_type": "code",
   "execution_count": 242,
   "metadata": {
    "collapsed": false
   },
   "outputs": [],
   "source": [
    "top_list_categories = df_categories.values.tolist()"
   ]
  },
  {
   "cell_type": "code",
   "execution_count": 199,
   "metadata": {
    "collapsed": false
   },
   "outputs": [
    {
     "data": {
      "text/plain": [
       "[[u'tech', 10729],\n",
       " [u'career-business', 10341],\n",
       " [u'socializing', 6478],\n",
       " [u'language', 6131],\n",
       " [u'outdoors-adventure', 4284],\n",
       " [u'food-drink', 3324],\n",
       " [u'music', 3193],\n",
       " [u'health-wellbeing', 2693],\n",
       " [u'pets-animals', 2433],\n",
       " [u'education-learning', 2370],\n",
       " [u'fitness', 2255],\n",
       " [u'new-age-spirituality', 2239],\n",
       " [u'movies-film', 2186],\n",
       " [u'dancing', 2081],\n",
       " [u'government-politics', 1969],\n",
       " [u'arts-culture', 1904],\n",
       " [u'lgbt', 1681],\n",
       " [u'games', 1542],\n",
       " [u'singles', 1508],\n",
       " [u'support', 1432]]"
      ]
     },
     "execution_count": 199,
     "metadata": {},
     "output_type": "execute_result"
    }
   ],
   "source": [
    "top_list_categories"
   ]
  },
  {
   "cell_type": "code",
   "execution_count": 243,
   "metadata": {
    "collapsed": false
   },
   "outputs": [],
   "source": [
    "top_list_categories_u = [[str(item[0]),item[1]] for item in top_list_categories]"
   ]
  },
  {
   "cell_type": "code",
   "execution_count": 244,
   "metadata": {
    "collapsed": false
   },
   "outputs": [],
   "source": [
    "top_list_categories_u.insert(0, ['Category', 'Count'])"
   ]
  },
  {
   "cell_type": "code",
   "execution_count": 245,
   "metadata": {
    "collapsed": false
   },
   "outputs": [
    {
     "data": {
      "text/plain": [
       "[['Category', 'Count'],\n",
       " ['tech', 10729],\n",
       " ['career-business', 10341],\n",
       " ['socializing', 6478],\n",
       " ['language', 6131],\n",
       " ['outdoors-adventure', 4284],\n",
       " ['food-drink', 3324],\n",
       " ['music', 3193],\n",
       " ['health-wellbeing', 2693],\n",
       " ['pets-animals', 2433],\n",
       " ['education-learning', 2370],\n",
       " ['fitness', 2255],\n",
       " ['new-age-spirituality', 2239],\n",
       " ['movies-film', 2186],\n",
       " ['dancing', 2081],\n",
       " ['government-politics', 1969],\n",
       " ['arts-culture', 1904],\n",
       " ['lgbt', 1681],\n",
       " ['games', 1542],\n",
       " ['singles', 1508],\n",
       " ['support', 1432]]"
      ]
     },
     "execution_count": 245,
     "metadata": {},
     "output_type": "execute_result"
    }
   ],
   "source": [
    "top_list_categories_u"
   ]
  },
  {
   "cell_type": "code",
   "execution_count": 246,
   "metadata": {
    "collapsed": true
   },
   "outputs": [],
   "source": [
    "top_list_categories_u = top_list_categories_u[:11]"
   ]
  },
  {
   "cell_type": "markdown",
   "metadata": {
    "deletable": true,
    "editable": true
   },
   "source": [
    "### Saving dataframe as html format in the master node."
   ]
  },
  {
   "cell_type": "code",
   "execution_count": 247,
   "metadata": {
    "collapsed": true,
    "deletable": true,
    "editable": true
   },
   "outputs": [],
   "source": [
    "timestamp = '{}'.format(datetime.now())"
   ]
  },
  {
   "cell_type": "code",
   "execution_count": 253,
   "metadata": {
    "collapsed": true,
    "deletable": true,
    "editable": true
   },
   "outputs": [],
   "source": [
    "html_1 = '<!DOCTYPE html><HTML><HEAD><TITLE>Top 20 MeetUp Categories</TITLE></HEAD> \\\n",
    "        <BODY>{}</BODY></HTML>'.format(df_categories.to_html().encode('utf-8'))"
   ]
  },
  {
   "cell_type": "code",
   "execution_count": 254,
   "metadata": {
    "collapsed": false,
    "deletable": true,
    "editable": true
   },
   "outputs": [],
   "source": [
    "with open(\"spark-top-meetup-categories.html\", \"w\") as outf:\n",
    "    outf.write(\"<H1>Top 20 MeetUp Categories from Spark</H1>\")\n",
    "    outf.write(\"<H2>As of: \" + timestamp + \"</H2>\")\n",
    "    outf.write(html_1)"
   ]
  },
  {
   "cell_type": "markdown",
   "metadata": {},
   "source": [
    "`scp -i ~/ssh/dsci6007_cpm.pem hadoop@ec2-52-202-107-142.compute-1.amazonaws.com:~/spark-top-meetup-categories.html /Users/carles/`"
   ]
  },
  {
   "cell_type": "code",
   "execution_count": 251,
   "metadata": {
    "collapsed": false
   },
   "outputs": [],
   "source": [
    "html_2 = '<html><head><title>Top 10 MeetUp Categories</title> \\\n",
    "    <script type=\"text/javascript\" src=\"https://www.gstatic.com/charts/loader.js\"></script> \\\n",
    "    <script type=\"text/javascript\"> \\\n",
    "      google.charts.load(\\'current\\', {\\'packages\\':[\\'corechart\\']}); \\\n",
    "      google.charts.setOnLoadCallback(drawChart); \\\n",
    "      function drawChart() { var data = google.visualization.arrayToDataTable(%s);\\\n",
    "        var options = { \\\n",
    "          title: \\'Top 10 Categories Breakdown\\'}; \\\n",
    "        var chart = new google.visualization.PieChart(document.getElementById(\\'piechart\\')); \\\n",
    "        chart.draw(data, options); \\\n",
    "      } \\\n",
    "    </script> \\\n",
    "  </head> \\\n",
    "  <body> \\\n",
    "  <h1>Top 10 MeetUp Categories from Spark</h1> \\\n",
    "    <div id=\"piechart\" style=\"width: 900px; height: 500px;\"></div> \\\n",
    "</body> \\\n",
    "</html>'%(top_list_categories_u)"
   ]
  },
  {
   "cell_type": "code",
   "execution_count": 252,
   "metadata": {
    "collapsed": true
   },
   "outputs": [],
   "source": [
    "with open(\"spark-top-meetup-categories-pie.html\", \"w\") as outf:\n",
    "    outf.write(html_2)"
   ]
  },
  {
   "cell_type": "markdown",
   "metadata": {
    "deletable": true,
    "editable": true
   },
   "source": [
    "`scp -i ~/ssh/dsci6007_cpm.pem hadoop@ec2-52-202-107-142.compute-1.amazonaws.com:~/spark-top-meetup-categories-pie.html /Users/carles/`"
   ]
  },
  {
   "cell_type": "markdown",
   "metadata": {
    "deletable": true,
    "editable": true
   },
   "source": [
    "## Get `topics`."
   ]
  },
  {
   "cell_type": "code",
   "execution_count": 26,
   "metadata": {
    "collapsed": false,
    "deletable": true,
    "editable": true
   },
   "outputs": [
    {
     "name": "stdout",
     "output_type": "stream",
     "text": [
      "+--------------------+\n",
      "|                 col|\n",
      "+--------------------+\n",
      "|[[21184,European ...|\n",
      "|[[849,Philosophy,...|\n",
      "|[[1052,Goddess,go...|\n",
      "|[[713,Dining Out,...|\n",
      "|[[1193,Karaoke,ka...|\n",
      "|[[286,Anime,anime...|\n",
      "|[[206,Digital Pho...|\n",
      "|[[498,Singles,sin...|\n",
      "|[[242,Fitness,fit...|\n",
      "|[[407,Moms,moms],...|\n",
      "|[[407,Moms,moms],...|\n",
      "|[[10454,Language ...|\n",
      "|[[3006,Human Reso...|\n",
      "|[[3336,Self-Impro...|\n",
      "|[[459,HiFi,hifi],...|\n",
      "|[[1322,Meditation...|\n",
      "|[[10579,Technolog...|\n",
      "|[[16,Sales,sales]...|\n",
      "|[[1064,Python,pyt...|\n",
      "|[[2702,Domestic V...|\n",
      "+--------------------+\n",
      "only showing top 20 rows\n",
      "\n"
     ]
    }
   ],
   "source": [
    "results_df_2.select(explode(results_df_2['results']['topics'])).distinct().show()"
   ]
  },
  {
   "cell_type": "code",
   "execution_count": 209,
   "metadata": {
    "collapsed": true,
    "deletable": true,
    "editable": true
   },
   "outputs": [],
   "source": [
    "results_df_2_2 = results_df_2.select(explode(results_df_2['results']['topics'])).distinct()"
   ]
  },
  {
   "cell_type": "code",
   "execution_count": 210,
   "metadata": {
    "collapsed": true,
    "deletable": true,
    "editable": true
   },
   "outputs": [],
   "source": [
    "results_df_2_2_no_unique = results_df_2.select(explode(results_df_2['results']['topics']))"
   ]
  },
  {
   "cell_type": "code",
   "execution_count": 31,
   "metadata": {
    "collapsed": false,
    "deletable": true,
    "editable": true
   },
   "outputs": [
    {
     "name": "stdout",
     "output_type": "stream",
     "text": [
      "+--------------------+\n",
      "|                 col|\n",
      "+--------------------+\n",
      "|[21184,European C...|\n",
      "|[849,Philosophy,p...|\n",
      "|[1768,Ethics,ethics]|\n",
      "|[17957,Ontology,o...|\n",
      "| [23311,Logic,logic]|\n",
      "|[38404,Epistemolo...|\n",
      "|[1052,Goddess,god...|\n",
      "|[10290,Spirituali...|\n",
      "|[17276,Women's Ci...|\n",
      "|[17933,Women's Em...|\n",
      "|[37479,Earth-Base...|\n",
      "|[46860,New Moon,n...|\n",
      "|[59894,Sacred Cer...|\n",
      "|[62062,Sacred Fem...|\n",
      "|[67184,Moon Circl...|\n",
      "|[83103,new moon m...|\n",
      "|[85708,New Moon R...|\n",
      "|[97136,Goddess Sp...|\n",
      "|[105750,Divine Gu...|\n",
      "|[151485,The Divin...|\n",
      "+--------------------+\n",
      "only showing top 20 rows\n",
      "\n"
     ]
    }
   ],
   "source": [
    "results_df_2_2.select(explode(results_df_2_2.col)).show()"
   ]
  },
  {
   "cell_type": "code",
   "execution_count": 211,
   "metadata": {
    "collapsed": true,
    "deletable": true,
    "editable": true
   },
   "outputs": [],
   "source": [
    "results_df_2_2_1 = results_df_2_2.select(explode(results_df_2_2.col))"
   ]
  },
  {
   "cell_type": "code",
   "execution_count": 212,
   "metadata": {
    "collapsed": true,
    "deletable": true,
    "editable": true
   },
   "outputs": [],
   "source": [
    "results_df_2_2_1_no_unique = results_df_2_2_no_unique.select(explode(results_df_2_2_no_unique.col))"
   ]
  },
  {
   "cell_type": "code",
   "execution_count": 35,
   "metadata": {
    "collapsed": false,
    "deletable": true,
    "editable": true
   },
   "outputs": [
    {
     "name": "stdout",
     "output_type": "stream",
     "text": [
      "+--------+--------------------+--------------------+\n",
      "|topic_id|          topic_name|        topic_urlkey|\n",
      "+--------+--------------------+--------------------+\n",
      "|   21184|    European Culture|    european-culture|\n",
      "|     849|          Philosophy|          philosophy|\n",
      "|    1768|              Ethics|              ethics|\n",
      "|   17957|            Ontology|            ontology|\n",
      "|   23311|               Logic|               logic|\n",
      "|   38404|        Epistemology|        epistemology|\n",
      "|    1052|             Goddess|             goddess|\n",
      "|   10290|        Spirituality|        spirituality|\n",
      "|   17276|      Women's Circle|       womens-circle|\n",
      "|   17933| Women's Empowerment|  womens-empowerment|\n",
      "|   37479|Earth-Based Spiri...|earth-based-spiri...|\n",
      "|   46860|            New Moon|            new-moon|\n",
      "|   59894|Sacred Ceremony a...|sacred-ceremony-a...|\n",
      "|   62062|     Sacred Feminine|     sacred-feminine|\n",
      "|   67184|        Moon Circles|        moon-circles|\n",
      "|   83103| new moon meditation| new-moon-meditation|\n",
      "|   85708|     New Moon Ritual|     new-moon-ritual|\n",
      "|   97136|Goddess Spirituality|goddess-spirituality|\n",
      "|  105750|     Divine Guidance|     divine-guidance|\n",
      "|  151485| The Divine Feminine| the-divine-feminine|\n",
      "+--------+--------------------+--------------------+\n",
      "only showing top 20 rows\n",
      "\n"
     ]
    }
   ],
   "source": [
    "results_df_2_2_1.select(results_df_2_2_1.col['id'].alias('topic_id'), results_df_2_2_1.col['name'].alias('topic_name'), results_df_2_2_1.col['urlkey'].alias('topic_urlkey')).where(results_df_2_2_1.col['id'].isNotNull()).show()"
   ]
  },
  {
   "cell_type": "code",
   "execution_count": 213,
   "metadata": {
    "collapsed": false,
    "deletable": true,
    "editable": true
   },
   "outputs": [],
   "source": [
    "topic_df = results_df_2_2_1.select(results_df_2_2_1.col['id'].alias('topic_id'), results_df_2_2_1.col['name'].alias('topic_name'), results_df_2_2_1.col['urlkey'].alias('topic_urlkey')).where(results_df_2_2_1.col['id'].isNotNull())"
   ]
  },
  {
   "cell_type": "code",
   "execution_count": 214,
   "metadata": {
    "collapsed": false,
    "deletable": true,
    "editable": true
   },
   "outputs": [],
   "source": [
    "topic_no_unique_df = results_df_2_2_1_no_unique.select(results_df_2_2_1_no_unique.col['id'].alias('topic_id'), results_df_2_2_1_no_unique.col['name'].alias('topic_name'), results_df_2_2_1_no_unique.col['urlkey'].alias('topic_urlkey')).where(results_df_2_2_1_no_unique.col['id'].isNotNull())"
   ]
  },
  {
   "cell_type": "code",
   "execution_count": 215,
   "metadata": {
    "collapsed": false,
    "deletable": true,
    "editable": true
   },
   "outputs": [
    {
     "name": "stdout",
     "output_type": "stream",
     "text": [
      "+--------+--------------------+--------------------+\n",
      "|topic_id|          topic_name|        topic_urlkey|\n",
      "+--------+--------------------+--------------------+\n",
      "|   21184|    European Culture|    european-culture|\n",
      "|     849|          Philosophy|          philosophy|\n",
      "|    1768|              Ethics|              ethics|\n",
      "|   17957|            Ontology|            ontology|\n",
      "|   23311|               Logic|               logic|\n",
      "|   38404|        Epistemology|        epistemology|\n",
      "|    1052|             Goddess|             goddess|\n",
      "|   10290|        Spirituality|        spirituality|\n",
      "|   17276|      Women's Circle|       womens-circle|\n",
      "|   17933| Women's Empowerment|  womens-empowerment|\n",
      "|   37479|Earth-Based Spiri...|earth-based-spiri...|\n",
      "|   46860|            New Moon|            new-moon|\n",
      "|   59894|Sacred Ceremony a...|sacred-ceremony-a...|\n",
      "|   62062|     Sacred Feminine|     sacred-feminine|\n",
      "|   67184|        Moon Circles|        moon-circles|\n",
      "|   83103| new moon meditation| new-moon-meditation|\n",
      "|   85708|     New Moon Ritual|     new-moon-ritual|\n",
      "|   97136|Goddess Spirituality|goddess-spirituality|\n",
      "|  105750|     Divine Guidance|     divine-guidance|\n",
      "|  151485| The Divine Feminine| the-divine-feminine|\n",
      "+--------+--------------------+--------------------+\n",
      "only showing top 20 rows\n",
      "\n"
     ]
    }
   ],
   "source": [
    "topic_df.show()"
   ]
  },
  {
   "cell_type": "code",
   "execution_count": 216,
   "metadata": {
    "collapsed": true,
    "deletable": true,
    "editable": true
   },
   "outputs": [],
   "source": [
    "topic_df.write.save('s3a://dsci6007-final-project-3nf/topic_table/topic_table.csv/', format=\"csv\")"
   ]
  },
  {
   "cell_type": "code",
   "execution_count": 217,
   "metadata": {
    "collapsed": true,
    "deletable": true,
    "editable": true
   },
   "outputs": [],
   "source": [
    "topic_count_df = topic_no_unique_df.groupBy('topic_name').count().sort(col(\"count\").desc())"
   ]
  },
  {
   "cell_type": "markdown",
   "metadata": {
    "deletable": true,
    "editable": true
   },
   "source": [
    "### Export to Pandas."
   ]
  },
  {
   "cell_type": "code",
   "execution_count": 218,
   "metadata": {
    "collapsed": true,
    "deletable": true,
    "editable": true
   },
   "outputs": [],
   "source": [
    "df_topic = topic_count_df.limit(20).toPandas()"
   ]
  },
  {
   "cell_type": "code",
   "execution_count": 219,
   "metadata": {
    "collapsed": false,
    "deletable": true,
    "editable": true
   },
   "outputs": [
    {
     "data": {
      "text/html": [
       "<div>\n",
       "<table border=\"1\" class=\"dataframe\">\n",
       "  <thead>\n",
       "    <tr style=\"text-align: right;\">\n",
       "      <th></th>\n",
       "      <th>topic_name</th>\n",
       "      <th>count</th>\n",
       "    </tr>\n",
       "  </thead>\n",
       "  <tbody>\n",
       "    <tr>\n",
       "      <th>0</th>\n",
       "      <td>Social Networking</td>\n",
       "      <td>14509</td>\n",
       "    </tr>\n",
       "    <tr>\n",
       "      <th>1</th>\n",
       "      <td>Social</td>\n",
       "      <td>11181</td>\n",
       "    </tr>\n",
       "    <tr>\n",
       "      <th>2</th>\n",
       "      <td>Singles</td>\n",
       "      <td>8809</td>\n",
       "    </tr>\n",
       "    <tr>\n",
       "      <th>3</th>\n",
       "      <td>Entrepreneurship</td>\n",
       "      <td>8543</td>\n",
       "    </tr>\n",
       "    <tr>\n",
       "      <th>4</th>\n",
       "      <td>New In Town</td>\n",
       "      <td>8157</td>\n",
       "    </tr>\n",
       "  </tbody>\n",
       "</table>\n",
       "</div>"
      ],
      "text/plain": [
       "          topic_name  count\n",
       "0  Social Networking  14509\n",
       "1             Social  11181\n",
       "2            Singles   8809\n",
       "3   Entrepreneurship   8543\n",
       "4        New In Town   8157"
      ]
     },
     "execution_count": 219,
     "metadata": {},
     "output_type": "execute_result"
    }
   ],
   "source": [
    "df_topic.head()"
   ]
  },
  {
   "cell_type": "code",
   "execution_count": 220,
   "metadata": {
    "collapsed": true,
    "deletable": true,
    "editable": true
   },
   "outputs": [],
   "source": [
    "df_topic.index = df_topic.index + 1"
   ]
  },
  {
   "cell_type": "code",
   "execution_count": 221,
   "metadata": {
    "collapsed": false,
    "deletable": true,
    "editable": true
   },
   "outputs": [
    {
     "data": {
      "text/html": [
       "<div>\n",
       "<table border=\"1\" class=\"dataframe\">\n",
       "  <thead>\n",
       "    <tr style=\"text-align: right;\">\n",
       "      <th></th>\n",
       "      <th>topic_name</th>\n",
       "      <th>count</th>\n",
       "    </tr>\n",
       "  </thead>\n",
       "  <tbody>\n",
       "    <tr>\n",
       "      <th>1</th>\n",
       "      <td>Social Networking</td>\n",
       "      <td>14509</td>\n",
       "    </tr>\n",
       "    <tr>\n",
       "      <th>2</th>\n",
       "      <td>Social</td>\n",
       "      <td>11181</td>\n",
       "    </tr>\n",
       "    <tr>\n",
       "      <th>3</th>\n",
       "      <td>Singles</td>\n",
       "      <td>8809</td>\n",
       "    </tr>\n",
       "    <tr>\n",
       "      <th>4</th>\n",
       "      <td>Entrepreneurship</td>\n",
       "      <td>8543</td>\n",
       "    </tr>\n",
       "    <tr>\n",
       "      <th>5</th>\n",
       "      <td>New In Town</td>\n",
       "      <td>8157</td>\n",
       "    </tr>\n",
       "    <tr>\n",
       "      <th>6</th>\n",
       "      <td>Nightlife</td>\n",
       "      <td>6541</td>\n",
       "    </tr>\n",
       "    <tr>\n",
       "      <th>7</th>\n",
       "      <td>Dining Out</td>\n",
       "      <td>6031</td>\n",
       "    </tr>\n",
       "    <tr>\n",
       "      <th>8</th>\n",
       "      <td>Fun Times</td>\n",
       "      <td>5465</td>\n",
       "    </tr>\n",
       "    <tr>\n",
       "      <th>9</th>\n",
       "      <td>Web Technology</td>\n",
       "      <td>5282</td>\n",
       "    </tr>\n",
       "    <tr>\n",
       "      <th>10</th>\n",
       "      <td>Self-Improvement</td>\n",
       "      <td>4662</td>\n",
       "    </tr>\n",
       "    <tr>\n",
       "      <th>11</th>\n",
       "      <td>New Technology</td>\n",
       "      <td>4423</td>\n",
       "    </tr>\n",
       "    <tr>\n",
       "      <th>12</th>\n",
       "      <td>Adventure</td>\n",
       "      <td>4369</td>\n",
       "    </tr>\n",
       "    <tr>\n",
       "      <th>13</th>\n",
       "      <td>Professional Networking</td>\n",
       "      <td>4261</td>\n",
       "    </tr>\n",
       "    <tr>\n",
       "      <th>14</th>\n",
       "      <td>Business Strategy</td>\n",
       "      <td>4115</td>\n",
       "    </tr>\n",
       "    <tr>\n",
       "      <th>15</th>\n",
       "      <td>Wellness</td>\n",
       "      <td>3982</td>\n",
       "    </tr>\n",
       "    <tr>\n",
       "      <th>16</th>\n",
       "      <td>Fitness</td>\n",
       "      <td>3717</td>\n",
       "    </tr>\n",
       "    <tr>\n",
       "      <th>17</th>\n",
       "      <td>Dancing</td>\n",
       "      <td>3555</td>\n",
       "    </tr>\n",
       "    <tr>\n",
       "      <th>18</th>\n",
       "      <td>Hiking</td>\n",
       "      <td>3503</td>\n",
       "    </tr>\n",
       "    <tr>\n",
       "      <th>19</th>\n",
       "      <td>Wine</td>\n",
       "      <td>3466</td>\n",
       "    </tr>\n",
       "    <tr>\n",
       "      <th>20</th>\n",
       "      <td>Small Business</td>\n",
       "      <td>3386</td>\n",
       "    </tr>\n",
       "  </tbody>\n",
       "</table>\n",
       "</div>"
      ],
      "text/plain": [
       "                 topic_name  count\n",
       "1         Social Networking  14509\n",
       "2                    Social  11181\n",
       "3                   Singles   8809\n",
       "4          Entrepreneurship   8543\n",
       "5               New In Town   8157\n",
       "6                 Nightlife   6541\n",
       "7                Dining Out   6031\n",
       "8                 Fun Times   5465\n",
       "9            Web Technology   5282\n",
       "10         Self-Improvement   4662\n",
       "11           New Technology   4423\n",
       "12                Adventure   4369\n",
       "13  Professional Networking   4261\n",
       "14        Business Strategy   4115\n",
       "15                 Wellness   3982\n",
       "16                  Fitness   3717\n",
       "17                  Dancing   3555\n",
       "18                   Hiking   3503\n",
       "19                     Wine   3466\n",
       "20           Small Business   3386"
      ]
     },
     "execution_count": 221,
     "metadata": {},
     "output_type": "execute_result"
    }
   ],
   "source": [
    "df_topic"
   ]
  },
  {
   "cell_type": "code",
   "execution_count": 234,
   "metadata": {
    "collapsed": true
   },
   "outputs": [],
   "source": [
    "top_list_topics = df_topic.values.tolist()"
   ]
  },
  {
   "cell_type": "code",
   "execution_count": 235,
   "metadata": {
    "collapsed": true
   },
   "outputs": [],
   "source": [
    "top_list_topics_u = [[str(item[0]),item[1]] for item in top_list_topics]"
   ]
  },
  {
   "cell_type": "code",
   "execution_count": 236,
   "metadata": {
    "collapsed": false
   },
   "outputs": [],
   "source": [
    "top_list_topics_u.insert(0, ['Topic', 'Count'])"
   ]
  },
  {
   "cell_type": "code",
   "execution_count": 237,
   "metadata": {
    "collapsed": true
   },
   "outputs": [],
   "source": [
    "top_list_topics_u = top_list_topics_u[:11]"
   ]
  },
  {
   "cell_type": "markdown",
   "metadata": {
    "deletable": true,
    "editable": true
   },
   "source": [
    "### Saving dataframe as html format in the master node."
   ]
  },
  {
   "cell_type": "code",
   "execution_count": 238,
   "metadata": {
    "collapsed": true,
    "deletable": true,
    "editable": true
   },
   "outputs": [],
   "source": [
    "timestamp = '{}'.format(datetime.now())"
   ]
  },
  {
   "cell_type": "code",
   "execution_count": 227,
   "metadata": {
    "collapsed": true,
    "deletable": true,
    "editable": true
   },
   "outputs": [],
   "source": [
    "html_1 = '<!DOCTYPE html><HTML><HEAD><TITLE>Top 20 MeetUp Topics</TITLE></HEAD> \\\n",
    "        <BODY>{}</BODY></HTML>'.format(df_topic.to_html().encode('utf-8'))"
   ]
  },
  {
   "cell_type": "code",
   "execution_count": 239,
   "metadata": {
    "collapsed": true,
    "deletable": true,
    "editable": true
   },
   "outputs": [],
   "source": [
    "with open(\"spark-top-meetup-topics.html\", \"w\") as outf:\n",
    "    outf.write(\"<H1>Top 20 MeetUp Topics from Spark</H1>\")\n",
    "    outf.write(\"<H2>As of: \" + timestamp + \"</H2>\")\n",
    "    outf.write(html_1)"
   ]
  },
  {
   "cell_type": "markdown",
   "metadata": {},
   "source": [
    "``scp -i ~/ssh/dsci6007_cpm.pem hadoop@ec2-52-202-107-142.compute-1.amazonaws.com:~/spark-top-meetup-topics.html /Users/carles/``"
   ]
  },
  {
   "cell_type": "code",
   "execution_count": 240,
   "metadata": {
    "collapsed": false
   },
   "outputs": [],
   "source": [
    "html_2 = '<html><head><title>Top 10 MeetUp Topics</title> \\\n",
    "    <script type=\"text/javascript\" src=\"https://www.gstatic.com/charts/loader.js\"></script> \\\n",
    "    <script type=\"text/javascript\"> \\\n",
    "      google.charts.load(\\'current\\', {\\'packages\\':[\\'corechart\\']}); \\\n",
    "      google.charts.setOnLoadCallback(drawChart); \\\n",
    "      function drawChart() { var data = google.visualization.arrayToDataTable(%s);\\\n",
    "        var options = { \\\n",
    "          title: \\'Top 10 Topics Breakdown\\'}; \\\n",
    "        var chart = new google.visualization.PieChart(document.getElementById(\\'piechart\\')); \\\n",
    "        chart.draw(data, options); \\\n",
    "      } \\\n",
    "    </script> \\\n",
    "  </head> \\\n",
    "  <body> \\\n",
    "  <h1>Top 10 MeetUp Topics from Spark</h1> \\\n",
    "    <div id=\"piechart\" style=\"width: 900px; height: 500px;\"></div> \\\n",
    "</body> \\\n",
    "</html>'%(top_list_topics_u)"
   ]
  },
  {
   "cell_type": "code",
   "execution_count": 241,
   "metadata": {
    "collapsed": true
   },
   "outputs": [],
   "source": [
    "with open(\"spark-top-meetup-topics-pie.html\", \"w\") as outf:\n",
    "    outf.write(html_2)"
   ]
  },
  {
   "cell_type": "markdown",
   "metadata": {
    "deletable": true,
    "editable": true
   },
   "source": [
    "`scp -i ~/ssh/dsci6007_cpm.pem hadoop@ec2-52-202-107-142.compute-1.amazonaws.com:~/spark-top-meetup-topics-pie.html /Users/carles/`"
   ]
  },
  {
   "cell_type": "markdown",
   "metadata": {
    "deletable": true,
    "editable": true
   },
   "source": [
    "## Get `organizer`."
   ]
  },
  {
   "cell_type": "code",
   "execution_count": 48,
   "metadata": {
    "collapsed": false,
    "deletable": true,
    "editable": true
   },
   "outputs": [
    {
     "name": "stdout",
     "output_type": "stream",
     "text": [
      "+--------------------+\n",
      "|                 col|\n",
      "+--------------------+\n",
      "|[126468982,John S...|\n",
      "|[569876,Casey Hol...|\n",
      "|[810537,Rachel,[h...|\n",
      "|[2476565,Anja,[ht...|\n",
      "|[93184502,Ben,[ht...|\n",
      "|[159597932,Mauree...|\n",
      "|[9719187,Sylvia,[...|\n",
      "|[3672645,Johanna ...|\n",
      "|[3136421,Kelly,[h...|\n",
      "|[810537,Rachel,[h...|\n",
      "|[2976074,Jeff W,[...|\n",
      "|[3138653,lehua,[h...|\n",
      "|[16301661,Brian W...|\n",
      "|[2153979,Poki,[ht...|\n",
      "|[357792,Misha,[ht...|\n",
      "|[34068522,Investo...|\n",
      "|[184888684,Peter ...|\n",
      "|[34068522,Investo...|\n",
      "|[3260745,Betsy Mo...|\n",
      "|[2368765,Bosco So...|\n",
      "+--------------------+\n",
      "only showing top 20 rows\n",
      "\n"
     ]
    }
   ],
   "source": [
    "results_df_2.select(explode(results_df_2['results']['organizer'])).show()"
   ]
  },
  {
   "cell_type": "code",
   "execution_count": 255,
   "metadata": {
    "collapsed": true,
    "deletable": true,
    "editable": true
   },
   "outputs": [],
   "source": [
    "results_df_2_3_no_unique = results_df_2.select(explode(results_df_2['results']['organizer']))"
   ]
  },
  {
   "cell_type": "code",
   "execution_count": 256,
   "metadata": {
    "collapsed": true,
    "deletable": true,
    "editable": true
   },
   "outputs": [],
   "source": [
    "results_df_2_3 = results_df_2_3_no_unique.distinct()"
   ]
  },
  {
   "cell_type": "code",
   "execution_count": 49,
   "metadata": {
    "collapsed": true,
    "deletable": true,
    "editable": true
   },
   "outputs": [],
   "source": [
    "#results_df_2_3 = results_df_2.select(explode(results_df_2['results']['organizer']))"
   ]
  },
  {
   "cell_type": "code",
   "execution_count": 52,
   "metadata": {
    "collapsed": false,
    "deletable": true,
    "editable": true
   },
   "outputs": [
    {
     "name": "stdout",
     "output_type": "stream",
     "text": [
      "+---------+--------------------+\n",
      "|member_id|      organizer_name|\n",
      "+---------+--------------------+\n",
      "| 12683857|           StudioPFP|\n",
      "|184514510|         Rima Rivera|\n",
      "|172882602|            Galya 🐾|\n",
      "|  8907492|          Punit Kaur|\n",
      "|  1433351|       Jerry Schwarz|\n",
      "|147459412| Laura Veeneman Bare|\n",
      "|  4299035|            Margaret|\n",
      "|  3329273| Aleksandar Gargenta|\n",
      "|206896437|                  JR|\n",
      "|207875505|     Sathish Chandra|\n",
      "|184120393|        Marty Hubert|\n",
      "|185000244|               Yasar|\n",
      "|140809602|           Teal Swan|\n",
      "|189415010|       Luanne Ludwig|\n",
      "|  2368765|            Bosco So|\n",
      "| 11071880| David Cao Mlogy.net|\n",
      "| 23272311|       Kenny Burgher|\n",
      "| 11008485|    Dora Maria Abreu|\n",
      "| 47044212|               Susan|\n",
      "|  8614660|Ajanta_BollywoodG...|\n",
      "+---------+--------------------+\n",
      "only showing top 20 rows\n",
      "\n"
     ]
    }
   ],
   "source": [
    "results_df_2_3.select(results_df_2_3.col['member_id'].alias('member_id'), results_df_2_3.col['name'].alias('organizer_name')).where(results_df_2_3.col['member_id'].isNotNull()).show()"
   ]
  },
  {
   "cell_type": "code",
   "execution_count": 257,
   "metadata": {
    "collapsed": true,
    "deletable": true,
    "editable": true
   },
   "outputs": [],
   "source": [
    "organizer_df = results_df_2_3.select(results_df_2_3.col['member_id'].alias('member_id'), results_df_2_3.col['name'].alias('organizer_name')).where(results_df_2_3.col['member_id'].isNotNull())"
   ]
  },
  {
   "cell_type": "code",
   "execution_count": 258,
   "metadata": {
    "collapsed": true,
    "deletable": true,
    "editable": true
   },
   "outputs": [],
   "source": [
    "organizer_no_unique_df = results_df_2_3_no_unique.select(results_df_2_3_no_unique.col['member_id'].alias('member_id'), results_df_2_3_no_unique.col['name'].alias('organizer_name')).where(results_df_2_3_no_unique.col['member_id'].isNotNull())"
   ]
  },
  {
   "cell_type": "code",
   "execution_count": 259,
   "metadata": {
    "collapsed": false,
    "deletable": true,
    "editable": true
   },
   "outputs": [
    {
     "name": "stdout",
     "output_type": "stream",
     "text": [
      "+---------+-------------------+\n",
      "|member_id|     organizer_name|\n",
      "+---------+-------------------+\n",
      "| 12683857|          StudioPFP|\n",
      "|184514510|        Rima Rivera|\n",
      "|  8907492|         Punit Kaur|\n",
      "|172882602|           Galya 🐾|\n",
      "|  1433351|      Jerry Schwarz|\n",
      "|  4299035|           Margaret|\n",
      "|147459412|Laura Veeneman Bare|\n",
      "|  3329273|Aleksandar Gargenta|\n",
      "|140809602|          Teal Swan|\n",
      "|189415010|      Luanne Ludwig|\n",
      "|206896437|                 JR|\n",
      "|207875505|    Sathish Chandra|\n",
      "|184120393|       Marty Hubert|\n",
      "|185000244|              Yasar|\n",
      "|  2368765|           Bosco So|\n",
      "| 11071880|David Cao Mlogy.net|\n",
      "| 23272311|      Kenny Burgher|\n",
      "| 11008485|   Dora Maria Abreu|\n",
      "| 47044212|              Susan|\n",
      "|207911016|      Alexis Sheehy|\n",
      "+---------+-------------------+\n",
      "only showing top 20 rows\n",
      "\n"
     ]
    }
   ],
   "source": [
    "organizer_df.show()"
   ]
  },
  {
   "cell_type": "code",
   "execution_count": 260,
   "metadata": {
    "collapsed": true
   },
   "outputs": [],
   "source": [
    "organizer_df.write.save('s3a://dsci6007-final-project-3nf/organizer_table/organizer_table.csv/', format=\"csv\")"
   ]
  },
  {
   "cell_type": "markdown",
   "metadata": {
    "deletable": true,
    "editable": true
   },
   "source": [
    "https://aws.amazon.com/premiumsupport/knowledge-center/rds-import-data/\n",
    "\n",
    "http://docs.aws.amazon.com/AmazonRDS/latest/UserGuide/PostgreSQL.Procedural.Importing.html"
   ]
  },
  {
   "cell_type": "code",
   "execution_count": 261,
   "metadata": {
    "collapsed": true,
    "deletable": true,
    "editable": true
   },
   "outputs": [],
   "source": [
    "organizer_count_df = organizer_no_unique_df.groupBy('organizer_name').count().sort(col(\"count\").desc())"
   ]
  },
  {
   "cell_type": "markdown",
   "metadata": {
    "deletable": true,
    "editable": true
   },
   "source": [
    "### Export to Pandas."
   ]
  },
  {
   "cell_type": "code",
   "execution_count": 262,
   "metadata": {
    "collapsed": true,
    "deletable": true,
    "editable": true
   },
   "outputs": [],
   "source": [
    "df_organizer = organizer_count_df.limit(20).toPandas()"
   ]
  },
  {
   "cell_type": "code",
   "execution_count": 263,
   "metadata": {
    "collapsed": false,
    "deletable": true,
    "editable": true
   },
   "outputs": [
    {
     "data": {
      "text/html": [
       "<div>\n",
       "<table border=\"1\" class=\"dataframe\">\n",
       "  <thead>\n",
       "    <tr style=\"text-align: right;\">\n",
       "      <th></th>\n",
       "      <th>organizer_name</th>\n",
       "      <th>count</th>\n",
       "    </tr>\n",
       "  </thead>\n",
       "  <tbody>\n",
       "    <tr>\n",
       "      <th>0</th>\n",
       "      <td>chriss</td>\n",
       "      <td>1120</td>\n",
       "    </tr>\n",
       "    <tr>\n",
       "      <th>1</th>\n",
       "      <td>Rob</td>\n",
       "      <td>841</td>\n",
       "    </tr>\n",
       "    <tr>\n",
       "      <th>2</th>\n",
       "      <td>Toby Morning</td>\n",
       "      <td>840</td>\n",
       "    </tr>\n",
       "    <tr>\n",
       "      <th>3</th>\n",
       "      <td>Howard S.</td>\n",
       "      <td>840</td>\n",
       "    </tr>\n",
       "    <tr>\n",
       "      <th>4</th>\n",
       "      <td>Rachel</td>\n",
       "      <td>663</td>\n",
       "    </tr>\n",
       "  </tbody>\n",
       "</table>\n",
       "</div>"
      ],
      "text/plain": [
       "  organizer_name  count\n",
       "0         chriss   1120\n",
       "1            Rob    841\n",
       "2   Toby Morning    840\n",
       "3      Howard S.    840\n",
       "4         Rachel    663"
      ]
     },
     "execution_count": 263,
     "metadata": {},
     "output_type": "execute_result"
    }
   ],
   "source": [
    "df_organizer.head()"
   ]
  },
  {
   "cell_type": "code",
   "execution_count": 264,
   "metadata": {
    "collapsed": true,
    "deletable": true,
    "editable": true
   },
   "outputs": [],
   "source": [
    "df_organizer.index = df_organizer.index + 1"
   ]
  },
  {
   "cell_type": "code",
   "execution_count": 265,
   "metadata": {
    "collapsed": false,
    "deletable": true,
    "editable": true
   },
   "outputs": [
    {
     "data": {
      "text/html": [
       "<div>\n",
       "<table border=\"1\" class=\"dataframe\">\n",
       "  <thead>\n",
       "    <tr style=\"text-align: right;\">\n",
       "      <th></th>\n",
       "      <th>organizer_name</th>\n",
       "      <th>count</th>\n",
       "    </tr>\n",
       "  </thead>\n",
       "  <tbody>\n",
       "    <tr>\n",
       "      <th>1</th>\n",
       "      <td>chriss</td>\n",
       "      <td>1120</td>\n",
       "    </tr>\n",
       "    <tr>\n",
       "      <th>2</th>\n",
       "      <td>Rob</td>\n",
       "      <td>841</td>\n",
       "    </tr>\n",
       "    <tr>\n",
       "      <th>3</th>\n",
       "      <td>Toby Morning</td>\n",
       "      <td>840</td>\n",
       "    </tr>\n",
       "    <tr>\n",
       "      <th>4</th>\n",
       "      <td>Howard S.</td>\n",
       "      <td>840</td>\n",
       "    </tr>\n",
       "    <tr>\n",
       "      <th>5</th>\n",
       "      <td>Rachel</td>\n",
       "      <td>663</td>\n",
       "    </tr>\n",
       "    <tr>\n",
       "      <th>6</th>\n",
       "      <td>Investor's Business Daily</td>\n",
       "      <td>560</td>\n",
       "    </tr>\n",
       "    <tr>\n",
       "      <th>7</th>\n",
       "      <td>Sailor Dave</td>\n",
       "      <td>560</td>\n",
       "    </tr>\n",
       "    <tr>\n",
       "      <th>8</th>\n",
       "      <td>David Politi</td>\n",
       "      <td>560</td>\n",
       "    </tr>\n",
       "    <tr>\n",
       "      <th>9</th>\n",
       "      <td>Igor Sinyak</td>\n",
       "      <td>560</td>\n",
       "    </tr>\n",
       "    <tr>\n",
       "      <th>10</th>\n",
       "      <td>Maureen</td>\n",
       "      <td>560</td>\n",
       "    </tr>\n",
       "    <tr>\n",
       "      <th>11</th>\n",
       "      <td>Marcus Ronaldi</td>\n",
       "      <td>560</td>\n",
       "    </tr>\n",
       "    <tr>\n",
       "      <th>12</th>\n",
       "      <td>O G</td>\n",
       "      <td>560</td>\n",
       "    </tr>\n",
       "    <tr>\n",
       "      <th>13</th>\n",
       "      <td>Jessie</td>\n",
       "      <td>560</td>\n",
       "    </tr>\n",
       "    <tr>\n",
       "      <th>14</th>\n",
       "      <td>linda ballard</td>\n",
       "      <td>560</td>\n",
       "    </tr>\n",
       "    <tr>\n",
       "      <th>15</th>\n",
       "      <td>Tom</td>\n",
       "      <td>560</td>\n",
       "    </tr>\n",
       "    <tr>\n",
       "      <th>16</th>\n",
       "      <td>Raines Cohen</td>\n",
       "      <td>560</td>\n",
       "    </tr>\n",
       "    <tr>\n",
       "      <th>17</th>\n",
       "      <td>Chris</td>\n",
       "      <td>513</td>\n",
       "    </tr>\n",
       "    <tr>\n",
       "      <th>18</th>\n",
       "      <td>Mike</td>\n",
       "      <td>504</td>\n",
       "    </tr>\n",
       "    <tr>\n",
       "      <th>19</th>\n",
       "      <td>John</td>\n",
       "      <td>392</td>\n",
       "    </tr>\n",
       "    <tr>\n",
       "      <th>20</th>\n",
       "      <td>Lee</td>\n",
       "      <td>391</td>\n",
       "    </tr>\n",
       "  </tbody>\n",
       "</table>\n",
       "</div>"
      ],
      "text/plain": [
       "               organizer_name  count\n",
       "1                      chriss   1120\n",
       "2                         Rob    841\n",
       "3                Toby Morning    840\n",
       "4                   Howard S.    840\n",
       "5                      Rachel    663\n",
       "6   Investor's Business Daily    560\n",
       "7                 Sailor Dave    560\n",
       "8                David Politi    560\n",
       "9                 Igor Sinyak    560\n",
       "10                    Maureen    560\n",
       "11             Marcus Ronaldi    560\n",
       "12                        O G    560\n",
       "13                     Jessie    560\n",
       "14              linda ballard    560\n",
       "15                        Tom    560\n",
       "16               Raines Cohen    560\n",
       "17                      Chris    513\n",
       "18                       Mike    504\n",
       "19                       John    392\n",
       "20                        Lee    391"
      ]
     },
     "execution_count": 265,
     "metadata": {},
     "output_type": "execute_result"
    }
   ],
   "source": [
    "df_organizer"
   ]
  },
  {
   "cell_type": "code",
   "execution_count": 266,
   "metadata": {
    "collapsed": true
   },
   "outputs": [],
   "source": [
    "top_list_organizer = df_organizer.values.tolist()"
   ]
  },
  {
   "cell_type": "code",
   "execution_count": 267,
   "metadata": {
    "collapsed": true
   },
   "outputs": [],
   "source": [
    "top_list_organizer_u = [[str(item[0]),item[1]] for item in top_list_organizer]"
   ]
  },
  {
   "cell_type": "code",
   "execution_count": 268,
   "metadata": {
    "collapsed": true
   },
   "outputs": [],
   "source": [
    "top_list_organizer_u.insert(0, ['Organizer', 'Count'])"
   ]
  },
  {
   "cell_type": "code",
   "execution_count": 269,
   "metadata": {
    "collapsed": true
   },
   "outputs": [],
   "source": [
    "top_list_organizer_u = top_list_organizer_u[:11]"
   ]
  },
  {
   "cell_type": "markdown",
   "metadata": {
    "deletable": true,
    "editable": true
   },
   "source": [
    "### Saving dataframe as html format in the master node."
   ]
  },
  {
   "cell_type": "code",
   "execution_count": 270,
   "metadata": {
    "collapsed": true,
    "deletable": true,
    "editable": true
   },
   "outputs": [],
   "source": [
    "timestamp = '{}'.format(datetime.now())"
   ]
  },
  {
   "cell_type": "code",
   "execution_count": 271,
   "metadata": {
    "collapsed": true,
    "deletable": true,
    "editable": true
   },
   "outputs": [],
   "source": [
    "html_1 = '<!DOCTYPE html><HTML><HEAD><TITLE>Top 20 MeetUp Organizers</TITLE></HEAD> \\\n",
    "        <BODY>{}</BODY></HTML>'.format(df_organizer.to_html().encode('utf-8'))"
   ]
  },
  {
   "cell_type": "code",
   "execution_count": 272,
   "metadata": {
    "collapsed": true,
    "deletable": true,
    "editable": true
   },
   "outputs": [],
   "source": [
    "with open(\"spark-top-meetup-organizers.html\", \"w\") as outf:\n",
    "    outf.write(\"<H1>Top 20 MeetUp Organizers from Spark</H1>\")\n",
    "    outf.write(\"<H2>As of: \" + timestamp + \"</H2>\")\n",
    "    outf.write(html_1)"
   ]
  },
  {
   "cell_type": "markdown",
   "metadata": {
    "deletable": true,
    "editable": true
   },
   "source": [
    "`scp -i ~/ssh/dsci6007_cpm.pem hadoop@ec2-52-202-107-142.compute-1.amazonaws.com:~/spark-top-meetup-organizers.html /Users/carles/`"
   ]
  },
  {
   "cell_type": "code",
   "execution_count": 273,
   "metadata": {
    "collapsed": true,
    "deletable": true,
    "editable": true
   },
   "outputs": [],
   "source": [
    "html_2 = '<html><head><title>Top 10 MeetUp Organizers</title> \\\n",
    "    <script type=\"text/javascript\" src=\"https://www.gstatic.com/charts/loader.js\"></script> \\\n",
    "    <script type=\"text/javascript\"> \\\n",
    "      google.charts.load(\\'current\\', {\\'packages\\':[\\'corechart\\']}); \\\n",
    "      google.charts.setOnLoadCallback(drawChart); \\\n",
    "      function drawChart() { var data = google.visualization.arrayToDataTable(%s);\\\n",
    "        var options = { \\\n",
    "          title: \\'Top 10 Organizers Breakdown\\'}; \\\n",
    "        var chart = new google.visualization.PieChart(document.getElementById(\\'piechart\\')); \\\n",
    "        chart.draw(data, options); \\\n",
    "      } \\\n",
    "    </script> \\\n",
    "  </head> \\\n",
    "  <body> \\\n",
    "  <h1>Top 10 MeetUp Organizers from Spark</h1> \\\n",
    "    <div id=\"piechart\" style=\"width: 900px; height: 500px;\"></div> \\\n",
    "</body> \\\n",
    "</html>'%(top_list_organizer_u)"
   ]
  },
  {
   "cell_type": "code",
   "execution_count": 274,
   "metadata": {
    "collapsed": true
   },
   "outputs": [],
   "source": [
    "with open(\"spark-top-meetup-organizers-pie.html\", \"w\") as outf:\n",
    "    outf.write(html_2)"
   ]
  },
  {
   "cell_type": "markdown",
   "metadata": {},
   "source": [
    "`scp -i ~/ssh/dsci6007_cpm.pem hadoop@ec2-52-202-107-142.compute-1.amazonaws.com:~/spark-top-meetup-organizers-pie.html /Users/carles/`"
   ]
  },
  {
   "cell_type": "code",
   "execution_count": null,
   "metadata": {
    "collapsed": true
   },
   "outputs": [],
   "source": []
  }
 ],
 "metadata": {
  "kernelspec": {
   "display_name": "Python 2",
   "language": "python",
   "name": "python2"
  },
  "language_info": {
   "codemirror_mode": {
    "name": "ipython",
    "version": 2
   },
   "file_extension": ".py",
   "mimetype": "text/x-python",
   "name": "python",
   "nbconvert_exporter": "python",
   "pygments_lexer": "ipython2",
   "version": "2.7.12"
  }
 },
 "nbformat": 4,
 "nbformat_minor": 2
}
