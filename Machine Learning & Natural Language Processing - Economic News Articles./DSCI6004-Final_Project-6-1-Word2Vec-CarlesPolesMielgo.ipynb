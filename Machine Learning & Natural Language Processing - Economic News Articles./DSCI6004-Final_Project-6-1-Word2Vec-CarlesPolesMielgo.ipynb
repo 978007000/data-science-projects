{
 "cells": [
  {
   "cell_type": "markdown",
   "metadata": {},
   "source": [
    "# 6.1 - Word2Vec example.\n",
    "\n",
    "> Word2Vec, using this tutorial: https://rare-technologies.com/word2vec-tutorial/"
   ]
  },
  {
   "cell_type": "code",
   "execution_count": 1,
   "metadata": {
    "collapsed": true
   },
   "outputs": [],
   "source": [
    "reset -fs"
   ]
  },
  {
   "cell_type": "code",
   "execution_count": 2,
   "metadata": {
    "collapsed": false
   },
   "outputs": [],
   "source": [
    "import matplotlib.pyplot as plt\n",
    "%matplotlib inline\n",
    "import string\n",
    "import re\n",
    "import gensim\n",
    "import numpy as np\n",
    "import pickle\n",
    "import pandas as pd\n",
    "import seaborn as sns\n",
    "import nltk\n",
    "import nlp_ml_functions\n",
    "import operator\n",
    "from collections import Counter\n",
    "from sklearn.model_selection import train_test_split, cross_val_score, GridSearchCV\n",
    "from sklearn.linear_model import LogisticRegression\n",
    "from sklearn.neighbors import KNeighborsClassifier\n",
    "from sklearn.multiclass import OneVsRestClassifier\n",
    "from sklearn.linear_model import SGDClassifier\n",
    "from sklearn.naive_bayes import MultinomialNB, BernoulliNB\n",
    "from sklearn.svm import SVC\n",
    "from sklearn.ensemble import GradientBoostingClassifier, AdaBoostClassifier, RandomForestClassifier\n",
    "from sklearn.preprocessing import label_binarize, MultiLabelBinarizer, binarize, FunctionTransformer\n",
    "from sklearn.metrics import classification_report, accuracy_score, precision_score, recall_score, f1_score, confusion_matrix, roc_auc_score, roc_curve, mean_squared_error, r2_score\n",
    "from sklearn.feature_extraction.text import CountVectorizer, TfidfVectorizer, TfidfTransformer\n",
    "from sklearn.pipeline import Pipeline\n",
    "sns.set_style('white')"
   ]
  },
  {
   "cell_type": "code",
   "execution_count": 3,
   "metadata": {
    "collapsed": true
   },
   "outputs": [],
   "source": [
    "economic_df = pd.read_pickle(\"full_df\")"
   ]
  },
  {
   "cell_type": "code",
   "execution_count": 4,
   "metadata": {
    "collapsed": false
   },
   "outputs": [],
   "source": [
    "economic_df['headline_process'] = economic_df['article_headline'].apply(nlp_ml_functions.process_dataframe_text)"
   ]
  },
  {
   "cell_type": "code",
   "execution_count": 5,
   "metadata": {
    "collapsed": true
   },
   "outputs": [],
   "source": [
    "economic_df['article_process'] = economic_df['article_text'].apply(nlp_ml_functions.process_dataframe_text)"
   ]
  },
  {
   "cell_type": "markdown",
   "metadata": {},
   "source": [
    ">The model below expects a list of words."
   ]
  },
  {
   "cell_type": "code",
   "execution_count": 6,
   "metadata": {
    "collapsed": true
   },
   "outputs": [],
   "source": [
    "model_article = gensim.models.Word2Vec(economic_df['article_process'])"
   ]
  },
  {
   "cell_type": "code",
   "execution_count": 7,
   "metadata": {
    "collapsed": false
   },
   "outputs": [
    {
     "data": {
      "text/plain": [
       "-0.019423621137489432"
      ]
     },
     "execution_count": 7,
     "metadata": {},
     "output_type": "execute_result"
    }
   ],
   "source": [
    "model_article.similarity('greenspan', 'stock')"
   ]
  },
  {
   "cell_type": "code",
   "execution_count": 8,
   "metadata": {
    "collapsed": false
   },
   "outputs": [
    {
     "data": {
      "text/plain": [
       "0.6984695945400401"
      ]
     },
     "execution_count": 8,
     "metadata": {},
     "output_type": "execute_result"
    }
   ],
   "source": [
    "model_article.similarity('greenspan', 'fed')"
   ]
  },
  {
   "cell_type": "code",
   "execution_count": 9,
   "metadata": {
    "collapsed": false
   },
   "outputs": [
    {
     "data": {
      "text/plain": [
       "-0.11851178222069325"
      ]
     },
     "execution_count": 9,
     "metadata": {},
     "output_type": "execute_result"
    }
   ],
   "source": [
    "model_article.similarity('nasdaq', 'greenspan')"
   ]
  },
  {
   "cell_type": "code",
   "execution_count": 10,
   "metadata": {
    "collapsed": false
   },
   "outputs": [],
   "source": [
    "vocab = list(model_article.vocab.keys())"
   ]
  },
  {
   "cell_type": "code",
   "execution_count": 11,
   "metadata": {
    "collapsed": false
   },
   "outputs": [
    {
     "data": {
      "text/plain": [
       "['classroom', 'hike', 'fromth', 'hathaway', 'resurfac', 'thrift']"
      ]
     },
     "execution_count": 11,
     "metadata": {},
     "output_type": "execute_result"
    }
   ],
   "source": [
    "vocab[:6]"
   ]
  },
  {
   "cell_type": "code",
   "execution_count": 12,
   "metadata": {
    "collapsed": false
   },
   "outputs": [
    {
     "data": {
      "text/plain": [
       "True"
      ]
     },
     "execution_count": 12,
     "metadata": {},
     "output_type": "execute_result"
    }
   ],
   "source": [
    "'greenspan' in model_article.vocab"
   ]
  },
  {
   "cell_type": "code",
   "execution_count": 13,
   "metadata": {
    "collapsed": false
   },
   "outputs": [
    {
     "data": {
      "text/plain": [
       "array([ 0.33586928, -0.33984512, -1.48515415,  0.93629354,  0.33658773,\n",
       "        0.63544482, -0.32466829, -0.70783436,  1.12071729, -2.53000522,\n",
       "        0.79286397, -0.74986285,  1.04014635,  0.05663346, -1.18539107,\n",
       "       -1.28600943,  1.51976979, -0.23801124,  0.36992449, -0.31343627,\n",
       "       -0.58091396, -1.45921838,  1.46116185,  1.68834817,  0.06538529,\n",
       "       -0.4711028 ,  0.99743509,  1.64810586, -0.26482397,  0.08788714,\n",
       "       -0.17986527,  0.87353313, -1.80457461,  0.33208224, -0.35767072,\n",
       "        1.40211964, -0.81288916,  0.95337546, -1.82869983, -0.83418202,\n",
       "        0.61362779,  0.49138534,  1.84520292, -1.98632503, -0.40486577,\n",
       "        0.15329525,  0.7809298 , -1.75101233, -1.44991195,  0.21472277,\n",
       "       -0.56658781, -1.00829709,  1.36001325, -0.41025764, -0.07529707,\n",
       "        0.15081868,  0.9084686 , -0.40871617,  0.48274589, -0.14449202,\n",
       "        0.15649097,  1.23469889,  0.4530862 ,  1.18757796,  1.80677414,\n",
       "       -0.25615862,  0.13109891,  0.48317322, -2.26222992,  0.41032732,\n",
       "       -0.83099222,  1.14445686, -0.79672313,  0.51093894, -0.85141808,\n",
       "       -0.08996318,  0.59223825, -1.42800951, -0.38164866, -0.85990757,\n",
       "       -0.43415383,  0.18855946, -0.09383733,  0.71911281, -0.72850651,\n",
       "        0.50407809,  1.3667053 , -0.10627052,  0.68398154, -0.48980248,\n",
       "       -1.01053786, -0.50811929, -0.05673411,  0.32389534,  0.15496165,\n",
       "        0.54573619, -0.25397703,  0.1196527 , -0.14290951,  1.4160955 ], dtype=float32)"
      ]
     },
     "execution_count": 13,
     "metadata": {},
     "output_type": "execute_result"
    }
   ],
   "source": [
    "model_article['greenspan']"
   ]
  },
  {
   "cell_type": "code",
   "execution_count": 14,
   "metadata": {
    "collapsed": false
   },
   "outputs": [
    {
     "data": {
      "text/plain": [
       "[('nyse', 0.7690562605857849),\n",
       " ('list', 0.7589933276176453),\n",
       " ('counter', 0.7325184941291809),\n",
       " ('composit', 0.730816125869751),\n",
       " ('amex', 0.6978092789649963),\n",
       " ('chip', 0.6818984150886536),\n",
       " ('heavi', 0.6676927804946899),\n",
       " ('cross', 0.6599030494689941),\n",
       " ('loser', 0.6583490371704102),\n",
       " ('plummet', 0.6482584476470947)]"
      ]
     },
     "execution_count": 14,
     "metadata": {},
     "output_type": "execute_result"
    }
   ],
   "source": [
    "model_article.most_similar(positive=['stock', 'nasdaq'], negative=['fed'])"
   ]
  },
  {
   "cell_type": "code",
   "execution_count": null,
   "metadata": {
    "collapsed": true
   },
   "outputs": [],
   "source": []
  }
 ],
 "metadata": {
  "anaconda-cloud": {},
  "kernelspec": {
   "display_name": "Python [project_nlp]",
   "language": "python",
   "name": "Python [project_nlp]"
  },
  "language_info": {
   "codemirror_mode": {
    "name": "ipython",
    "version": 3
   },
   "file_extension": ".py",
   "mimetype": "text/x-python",
   "name": "python",
   "nbconvert_exporter": "python",
   "pygments_lexer": "ipython3",
   "version": "3.5.2"
  }
 },
 "nbformat": 4,
 "nbformat_minor": 0
}
