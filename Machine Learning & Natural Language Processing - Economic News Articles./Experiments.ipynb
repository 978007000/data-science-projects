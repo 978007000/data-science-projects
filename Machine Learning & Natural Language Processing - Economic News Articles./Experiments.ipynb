{
 "cells": [
  {
   "cell_type": "code",
   "execution_count": 1,
   "metadata": {
    "collapsed": true
   },
   "outputs": [],
   "source": [
    "reset -fs"
   ]
  },
  {
   "cell_type": "code",
   "execution_count": 2,
   "metadata": {
    "collapsed": false
   },
   "outputs": [
    {
     "name": "stdout",
     "output_type": "stream",
     "text": [
      "Populating the interactive namespace from numpy and matplotlib\n"
     ]
    }
   ],
   "source": [
    "%pylab inline\n",
    "import string\n",
    "import re\n",
    "import ftfy\n",
    "import pandas as pd\n",
    "import csv\n",
    "from sqlalchemy import create_engine"
   ]
  },
  {
   "cell_type": "code",
   "execution_count": 3,
   "metadata": {
    "collapsed": false
   },
   "outputs": [
    {
     "data": {
      "text/plain": [
       "[['842613455,false,finalized,3,12/5/2015 17:48:27,3,0.64,yes,0.64,wsj_398217788,1991-08-14,Yields on CDs Fell in the Latest Week,,,',\n",
       "  \"842613457,false,finalized,3,12/5/2015 01:59:03,,,no,1.0,wsj_398284048,1991-11-14,Banking Bill Negotiators Set Compromise --- Plan to Widen Banks' Entry To Securities Business Is Dropped as Vote Nears,,,\"]]"
      ]
     },
     "execution_count": 3,
     "metadata": {},
     "output_type": "execute_result"
    }
   ],
   "source": [
    "article_text = []\n",
    "with open('test.csv', 'r') as f:\n",
    "    economic_data = f.read()\n",
    "    match = re.findall('(.*)(?:\"[A-Z]{2,}.*)', economic_data)\n",
    "    if match:\n",
    "        article_text.append(match)\n",
    "article_text"
   ]
  },
  {
   "cell_type": "code",
   "execution_count": 4,
   "metadata": {
    "collapsed": false
   },
   "outputs": [
    {
     "data": {
      "text/plain": [
       "([['\"NEW YORK -- Yields on most certificates of deposit offered by major banks dropped more than a tenth of a percentage point in the latest week, reflecting the overall decline in short-term interest rates.</br></br>On small-denomination, or \"\"consumer,\"\" CDs sold directly by banks, the average yield on six-month deposits fell to 5.49% from 5.62% in the week ended yesterday, according to an 18-bank survey by Banxquote Money Markets, a Wilmington, Del., information service.</br></br>On three-month \"\"consumer\"\" deposits, the average yield sank to 5.29% from 5.42% the week before, according to Banxquote. Two banks in the Banxquote survey, Citibank in New York and CoreStates in Pennsylvania, are paying less than 5% on threemonth small-denomination CDs.</br></br>Declines were somewhat smaller on five-year consumer CDs, which eased to 7.37% from 7.45%, Banxquote said.</br></br>Yields on three-month and six-month Treasury bills sold at Monday\\'s auction plummeted more than a fifth of a percentage point from the previous week, to 5.46% and 5.63%, respectively.\"',\n",
       "   '\"WASHINGTON -- In an effort to achieve banking reform, Senate negotiators and the Bush administration have agreed to drop efforts to allow banks to expand further into the securities business.</br></br>The compromise is one of several the Senate Banking Committee is pursuing to remove obstacles its banking bill will face when the Senate starts voting on the measure, perhaps today. The latest version of the House banking bill also drops the administration\\'s proposals to broaden bank entry into the securities business.</br></br>Last night, the House began its second attempt to pass a banking bill after failing last week, in part because of disagreement over how to allow banks into the securities business. The House adopted on a voice vote provisions that would replenish the bank deposit insurance fund, tighten bank regulation, trim the scope of deposit insurance, and restrict the Federal Reserve Board\\'s ability to keep sick banks alive with loans.</br></br>But the House delayed until today a vote on an amendment to allow banks to branch nationwide and on final passage of the banking bill to give the House leadership and the administration more time to drum up support for the bill.</br></br>House Speaker Thomas Foley (D., Wash.) is working hard to win passage of the bill in the face of significant opposition from Rep. John Dingell (D., Mich.), who believes the bill should include provisions imposing stiffer regulation on banks in the securities business.\"']],\n",
       " ['842613455,false,finalized,3,12/5/2015 17:48:27,3,0.64,yes,0.64,wsj_398217788,1991-08-14,Yields on CDs Fell in the Latest Week,,,\"NEW YORK -- Yields on most certificates of deposit offered by major banks dropped more than a tenth of a percentage point in the latest week, reflecting the overall decline in short-term interest rates.</br></br>On small-denomination, or \"\"consumer,\"\" CDs sold directly by banks, the average yield on six-month deposits fell to 5.49% from 5.62% in the week ended yesterday, according to an 18-bank survey by Banxquote Money Markets, a Wilmington, Del., information service.</br></br>On three-month \"\"consumer\"\" deposits, the average yield sank to 5.29% from 5.42% the week before, according to Banxquote. Two banks in the Banxquote survey, Citibank in New York and CoreStates in Pennsylvania, are paying less than 5% on threemonth small-denomination CDs.</br></br>Declines were somewhat smaller on five-year consumer CDs, which eased to 7.37% from 7.45%, Banxquote said.</br></br>Yields on three-month and six-month Treasury bills sold at Monday\\'s auction plummeted more than a fifth of a percentage point from the previous week, to 5.46% and 5.63%, respectively.\"',\n",
       "  '842613456,false,finalized,3,12/5/2015 16:54:25,,,no,1.0,wsj_399019502,2007-08-21,The Morning Brief: White House Seeks to Limit Child Insurance Program,,,\"The Wall Street Journal Online</br></br>The Morning Brief, a look at the day\\'s biggest news, is emailed to subscribers by 7 a.m. every business day. Sign up for the e-mail here.</br></br>On Friday evening, with Congress out of town on its summer recess and Americans heading into a mid-August weekend, the Bush administration sent a message to the states: The federal government will make it tougher for a national children\\'s insurance program to cover the offspring of middle-income families.</br></br>The State Children\\'s Health Insurance Program was created in 1997 to help children whose families couldn\\'t afford insurance but didn\\'t qualify for Medicaid, and administration officials tell the New York Times that the changes are aimed at returning the program to its low- income focus and assuring it didn\\'t become a replacement for private insurance. Administration point man Dennis Smith wrote to state officials saying there would be new restrictions on the District of Columbia and the 18 states -- including California and New York -- that extend or plan to extend coverage for children whose families make more than 250% of Federal poverty levels. For a family of three that 250% is $42,900, and for a family of four it\\'s $51,625. Under the new limits, a child from a family making more would have to spend one year uninsured before qualifying, and any state that wants to extend coverage would have to assure Washington that at least 95% of children eligible for SCHIP or Medicaid are enrolled in one of the programs. But as the Associated Press reports, no state can currently make such assurances.</br></br>Rachel Klein, deputy director of health policy for advocacy group Families USA, tells the AP that since many families above the 250% threshold can\\'t afford private insurance, \"\"the effect of this policy is to have more uninsured kids.\"\" Ann Clemency Kohler, deputy commissioner of human services in New Jersey, tells the Times the changes \"\"will cause havoc with our program and could jeopardize coverage for thousands of children.\"\" States have already been imposing waiting periods and taking other steps to prevent parents from moving their children from private insurance to SCHIP, which currently serves some 6.6 million children, the Washington Post notes. The administration\\'s new restrictions come as the program, which expires at the end of next month if Congress doesn\\'t reauthorize it, is the subject of a larger political fight that pits the White House against Democrats and some Republicans in Congress and state capitals.\"',\n",
       "  '842613457,false,finalized,3,12/5/2015 01:59:03,,,no,1.0,wsj_398284048,1991-11-14,Banking Bill Negotiators Set Compromise --- Plan to Widen Banks\\' Entry To Securities Business Is Dropped as Vote Nears,,,\"WASHINGTON -- In an effort to achieve banking reform, Senate negotiators and the Bush administration have agreed to drop efforts to allow banks to expand further into the securities business.</br></br>The compromise is one of several the Senate Banking Committee is pursuing to remove obstacles its banking bill will face when the Senate starts voting on the measure, perhaps today. The latest version of the House banking bill also drops the administration\\'s proposals to broaden bank entry into the securities business.</br></br>Last night, the House began its second attempt to pass a banking bill after failing last week, in part because of disagreement over how to allow banks into the securities business. The House adopted on a voice vote provisions that would replenish the bank deposit insurance fund, tighten bank regulation, trim the scope of deposit insurance, and restrict the Federal Reserve Board\\'s ability to keep sick banks alive with loans.</br></br>But the House delayed until today a vote on an amendment to allow banks to branch nationwide and on final passage of the banking bill to give the House leadership and the administration more time to drum up support for the bill.</br></br>House Speaker Thomas Foley (D., Wash.) is working hard to win passage of the bill in the face of significant opposition from Rep. John Dingell (D., Mich.), who believes the bill should include provisions imposing stiffer regulation on banks in the securities business.\"'])"
      ]
     },
     "execution_count": 4,
     "metadata": {},
     "output_type": "execute_result"
    }
   ],
   "source": [
    "article_body_text = []\n",
    "with open('test.csv', 'r') as f:\n",
    "    economic_data = f.read()\n",
    "    match = re.findall('(\"[A-Z]{2,}.*)', economic_data)\n",
    "    if match:\n",
    "        article_body_text.append(match)\n",
    "        #temp_text.append(match)\n",
    "        economic_data_content = economic_data.split(\",\")\n",
    "        #economic_data_content = economic_data.split(\"\\n\")\n",
    "        #if temp_text[0] in economic_data_content:\n",
    "        #if any(i in temp_text for i in economic_data_content):\n",
    "            #economic_data_content.remove(temp_text[0])\n",
    "            #temp_text = []\n",
    "        economic_data_content = economic_data.split(\"\\n\")\n",
    "        #economic_data_content = economic_data_content.remove(match[0])\n",
    "        #del economic_data_content[-1:]\n",
    "    #else: \n",
    "     #   economic_data_content = economic_data.split(\",\")\n",
    "    #  economic_data_content = economic_data.split(\"\\n\")\n",
    "    #economic_data_content = economic_data.split(\",\")\n",
    "#economic_data_content[1]    \n",
    "#economic_data_content_no_headers = economic_data_content[14:]\n",
    "#economic_data_content_no_headers\n",
    "\n",
    "economic_data_content = economic_data_content[1:]\n",
    "#economic_data_content\n",
    "#long_text\n",
    "article_body_text, economic_data_content"
   ]
  },
  {
   "cell_type": "code",
   "execution_count": 5,
   "metadata": {
    "collapsed": false
   },
   "outputs": [
    {
     "data": {
      "text/plain": [
       "['842613455,false,finalized,3,12/5/2015 17:48:27,3,0.64,yes,0.64,wsj_398217788,1991-08-14,Yields on CDs Fell in the Latest Week,,,\"NEW YORK -- Yields on most certificates of deposit offered by major banks dropped more than a tenth of a percentage point in the latest week, reflecting the overall decline in short-term interest rates.</br></br>On small-denomination, or \"\"consumer,\"\" CDs sold directly by banks, the average yield on six-month deposits fell to 5.49% from 5.62% in the week ended yesterday, according to an 18-bank survey by Banxquote Money Markets, a Wilmington, Del., information service.</br></br>On three-month \"\"consumer\"\" deposits, the average yield sank to 5.29% from 5.42% the week before, according to Banxquote. Two banks in the Banxquote survey, Citibank in New York and CoreStates in Pennsylvania, are paying less than 5% on threemonth small-denomination CDs.</br></br>Declines were somewhat smaller on five-year consumer CDs, which eased to 7.37% from 7.45%, Banxquote said.</br></br>Yields on three-month and six-month Treasury bills sold at Monday\\'s auction plummeted more than a fifth of a percentage point from the previous week, to 5.46% and 5.63%, respectively.\"',\n",
       " '842613456,false,finalized,3,12/5/2015 16:54:25,,,no,1.0,wsj_399019502,2007-08-21,The Morning Brief: White House Seeks to Limit Child Insurance Program,,,\"The Wall Street Journal Online</br></br>The Morning Brief, a look at the day\\'s biggest news, is emailed to subscribers by 7 a.m. every business day. Sign up for the e-mail here.</br></br>On Friday evening, with Congress out of town on its summer recess and Americans heading into a mid-August weekend, the Bush administration sent a message to the states: The federal government will make it tougher for a national children\\'s insurance program to cover the offspring of middle-income families.</br></br>The State Children\\'s Health Insurance Program was created in 1997 to help children whose families couldn\\'t afford insurance but didn\\'t qualify for Medicaid, and administration officials tell the New York Times that the changes are aimed at returning the program to its low- income focus and assuring it didn\\'t become a replacement for private insurance. Administration point man Dennis Smith wrote to state officials saying there would be new restrictions on the District of Columbia and the 18 states -- including California and New York -- that extend or plan to extend coverage for children whose families make more than 250% of Federal poverty levels. For a family of three that 250% is $42,900, and for a family of four it\\'s $51,625. Under the new limits, a child from a family making more would have to spend one year uninsured before qualifying, and any state that wants to extend coverage would have to assure Washington that at least 95% of children eligible for SCHIP or Medicaid are enrolled in one of the programs. But as the Associated Press reports, no state can currently make such assurances.</br></br>Rachel Klein, deputy director of health policy for advocacy group Families USA, tells the AP that since many families above the 250% threshold can\\'t afford private insurance, \"\"the effect of this policy is to have more uninsured kids.\"\" Ann Clemency Kohler, deputy commissioner of human services in New Jersey, tells the Times the changes \"\"will cause havoc with our program and could jeopardize coverage for thousands of children.\"\" States have already been imposing waiting periods and taking other steps to prevent parents from moving their children from private insurance to SCHIP, which currently serves some 6.6 million children, the Washington Post notes. The administration\\'s new restrictions come as the program, which expires at the end of next month if Congress doesn\\'t reauthorize it, is the subject of a larger political fight that pits the White House against Democrats and some Republicans in Congress and state capitals.\"',\n",
       " '842613457,false,finalized,3,12/5/2015 01:59:03,,,no,1.0,wsj_398284048,1991-11-14,Banking Bill Negotiators Set Compromise --- Plan to Widen Banks\\' Entry To Securities Business Is Dropped as Vote Nears,,,\"WASHINGTON -- In an effort to achieve banking reform, Senate negotiators and the Bush administration have agreed to drop efforts to allow banks to expand further into the securities business.</br></br>The compromise is one of several the Senate Banking Committee is pursuing to remove obstacles its banking bill will face when the Senate starts voting on the measure, perhaps today. The latest version of the House banking bill also drops the administration\\'s proposals to broaden bank entry into the securities business.</br></br>Last night, the House began its second attempt to pass a banking bill after failing last week, in part because of disagreement over how to allow banks into the securities business. The House adopted on a voice vote provisions that would replenish the bank deposit insurance fund, tighten bank regulation, trim the scope of deposit insurance, and restrict the Federal Reserve Board\\'s ability to keep sick banks alive with loans.</br></br>But the House delayed until today a vote on an amendment to allow banks to branch nationwide and on final passage of the banking bill to give the House leadership and the administration more time to drum up support for the bill.</br></br>House Speaker Thomas Foley (D., Wash.) is working hard to win passage of the bill in the face of significant opposition from Rep. John Dingell (D., Mich.), who believes the bill should include provisions imposing stiffer regulation on banks in the securities business.\"']"
      ]
     },
     "execution_count": 5,
     "metadata": {},
     "output_type": "execute_result"
    }
   ],
   "source": [
    "with open('test.csv', 'r') as f:\n",
    "    economic_data = f.read()\n",
    "    economic_data_content = economic_data.split(\",\")\n",
    "    economic_data_content = economic_data.split(\"\\n\")\n",
    "        \n",
    "economic_data_content = economic_data_content[1:]\n",
    "economic_data_content"
   ]
  },
  {
   "cell_type": "code",
   "execution_count": 6,
   "metadata": {
    "collapsed": false
   },
   "outputs": [
    {
     "data": {
      "text/plain": [
       "('842613455',\n",
       " ['842613455',\n",
       "  'false',\n",
       "  'finalized',\n",
       "  '3',\n",
       "  '12/5/2015 17:48:27',\n",
       "  '3',\n",
       "  '0.64',\n",
       "  'yes',\n",
       "  '0.64',\n",
       "  'wsj_398217788',\n",
       "  '1991-08-14',\n",
       "  'Yields on CDs Fell in the Latest Week',\n",
       "  '',\n",
       "  '',\n",
       "  '\"NEW YORK -- Yields on most certificates of deposit offered by major banks dropped more than a tenth of a percentage point in the latest week',\n",
       "  ' reflecting the overall decline in short-term interest rates.</br></br>On small-denomination',\n",
       "  ' or \"\"consumer',\n",
       "  '\"\" CDs sold directly by banks',\n",
       "  ' the average yield on six-month deposits fell to 5.49% from 5.62% in the week ended yesterday',\n",
       "  ' according to an 18-bank survey by Banxquote Money Markets',\n",
       "  ' a Wilmington',\n",
       "  ' Del.',\n",
       "  ' information service.</br></br>On three-month \"\"consumer\"\" deposits',\n",
       "  ' the average yield sank to 5.29% from 5.42% the week before',\n",
       "  ' according to Banxquote. Two banks in the Banxquote survey',\n",
       "  ' Citibank in New York and CoreStates in Pennsylvania',\n",
       "  ' are paying less than 5% on threemonth small-denomination CDs.</br></br>Declines were somewhat smaller on five-year consumer CDs',\n",
       "  ' which eased to 7.37% from 7.45%',\n",
       "  \" Banxquote said.</br></br>Yields on three-month and six-month Treasury bills sold at Monday's auction plummeted more than a fifth of a percentage point from the previous week\",\n",
       "  ' to 5.46% and 5.63%',\n",
       "  ' respectively.\"'],\n",
       " [['842613455',\n",
       "   'false',\n",
       "   'finalized',\n",
       "   '3',\n",
       "   '12/5/2015 17:48:27',\n",
       "   '3',\n",
       "   '0.64',\n",
       "   'yes',\n",
       "   '0.64',\n",
       "   'wsj_398217788',\n",
       "   '1991-08-14',\n",
       "   'Yields on CDs Fell in the Latest Week',\n",
       "   '',\n",
       "   '',\n",
       "   '\"NEW YORK -- Yields on most certificates of deposit offered by major banks dropped more than a tenth of a percentage point in the latest week',\n",
       "   ' reflecting the overall decline in short-term interest rates.</br></br>On small-denomination',\n",
       "   ' or \"\"consumer',\n",
       "   '\"\" CDs sold directly by banks',\n",
       "   ' the average yield on six-month deposits fell to 5.49% from 5.62% in the week ended yesterday',\n",
       "   ' according to an 18-bank survey by Banxquote Money Markets',\n",
       "   ' a Wilmington',\n",
       "   ' Del.',\n",
       "   ' information service.</br></br>On three-month \"\"consumer\"\" deposits',\n",
       "   ' the average yield sank to 5.29% from 5.42% the week before',\n",
       "   ' according to Banxquote. Two banks in the Banxquote survey',\n",
       "   ' Citibank in New York and CoreStates in Pennsylvania',\n",
       "   ' are paying less than 5% on threemonth small-denomination CDs.</br></br>Declines were somewhat smaller on five-year consumer CDs',\n",
       "   ' which eased to 7.37% from 7.45%',\n",
       "   \" Banxquote said.</br></br>Yields on three-month and six-month Treasury bills sold at Monday's auction plummeted more than a fifth of a percentage point from the previous week\",\n",
       "   ' to 5.46% and 5.63%',\n",
       "   ' respectively.\"'],\n",
       "  ['842613456',\n",
       "   'false',\n",
       "   'finalized',\n",
       "   '3',\n",
       "   '12/5/2015 16:54:25',\n",
       "   '',\n",
       "   '',\n",
       "   'no',\n",
       "   '1.0',\n",
       "   'wsj_399019502',\n",
       "   '2007-08-21',\n",
       "   'The Morning Brief: White House Seeks to Limit Child Insurance Program',\n",
       "   '',\n",
       "   '',\n",
       "   '\"The Wall Street Journal Online</br></br>The Morning Brief',\n",
       "   \" a look at the day's biggest news\",\n",
       "   ' is emailed to subscribers by 7 a.m. every business day. Sign up for the e-mail here.</br></br>On Friday evening',\n",
       "   ' with Congress out of town on its summer recess and Americans heading into a mid-August weekend',\n",
       "   \" the Bush administration sent a message to the states: The federal government will make it tougher for a national children's insurance program to cover the offspring of middle-income families.</br></br>The State Children's Health Insurance Program was created in 1997 to help children whose families couldn't afford insurance but didn't qualify for Medicaid\",\n",
       "   \" and administration officials tell the New York Times that the changes are aimed at returning the program to its low- income focus and assuring it didn't become a replacement for private insurance. Administration point man Dennis Smith wrote to state officials saying there would be new restrictions on the District of Columbia and the 18 states -- including California and New York -- that extend or plan to extend coverage for children whose families make more than 250% of Federal poverty levels. For a family of three that 250% is $42\",\n",
       "   '900',\n",
       "   \" and for a family of four it's $51\",\n",
       "   '625. Under the new limits',\n",
       "   ' a child from a family making more would have to spend one year uninsured before qualifying',\n",
       "   ' and any state that wants to extend coverage would have to assure Washington that at least 95% of children eligible for SCHIP or Medicaid are enrolled in one of the programs. But as the Associated Press reports',\n",
       "   ' no state can currently make such assurances.</br></br>Rachel Klein',\n",
       "   ' deputy director of health policy for advocacy group Families USA',\n",
       "   \" tells the AP that since many families above the 250% threshold can't afford private insurance\",\n",
       "   ' \"\"the effect of this policy is to have more uninsured kids.\"\" Ann Clemency Kohler',\n",
       "   ' deputy commissioner of human services in New Jersey',\n",
       "   ' tells the Times the changes \"\"will cause havoc with our program and could jeopardize coverage for thousands of children.\"\" States have already been imposing waiting periods and taking other steps to prevent parents from moving their children from private insurance to SCHIP',\n",
       "   ' which currently serves some 6.6 million children',\n",
       "   \" the Washington Post notes. The administration's new restrictions come as the program\",\n",
       "   \" which expires at the end of next month if Congress doesn't reauthorize it\",\n",
       "   ' is the subject of a larger political fight that pits the White House against Democrats and some Republicans in Congress and state capitals.\"'],\n",
       "  ['842613457',\n",
       "   'false',\n",
       "   'finalized',\n",
       "   '3',\n",
       "   '12/5/2015 01:59:03',\n",
       "   '',\n",
       "   '',\n",
       "   'no',\n",
       "   '1.0',\n",
       "   'wsj_398284048',\n",
       "   '1991-11-14',\n",
       "   \"Banking Bill Negotiators Set Compromise --- Plan to Widen Banks' Entry To Securities Business Is Dropped as Vote Nears\",\n",
       "   '',\n",
       "   '',\n",
       "   '\"WASHINGTON -- In an effort to achieve banking reform',\n",
       "   ' Senate negotiators and the Bush administration have agreed to drop efforts to allow banks to expand further into the securities business.</br></br>The compromise is one of several the Senate Banking Committee is pursuing to remove obstacles its banking bill will face when the Senate starts voting on the measure',\n",
       "   \" perhaps today. The latest version of the House banking bill also drops the administration's proposals to broaden bank entry into the securities business.</br></br>Last night\",\n",
       "   ' the House began its second attempt to pass a banking bill after failing last week',\n",
       "   ' in part because of disagreement over how to allow banks into the securities business. The House adopted on a voice vote provisions that would replenish the bank deposit insurance fund',\n",
       "   ' tighten bank regulation',\n",
       "   ' trim the scope of deposit insurance',\n",
       "   \" and restrict the Federal Reserve Board's ability to keep sick banks alive with loans.</br></br>But the House delayed until today a vote on an amendment to allow banks to branch nationwide and on final passage of the banking bill to give the House leadership and the administration more time to drum up support for the bill.</br></br>House Speaker Thomas Foley (D.\",\n",
       "   ' Wash.) is working hard to win passage of the bill in the face of significant opposition from Rep. John Dingell (D.',\n",
       "   ' Mich.)',\n",
       "   ' who believes the bill should include provisions imposing stiffer regulation on banks in the securities business.\"']])"
      ]
     },
     "execution_count": 6,
     "metadata": {},
     "output_type": "execute_result"
    }
   ],
   "source": [
    "with open('test.csv', 'r') as f:\n",
    "    economic_data = f.read()\n",
    "    economic_data_content = economic_data.split(\",\")\n",
    "    economic_data_content = economic_data.split(\"\\n\")\n",
    "    \n",
    "economic_data_content = economic_data_content[1:]\n",
    "economic_data_content\n",
    "economic_data_content_list =[]\n",
    "for line in economic_data_content:\n",
    "    economic_data_content_list.append(line.split(\",\"))\n",
    "\n",
    "economic_data_content_list[0][0], economic_data_content_list[0], economic_data_content_list"
   ]
  },
  {
   "cell_type": "code",
   "execution_count": 7,
   "metadata": {
    "collapsed": false
   },
   "outputs": [
    {
     "name": "stdout",
     "output_type": "stream",
     "text": [
      "Row number: 0\n",
      "['_unit_id', '_golden', '_unit_state', '_trusted_judgments', '_last_judgment_at', 'positivity', 'positivity:confidence', 'relevance', 'relevance:confidence', 'articleid', 'date', 'headline', 'positivity_gold', 'relevance_gold', 'text']\n",
      "============\n",
      "Row number: 1\n",
      "['842613455', 'false', 'finalized', '3', '12/5/2015 17:48:27', '3', '0.64', 'yes', '0.64', 'wsj_398217788', '1991-08-14', 'Yields on CDs Fell in the Latest Week', '', '', 'NEW YORK -- Yields on most certificates of deposit offered by major banks dropped more than a tenth of a percentage point in the latest week, reflecting the overall decline in short-term interest rates.</br></br>On small-denomination, or \"consumer,\" CDs sold directly by banks, the average yield on six-month deposits fell to 5.49% from 5.62% in the week ended yesterday, according to an 18-bank survey by Banxquote Money Markets, a Wilmington, Del., information service.</br></br>On three-month \"consumer\" deposits, the average yield sank to 5.29% from 5.42% the week before, according to Banxquote. Two banks in the Banxquote survey, Citibank in New York and CoreStates in Pennsylvania, are paying less than 5% on threemonth small-denomination CDs.</br></br>Declines were somewhat smaller on five-year consumer CDs, which eased to 7.37% from 7.45%, Banxquote said.</br></br>Yields on three-month and six-month Treasury bills sold at Monday\\'s auction plummeted more than a fifth of a percentage point from the previous week, to 5.46% and 5.63%, respectively.']\n",
      "============\n",
      "Row number: 2\n",
      "['842613456', 'false', 'finalized', '3', '12/5/2015 16:54:25', '', '', 'no', '1.0', 'wsj_399019502', '2007-08-21', 'The Morning Brief: White House Seeks to Limit Child Insurance Program', '', '', 'The Wall Street Journal Online</br></br>The Morning Brief, a look at the day\\'s biggest news, is emailed to subscribers by 7 a.m. every business day. Sign up for the e-mail here.</br></br>On Friday evening, with Congress out of town on its summer recess and Americans heading into a mid-August weekend, the Bush administration sent a message to the states: The federal government will make it tougher for a national children\\'s insurance program to cover the offspring of middle-income families.</br></br>The State Children\\'s Health Insurance Program was created in 1997 to help children whose families couldn\\'t afford insurance but didn\\'t qualify for Medicaid, and administration officials tell the New York Times that the changes are aimed at returning the program to its low- income focus and assuring it didn\\'t become a replacement for private insurance. Administration point man Dennis Smith wrote to state officials saying there would be new restrictions on the District of Columbia and the 18 states -- including California and New York -- that extend or plan to extend coverage for children whose families make more than 250% of Federal poverty levels. For a family of three that 250% is $42,900, and for a family of four it\\'s $51,625. Under the new limits, a child from a family making more would have to spend one year uninsured before qualifying, and any state that wants to extend coverage would have to assure Washington that at least 95% of children eligible for SCHIP or Medicaid are enrolled in one of the programs. But as the Associated Press reports, no state can currently make such assurances.</br></br>Rachel Klein, deputy director of health policy for advocacy group Families USA, tells the AP that since many families above the 250% threshold can\\'t afford private insurance, \"the effect of this policy is to have more uninsured kids.\" Ann Clemency Kohler, deputy commissioner of human services in New Jersey, tells the Times the changes \"will cause havoc with our program and could jeopardize coverage for thousands of children.\" States have already been imposing waiting periods and taking other steps to prevent parents from moving their children from private insurance to SCHIP, which currently serves some 6.6 million children, the Washington Post notes. The administration\\'s new restrictions come as the program, which expires at the end of next month if Congress doesn\\'t reauthorize it, is the subject of a larger political fight that pits the White House against Democrats and some Republicans in Congress and state capitals.']\n",
      "============\n",
      "Row number: 3\n",
      "['842613457', 'false', 'finalized', '3', '12/5/2015 01:59:03', '', '', 'no', '1.0', 'wsj_398284048', '1991-11-14', \"Banking Bill Negotiators Set Compromise --- Plan to Widen Banks' Entry To Securities Business Is Dropped as Vote Nears\", '', '', \"WASHINGTON -- In an effort to achieve banking reform, Senate negotiators and the Bush administration have agreed to drop efforts to allow banks to expand further into the securities business.</br></br>The compromise is one of several the Senate Banking Committee is pursuing to remove obstacles its banking bill will face when the Senate starts voting on the measure, perhaps today. The latest version of the House banking bill also drops the administration's proposals to broaden bank entry into the securities business.</br></br>Last night, the House began its second attempt to pass a banking bill after failing last week, in part because of disagreement over how to allow banks into the securities business. The House adopted on a voice vote provisions that would replenish the bank deposit insurance fund, tighten bank regulation, trim the scope of deposit insurance, and restrict the Federal Reserve Board's ability to keep sick banks alive with loans.</br></br>But the House delayed until today a vote on an amendment to allow banks to branch nationwide and on final passage of the banking bill to give the House leadership and the administration more time to drum up support for the bill.</br></br>House Speaker Thomas Foley (D., Wash.) is working hard to win passage of the bill in the face of significant opposition from Rep. John Dingell (D., Mich.), who believes the bill should include provisions imposing stiffer regulation on banks in the securities business.\"]\n",
      "============\n"
     ]
    }
   ],
   "source": [
    "with open('test.csv', 'r') as f:\n",
    "    economic_data = csv.reader(f)\n",
    "    for i, row in enumerate(economic_data):\n",
    "        print(\"Row number:\", i)\n",
    "        print(row)\n",
    "        print(\"============\")"
   ]
  },
  {
   "cell_type": "code",
   "execution_count": 8,
   "metadata": {
    "collapsed": false
   },
   "outputs": [
    {
     "data": {
      "text/plain": [
       "('842613457',\n",
       " 'false',\n",
       " 'finalized',\n",
       " '3',\n",
       " '12/5/2015 01:59:03',\n",
       " '',\n",
       " '',\n",
       " 'no',\n",
       " '1.0',\n",
       " 'wsj_398284048',\n",
       " '1991-11-14',\n",
       " \"Banking Bill Negotiators Set Compromise --- Plan to Widen Banks' Entry To Securities Business Is Dropped as Vote Nears\",\n",
       " '',\n",
       " '',\n",
       " \"WASHINGTON -- In an effort to achieve banking reform, Senate negotiators and the Bush administration have agreed to drop efforts to allow banks to expand further into the securities business.</br></br>The compromise is one of several the Senate Banking Committee is pursuing to remove obstacles its banking bill will face when the Senate starts voting on the measure, perhaps today. The latest version of the House banking bill also drops the administration's proposals to broaden bank entry into the securities business.</br></br>Last night, the House began its second attempt to pass a banking bill after failing last week, in part because of disagreement over how to allow banks into the securities business. The House adopted on a voice vote provisions that would replenish the bank deposit insurance fund, tighten bank regulation, trim the scope of deposit insurance, and restrict the Federal Reserve Board's ability to keep sick banks alive with loans.</br></br>But the House delayed until today a vote on an amendment to allow banks to branch nationwide and on final passage of the banking bill to give the House leadership and the administration more time to drum up support for the bill.</br></br>House Speaker Thomas Foley (D., Wash.) is working hard to win passage of the bill in the face of significant opposition from Rep. John Dingell (D., Mich.), who believes the bill should include provisions imposing stiffer regulation on banks in the securities business.\")"
      ]
     },
     "execution_count": 8,
     "metadata": {},
     "output_type": "execute_result"
    }
   ],
   "source": [
    "with open('test.csv', 'r') as f:\n",
    "    economic_data = csv.reader(f)\n",
    "    for i, row in enumerate(economic_data):\n",
    "        unit_id, golden, unit_state, trusted_judgments, last_judgment_at,positivity, positivity_confidence, relevance, relevance_confidence, article_id, article_date, article_headline, positivity_gold, relevance_gold, article_text = row[0], \\\n",
    "        row[1], row[2], row[3], row[4], row[5], row[6], row[7], row[8], row[9], row[10], row[11], row[12], row[13], row[14]\n",
    "        \n",
    "unit_id, golden, unit_state, trusted_judgments, last_judgment_at,positivity, positivity_confidence, relevance, relevance_confidence, article_id, article_date, article_headline, positivity_gold, relevance_gold, article_text"
   ]
  },
  {
   "cell_type": "code",
   "execution_count": 9,
   "metadata": {
    "collapsed": false
   },
   "outputs": [
    {
     "data": {
      "text/plain": [
       "(['_unit_id', '842613455', '842613456', '842613457'],\n",
       " ['_golden', 'false', 'false', 'false'],\n",
       " ['_unit_state', 'finalized', 'finalized', 'finalized'],\n",
       " ['_trusted_judgments', '3', '3', '3'],\n",
       " ['_last_judgment_at',\n",
       "  '12/5/2015 17:48:27',\n",
       "  '12/5/2015 16:54:25',\n",
       "  '12/5/2015 01:59:03'],\n",
       " ['positivity', '3', '', ''],\n",
       " ['positivity:confidence', '0.64', '', ''],\n",
       " ['relevance', 'yes', 'no', 'no'],\n",
       " ['relevance:confidence', '0.64', '1.0', '1.0'],\n",
       " ['articleid', 'wsj_398217788', 'wsj_399019502', 'wsj_398284048'],\n",
       " ['date', '1991-08-14', '2007-08-21', '1991-11-14'],\n",
       " ['headline',\n",
       "  'Yields on CDs Fell in the Latest Week',\n",
       "  'The Morning Brief: White House Seeks to Limit Child Insurance Program',\n",
       "  \"Banking Bill Negotiators Set Compromise --- Plan to Widen Banks' Entry To Securities Business Is Dropped as Vote Nears\"],\n",
       " ['positivity_gold', '', '', ''],\n",
       " ['relevance_gold', '', '', ''],\n",
       " ['text',\n",
       "  'NEW YORK -- Yields on most certificates of deposit offered by major banks dropped more than a tenth of a percentage point in the latest week, reflecting the overall decline in short-term interest rates.</br></br>On small-denomination, or \"consumer,\" CDs sold directly by banks, the average yield on six-month deposits fell to 5.49% from 5.62% in the week ended yesterday, according to an 18-bank survey by Banxquote Money Markets, a Wilmington, Del., information service.</br></br>On three-month \"consumer\" deposits, the average yield sank to 5.29% from 5.42% the week before, according to Banxquote. Two banks in the Banxquote survey, Citibank in New York and CoreStates in Pennsylvania, are paying less than 5% on threemonth small-denomination CDs.</br></br>Declines were somewhat smaller on five-year consumer CDs, which eased to 7.37% from 7.45%, Banxquote said.</br></br>Yields on three-month and six-month Treasury bills sold at Monday\\'s auction plummeted more than a fifth of a percentage point from the previous week, to 5.46% and 5.63%, respectively.',\n",
       "  'The Wall Street Journal Online</br></br>The Morning Brief, a look at the day\\'s biggest news, is emailed to subscribers by 7 a.m. every business day. Sign up for the e-mail here.</br></br>On Friday evening, with Congress out of town on its summer recess and Americans heading into a mid-August weekend, the Bush administration sent a message to the states: The federal government will make it tougher for a national children\\'s insurance program to cover the offspring of middle-income families.</br></br>The State Children\\'s Health Insurance Program was created in 1997 to help children whose families couldn\\'t afford insurance but didn\\'t qualify for Medicaid, and administration officials tell the New York Times that the changes are aimed at returning the program to its low- income focus and assuring it didn\\'t become a replacement for private insurance. Administration point man Dennis Smith wrote to state officials saying there would be new restrictions on the District of Columbia and the 18 states -- including California and New York -- that extend or plan to extend coverage for children whose families make more than 250% of Federal poverty levels. For a family of three that 250% is $42,900, and for a family of four it\\'s $51,625. Under the new limits, a child from a family making more would have to spend one year uninsured before qualifying, and any state that wants to extend coverage would have to assure Washington that at least 95% of children eligible for SCHIP or Medicaid are enrolled in one of the programs. But as the Associated Press reports, no state can currently make such assurances.</br></br>Rachel Klein, deputy director of health policy for advocacy group Families USA, tells the AP that since many families above the 250% threshold can\\'t afford private insurance, \"the effect of this policy is to have more uninsured kids.\" Ann Clemency Kohler, deputy commissioner of human services in New Jersey, tells the Times the changes \"will cause havoc with our program and could jeopardize coverage for thousands of children.\" States have already been imposing waiting periods and taking other steps to prevent parents from moving their children from private insurance to SCHIP, which currently serves some 6.6 million children, the Washington Post notes. The administration\\'s new restrictions come as the program, which expires at the end of next month if Congress doesn\\'t reauthorize it, is the subject of a larger political fight that pits the White House against Democrats and some Republicans in Congress and state capitals.',\n",
       "  \"WASHINGTON -- In an effort to achieve banking reform, Senate negotiators and the Bush administration have agreed to drop efforts to allow banks to expand further into the securities business.</br></br>The compromise is one of several the Senate Banking Committee is pursuing to remove obstacles its banking bill will face when the Senate starts voting on the measure, perhaps today. The latest version of the House banking bill also drops the administration's proposals to broaden bank entry into the securities business.</br></br>Last night, the House began its second attempt to pass a banking bill after failing last week, in part because of disagreement over how to allow banks into the securities business. The House adopted on a voice vote provisions that would replenish the bank deposit insurance fund, tighten bank regulation, trim the scope of deposit insurance, and restrict the Federal Reserve Board's ability to keep sick banks alive with loans.</br></br>But the House delayed until today a vote on an amendment to allow banks to branch nationwide and on final passage of the banking bill to give the House leadership and the administration more time to drum up support for the bill.</br></br>House Speaker Thomas Foley (D., Wash.) is working hard to win passage of the bill in the face of significant opposition from Rep. John Dingell (D., Mich.), who believes the bill should include provisions imposing stiffer regulation on banks in the securities business.\"])"
      ]
     },
     "execution_count": 9,
     "metadata": {},
     "output_type": "execute_result"
    }
   ],
   "source": [
    "id_list = []\n",
    "golden_list = []\n",
    "unit_state_list = []\n",
    "trusted_judgments_list = [] \n",
    "last_judgment_at_list = []\n",
    "positivity_list = [] \n",
    "positivity_confidence_list = [] \n",
    "relevance_list = [] \n",
    "relevance_confidence_list = [] \n",
    "article_id_list = [] \n",
    "article_date_list = [] \n",
    "article_headline_list = [] \n",
    "positivity_gold_list = [] \n",
    "relevance_gold_list = [] \n",
    "article_text_list = []\n",
    "with open('test.csv', 'r') as f:\n",
    "    economic_data = csv.reader(f)\n",
    "    for row in economic_data:\n",
    "        id_list.append(row[0])\n",
    "        golden_list.append(row[1])\n",
    "        unit_state_list.append(row[2])\n",
    "        trusted_judgments_list.append(row[3])\n",
    "        last_judgment_at_list.append(row[4])\n",
    "        positivity_list.append(row[5])\n",
    "        positivity_confidence_list.append(row[6])\n",
    "        relevance_list.append(row[7])\n",
    "        relevance_confidence_list.append(row[8])\n",
    "        article_id_list.append(row[9])\n",
    "        article_date_list.append(row[10])\n",
    "        article_headline_list.append(row[11])\n",
    "        positivity_gold_list.append(row[12])\n",
    "        relevance_gold_list.append(row[13])\n",
    "        article_text_list.append(row[14])\n",
    "        \n",
    "id_list, golden_list, unit_state_list, trusted_judgments_list, last_judgment_at_list, positivity_list, \\\n",
    "positivity_confidence_list, relevance_list, relevance_confidence_list, article_id_list, article_date_list, \\\n",
    "article_headline_list, positivity_gold_list, relevance_gold_list, article_text_list"
   ]
  },
  {
   "cell_type": "code",
   "execution_count": 10,
   "metadata": {
    "collapsed": false
   },
   "outputs": [
    {
     "name": "stdout",
     "output_type": "stream",
     "text": [
      "Found </br>\n",
      "Found </br>\n",
      "Found </br>\n"
     ]
    }
   ],
   "source": [
    "for i in range(len(article_text_list)):\n",
    "    if \"</br>\" in article_text_list[i]:\n",
    "        print(\"Found </br>\")"
   ]
  },
  {
   "cell_type": "code",
   "execution_count": 11,
   "metadata": {
    "collapsed": false
   },
   "outputs": [
    {
     "data": {
      "text/plain": [
       "'NEW YORK -- Yields on most certificates of deposit offered by major banks dropped more than a tenth of a percentage point in the latest week, reflecting the overall decline in short-term interest rates.</br></br>On small-denomination, or \"consumer,\" CDs sold directly by banks, the average yield on six-month deposits fell to 5.49% from 5.62% in the week ended yesterday, according to an 18-bank survey by Banxquote Money Markets, a Wilmington, Del., information service.</br></br>On three-month \"consumer\" deposits, the average yield sank to 5.29% from 5.42% the week before, according to Banxquote. Two banks in the Banxquote survey, Citibank in New York and CoreStates in Pennsylvania, are paying less than 5% on threemonth small-denomination CDs.</br></br>Declines were somewhat smaller on five-year consumer CDs, which eased to 7.37% from 7.45%, Banxquote said.</br></br>Yields on three-month and six-month Treasury bills sold at Monday\\'s auction plummeted more than a fifth of a percentage point from the previous week, to 5.46% and 5.63%, respectively.'"
      ]
     },
     "execution_count": 11,
     "metadata": {},
     "output_type": "execute_result"
    }
   ],
   "source": [
    "article_text_list[1]"
   ]
  },
  {
   "cell_type": "code",
   "execution_count": 12,
   "metadata": {
    "collapsed": false
   },
   "outputs": [],
   "source": [
    "def remove_punctuation(s):\n",
    "    #for i in '!\"#$&\\'()*+,-./:;<=>?@[\\\\]^_`{|}~':\n",
    "    for i in string.punctuation:\n",
    "        s = s.replace(i,'').strip().lower()\n",
    "    return s"
   ]
  },
  {
   "cell_type": "code",
   "execution_count": 13,
   "metadata": {
    "collapsed": true
   },
   "outputs": [],
   "source": [
    "def remove_break(s):\n",
    "    s = re.sub('</br>','', s)\n",
    "    return s"
   ]
  },
  {
   "cell_type": "code",
   "execution_count": 14,
   "metadata": {
    "collapsed": false
   },
   "outputs": [
    {
     "data": {
      "text/plain": [
       "['text',\n",
       " 'NEW YORK -- Yields on most certificates of deposit offered by major banks dropped more than a tenth of a percentage point in the latest week, reflecting the overall decline in short-term interest rates.On small-denomination, or \"consumer,\" CDs sold directly by banks, the average yield on six-month deposits fell to 5.49% from 5.62% in the week ended yesterday, according to an 18-bank survey by Banxquote Money Markets, a Wilmington, Del., information service.On three-month \"consumer\" deposits, the average yield sank to 5.29% from 5.42% the week before, according to Banxquote. Two banks in the Banxquote survey, Citibank in New York and CoreStates in Pennsylvania, are paying less than 5% on threemonth small-denomination CDs.Declines were somewhat smaller on five-year consumer CDs, which eased to 7.37% from 7.45%, Banxquote said.Yields on three-month and six-month Treasury bills sold at Monday\\'s auction plummeted more than a fifth of a percentage point from the previous week, to 5.46% and 5.63%, respectively.',\n",
       " 'The Wall Street Journal OnlineThe Morning Brief, a look at the day\\'s biggest news, is emailed to subscribers by 7 a.m. every business day. Sign up for the e-mail here.On Friday evening, with Congress out of town on its summer recess and Americans heading into a mid-August weekend, the Bush administration sent a message to the states: The federal government will make it tougher for a national children\\'s insurance program to cover the offspring of middle-income families.The State Children\\'s Health Insurance Program was created in 1997 to help children whose families couldn\\'t afford insurance but didn\\'t qualify for Medicaid, and administration officials tell the New York Times that the changes are aimed at returning the program to its low- income focus and assuring it didn\\'t become a replacement for private insurance. Administration point man Dennis Smith wrote to state officials saying there would be new restrictions on the District of Columbia and the 18 states -- including California and New York -- that extend or plan to extend coverage for children whose families make more than 250% of Federal poverty levels. For a family of three that 250% is $42,900, and for a family of four it\\'s $51,625. Under the new limits, a child from a family making more would have to spend one year uninsured before qualifying, and any state that wants to extend coverage would have to assure Washington that at least 95% of children eligible for SCHIP or Medicaid are enrolled in one of the programs. But as the Associated Press reports, no state can currently make such assurances.Rachel Klein, deputy director of health policy for advocacy group Families USA, tells the AP that since many families above the 250% threshold can\\'t afford private insurance, \"the effect of this policy is to have more uninsured kids.\" Ann Clemency Kohler, deputy commissioner of human services in New Jersey, tells the Times the changes \"will cause havoc with our program and could jeopardize coverage for thousands of children.\" States have already been imposing waiting periods and taking other steps to prevent parents from moving their children from private insurance to SCHIP, which currently serves some 6.6 million children, the Washington Post notes. The administration\\'s new restrictions come as the program, which expires at the end of next month if Congress doesn\\'t reauthorize it, is the subject of a larger political fight that pits the White House against Democrats and some Republicans in Congress and state capitals.',\n",
       " \"WASHINGTON -- In an effort to achieve banking reform, Senate negotiators and the Bush administration have agreed to drop efforts to allow banks to expand further into the securities business.The compromise is one of several the Senate Banking Committee is pursuing to remove obstacles its banking bill will face when the Senate starts voting on the measure, perhaps today. The latest version of the House banking bill also drops the administration's proposals to broaden bank entry into the securities business.Last night, the House began its second attempt to pass a banking bill after failing last week, in part because of disagreement over how to allow banks into the securities business. The House adopted on a voice vote provisions that would replenish the bank deposit insurance fund, tighten bank regulation, trim the scope of deposit insurance, and restrict the Federal Reserve Board's ability to keep sick banks alive with loans.But the House delayed until today a vote on an amendment to allow banks to branch nationwide and on final passage of the banking bill to give the House leadership and the administration more time to drum up support for the bill.House Speaker Thomas Foley (D., Wash.) is working hard to win passage of the bill in the face of significant opposition from Rep. John Dingell (D., Mich.), who believes the bill should include provisions imposing stiffer regulation on banks in the securities business.\"]"
      ]
     },
     "execution_count": 14,
     "metadata": {},
     "output_type": "execute_result"
    }
   ],
   "source": [
    "article_text_list_no_breaks = []\n",
    "for i in range(len(article_text_list)):\n",
    "    article_text_list_no_breaks.append(remove_break(article_text_list[i]))\n",
    "article_text_list_no_breaks"
   ]
  },
  {
   "cell_type": "code",
   "execution_count": 15,
   "metadata": {
    "collapsed": true
   },
   "outputs": [],
   "source": [
    "def remove_nt(s):\n",
    "    s = re.sub(\"(n\\\\'t)\",\"not\", s)\n",
    "    return s"
   ]
  },
  {
   "cell_type": "code",
   "execution_count": 16,
   "metadata": {
    "collapsed": false
   },
   "outputs": [
    {
     "data": {
      "text/plain": [
       "['text',\n",
       " 'NEW YORK -- Yields on most certificates of deposit offered by major banks dropped more than a tenth of a percentage point in the latest week, reflecting the overall decline in short-term interest rates.On small-denomination, or \"consumer,\" CDs sold directly by banks, the average yield on six-month deposits fell to 5.49% from 5.62% in the week ended yesterday, according to an 18-bank survey by Banxquote Money Markets, a Wilmington, Del., information service.On three-month \"consumer\" deposits, the average yield sank to 5.29% from 5.42% the week before, according to Banxquote. Two banks in the Banxquote survey, Citibank in New York and CoreStates in Pennsylvania, are paying less than 5% on threemonth small-denomination CDs.Declines were somewhat smaller on five-year consumer CDs, which eased to 7.37% from 7.45%, Banxquote said.Yields on three-month and six-month Treasury bills sold at Monday\\'s auction plummeted more than a fifth of a percentage point from the previous week, to 5.46% and 5.63%, respectively.',\n",
       " 'The Wall Street Journal OnlineThe Morning Brief, a look at the day\\'s biggest news, is emailed to subscribers by 7 a.m. every business day. Sign up for the e-mail here.On Friday evening, with Congress out of town on its summer recess and Americans heading into a mid-August weekend, the Bush administration sent a message to the states: The federal government will make it tougher for a national children\\'s insurance program to cover the offspring of middle-income families.The State Children\\'s Health Insurance Program was created in 1997 to help children whose families couldnot afford insurance but didnot qualify for Medicaid, and administration officials tell the New York Times that the changes are aimed at returning the program to its low- income focus and assuring it didnot become a replacement for private insurance. Administration point man Dennis Smith wrote to state officials saying there would be new restrictions on the District of Columbia and the 18 states -- including California and New York -- that extend or plan to extend coverage for children whose families make more than 250% of Federal poverty levels. For a family of three that 250% is $42,900, and for a family of four it\\'s $51,625. Under the new limits, a child from a family making more would have to spend one year uninsured before qualifying, and any state that wants to extend coverage would have to assure Washington that at least 95% of children eligible for SCHIP or Medicaid are enrolled in one of the programs. But as the Associated Press reports, no state can currently make such assurances.Rachel Klein, deputy director of health policy for advocacy group Families USA, tells the AP that since many families above the 250% threshold canot afford private insurance, \"the effect of this policy is to have more uninsured kids.\" Ann Clemency Kohler, deputy commissioner of human services in New Jersey, tells the Times the changes \"will cause havoc with our program and could jeopardize coverage for thousands of children.\" States have already been imposing waiting periods and taking other steps to prevent parents from moving their children from private insurance to SCHIP, which currently serves some 6.6 million children, the Washington Post notes. The administration\\'s new restrictions come as the program, which expires at the end of next month if Congress doesnot reauthorize it, is the subject of a larger political fight that pits the White House against Democrats and some Republicans in Congress and state capitals.',\n",
       " \"WASHINGTON -- In an effort to achieve banking reform, Senate negotiators and the Bush administration have agreed to drop efforts to allow banks to expand further into the securities business.The compromise is one of several the Senate Banking Committee is pursuing to remove obstacles its banking bill will face when the Senate starts voting on the measure, perhaps today. The latest version of the House banking bill also drops the administration's proposals to broaden bank entry into the securities business.Last night, the House began its second attempt to pass a banking bill after failing last week, in part because of disagreement over how to allow banks into the securities business. The House adopted on a voice vote provisions that would replenish the bank deposit insurance fund, tighten bank regulation, trim the scope of deposit insurance, and restrict the Federal Reserve Board's ability to keep sick banks alive with loans.But the House delayed until today a vote on an amendment to allow banks to branch nationwide and on final passage of the banking bill to give the House leadership and the administration more time to drum up support for the bill.House Speaker Thomas Foley (D., Wash.) is working hard to win passage of the bill in the face of significant opposition from Rep. John Dingell (D., Mich.), who believes the bill should include provisions imposing stiffer regulation on banks in the securities business.\"]"
      ]
     },
     "execution_count": 16,
     "metadata": {},
     "output_type": "execute_result"
    }
   ],
   "source": [
    "article_text_list_no_breaks_nt = []\n",
    "for i in range(len(article_text_list)):\n",
    "    article_text_list_no_breaks_nt.append(remove_nt(article_text_list_no_breaks[i]))\n",
    "article_text_list_no_breaks_nt"
   ]
  },
  {
   "cell_type": "code",
   "execution_count": 17,
   "metadata": {
    "collapsed": true
   },
   "outputs": [],
   "source": [
    "def remove_its(s):\n",
    "    s = re.sub(\"(it\\\\'s)\",\"it is\", s)\n",
    "    return s"
   ]
  },
  {
   "cell_type": "code",
   "execution_count": 18,
   "metadata": {
    "collapsed": false
   },
   "outputs": [
    {
     "data": {
      "text/plain": [
       "['text',\n",
       " 'NEW YORK -- Yields on most certificates of deposit offered by major banks dropped more than a tenth of a percentage point in the latest week, reflecting the overall decline in short-term interest rates.On small-denomination, or \"consumer,\" CDs sold directly by banks, the average yield on six-month deposits fell to 5.49% from 5.62% in the week ended yesterday, according to an 18-bank survey by Banxquote Money Markets, a Wilmington, Del., information service.On three-month \"consumer\" deposits, the average yield sank to 5.29% from 5.42% the week before, according to Banxquote. Two banks in the Banxquote survey, Citibank in New York and CoreStates in Pennsylvania, are paying less than 5% on threemonth small-denomination CDs.Declines were somewhat smaller on five-year consumer CDs, which eased to 7.37% from 7.45%, Banxquote said.Yields on three-month and six-month Treasury bills sold at Monday\\'s auction plummeted more than a fifth of a percentage point from the previous week, to 5.46% and 5.63%, respectively.',\n",
       " 'The Wall Street Journal OnlineThe Morning Brief, a look at the day\\'s biggest news, is emailed to subscribers by 7 a.m. every business day. Sign up for the e-mail here.On Friday evening, with Congress out of town on its summer recess and Americans heading into a mid-August weekend, the Bush administration sent a message to the states: The federal government will make it tougher for a national children\\'s insurance program to cover the offspring of middle-income families.The State Children\\'s Health Insurance Program was created in 1997 to help children whose families couldnot afford insurance but didnot qualify for Medicaid, and administration officials tell the New York Times that the changes are aimed at returning the program to its low- income focus and assuring it didnot become a replacement for private insurance. Administration point man Dennis Smith wrote to state officials saying there would be new restrictions on the District of Columbia and the 18 states -- including California and New York -- that extend or plan to extend coverage for children whose families make more than 250% of Federal poverty levels. For a family of three that 250% is $42,900, and for a family of four it is $51,625. Under the new limits, a child from a family making more would have to spend one year uninsured before qualifying, and any state that wants to extend coverage would have to assure Washington that at least 95% of children eligible for SCHIP or Medicaid are enrolled in one of the programs. But as the Associated Press reports, no state can currently make such assurances.Rachel Klein, deputy director of health policy for advocacy group Families USA, tells the AP that since many families above the 250% threshold canot afford private insurance, \"the effect of this policy is to have more uninsured kids.\" Ann Clemency Kohler, deputy commissioner of human services in New Jersey, tells the Times the changes \"will cause havoc with our program and could jeopardize coverage for thousands of children.\" States have already been imposing waiting periods and taking other steps to prevent parents from moving their children from private insurance to SCHIP, which currently serves some 6.6 million children, the Washington Post notes. The administration\\'s new restrictions come as the program, which expires at the end of next month if Congress doesnot reauthorize it, is the subject of a larger political fight that pits the White House against Democrats and some Republicans in Congress and state capitals.',\n",
       " \"WASHINGTON -- In an effort to achieve banking reform, Senate negotiators and the Bush administration have agreed to drop efforts to allow banks to expand further into the securities business.The compromise is one of several the Senate Banking Committee is pursuing to remove obstacles its banking bill will face when the Senate starts voting on the measure, perhaps today. The latest version of the House banking bill also drops the administration's proposals to broaden bank entry into the securities business.Last night, the House began its second attempt to pass a banking bill after failing last week, in part because of disagreement over how to allow banks into the securities business. The House adopted on a voice vote provisions that would replenish the bank deposit insurance fund, tighten bank regulation, trim the scope of deposit insurance, and restrict the Federal Reserve Board's ability to keep sick banks alive with loans.But the House delayed until today a vote on an amendment to allow banks to branch nationwide and on final passage of the banking bill to give the House leadership and the administration more time to drum up support for the bill.House Speaker Thomas Foley (D., Wash.) is working hard to win passage of the bill in the face of significant opposition from Rep. John Dingell (D., Mich.), who believes the bill should include provisions imposing stiffer regulation on banks in the securities business.\"]"
      ]
     },
     "execution_count": 18,
     "metadata": {},
     "output_type": "execute_result"
    }
   ],
   "source": [
    "article_text_list_no_breaks_is = []\n",
    "for i in range(len(article_text_list)):\n",
    "    article_text_list_no_breaks_is.append(remove_its(article_text_list_no_breaks_nt[i]))\n",
    "article_text_list_no_breaks_is"
   ]
  },
  {
   "cell_type": "code",
   "execution_count": 19,
   "metadata": {
    "collapsed": true
   },
   "outputs": [],
   "source": [
    "def remove_slash_s(s):\n",
    "    s = re.sub(\"(\\\\'s)\",\"s\", s)\n",
    "    return s"
   ]
  },
  {
   "cell_type": "code",
   "execution_count": 20,
   "metadata": {
    "collapsed": false
   },
   "outputs": [
    {
     "data": {
      "text/plain": [
       "['text',\n",
       " 'NEW YORK -- Yields on most certificates of deposit offered by major banks dropped more than a tenth of a percentage point in the latest week, reflecting the overall decline in short-term interest rates.On small-denomination, or \"consumer,\" CDs sold directly by banks, the average yield on six-month deposits fell to 5.49% from 5.62% in the week ended yesterday, according to an 18-bank survey by Banxquote Money Markets, a Wilmington, Del., information service.On three-month \"consumer\" deposits, the average yield sank to 5.29% from 5.42% the week before, according to Banxquote. Two banks in the Banxquote survey, Citibank in New York and CoreStates in Pennsylvania, are paying less than 5% on threemonth small-denomination CDs.Declines were somewhat smaller on five-year consumer CDs, which eased to 7.37% from 7.45%, Banxquote said.Yields on three-month and six-month Treasury bills sold at Mondays auction plummeted more than a fifth of a percentage point from the previous week, to 5.46% and 5.63%, respectively.',\n",
       " 'The Wall Street Journal OnlineThe Morning Brief, a look at the days biggest news, is emailed to subscribers by 7 a.m. every business day. Sign up for the e-mail here.On Friday evening, with Congress out of town on its summer recess and Americans heading into a mid-August weekend, the Bush administration sent a message to the states: The federal government will make it tougher for a national childrens insurance program to cover the offspring of middle-income families.The State Childrens Health Insurance Program was created in 1997 to help children whose families couldnot afford insurance but didnot qualify for Medicaid, and administration officials tell the New York Times that the changes are aimed at returning the program to its low- income focus and assuring it didnot become a replacement for private insurance. Administration point man Dennis Smith wrote to state officials saying there would be new restrictions on the District of Columbia and the 18 states -- including California and New York -- that extend or plan to extend coverage for children whose families make more than 250% of Federal poverty levels. For a family of three that 250% is $42,900, and for a family of four it is $51,625. Under the new limits, a child from a family making more would have to spend one year uninsured before qualifying, and any state that wants to extend coverage would have to assure Washington that at least 95% of children eligible for SCHIP or Medicaid are enrolled in one of the programs. But as the Associated Press reports, no state can currently make such assurances.Rachel Klein, deputy director of health policy for advocacy group Families USA, tells the AP that since many families above the 250% threshold canot afford private insurance, \"the effect of this policy is to have more uninsured kids.\" Ann Clemency Kohler, deputy commissioner of human services in New Jersey, tells the Times the changes \"will cause havoc with our program and could jeopardize coverage for thousands of children.\" States have already been imposing waiting periods and taking other steps to prevent parents from moving their children from private insurance to SCHIP, which currently serves some 6.6 million children, the Washington Post notes. The administrations new restrictions come as the program, which expires at the end of next month if Congress doesnot reauthorize it, is the subject of a larger political fight that pits the White House against Democrats and some Republicans in Congress and state capitals.',\n",
       " 'WASHINGTON -- In an effort to achieve banking reform, Senate negotiators and the Bush administration have agreed to drop efforts to allow banks to expand further into the securities business.The compromise is one of several the Senate Banking Committee is pursuing to remove obstacles its banking bill will face when the Senate starts voting on the measure, perhaps today. The latest version of the House banking bill also drops the administrations proposals to broaden bank entry into the securities business.Last night, the House began its second attempt to pass a banking bill after failing last week, in part because of disagreement over how to allow banks into the securities business. The House adopted on a voice vote provisions that would replenish the bank deposit insurance fund, tighten bank regulation, trim the scope of deposit insurance, and restrict the Federal Reserve Boards ability to keep sick banks alive with loans.But the House delayed until today a vote on an amendment to allow banks to branch nationwide and on final passage of the banking bill to give the House leadership and the administration more time to drum up support for the bill.House Speaker Thomas Foley (D., Wash.) is working hard to win passage of the bill in the face of significant opposition from Rep. John Dingell (D., Mich.), who believes the bill should include provisions imposing stiffer regulation on banks in the securities business.']"
      ]
     },
     "execution_count": 20,
     "metadata": {},
     "output_type": "execute_result"
    }
   ],
   "source": [
    "article_text_list_no_breaks_slash = []\n",
    "for i in range(len(article_text_list)):\n",
    "    article_text_list_no_breaks_slash.append(remove_slash_s(article_text_list_no_breaks_is[i]))\n",
    "article_text_list_no_breaks_slash"
   ]
  },
  {
   "cell_type": "code",
   "execution_count": null,
   "metadata": {
    "collapsed": true
   },
   "outputs": [],
   "source": []
  }
 ],
 "metadata": {
  "kernelspec": {
   "display_name": "Python [nlp]",
   "language": "python",
   "name": "Python [nlp]"
  },
  "language_info": {
   "codemirror_mode": {
    "name": "ipython",
    "version": 3
   },
   "file_extension": ".py",
   "mimetype": "text/x-python",
   "name": "python",
   "nbconvert_exporter": "python",
   "pygments_lexer": "ipython3",
   "version": "3.5.2"
  }
 },
 "nbformat": 4,
 "nbformat_minor": 0
}
